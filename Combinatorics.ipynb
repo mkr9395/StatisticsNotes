{
 "cells": [
  {
   "cell_type": "markdown",
   "id": "e32a3e0e",
   "metadata": {},
   "source": [
    "# Probability\n",
    "\n",
    "Probability is the chance of something happening, a more academic definition for this would be the likelihood of an event occurring.\n",
    "\n",
    "An event is a specific outcome or a combination of several outcomes. These outcomes can be pretty much anything.\n",
    "\n",
    "Having a probability of one expresses absolute certainty of the event occurring and a probability of zero expresses absolute certainty of the event not occurring. You probably figured this out, but higher probability values indicate a higher likelihood."
   ]
  },
  {
   "cell_type": "markdown",
   "id": "270f72b3",
   "metadata": {},
   "source": [
    "$ A = event $\n",
    "\n",
    "$ P(A) = probability $\n",
    "              \n",
    "$$P(A) = \\frac{Preferred\\;(favourable)}{All\\;(sample\\;space)}$$\n"
   ]
  },
  {
   "cell_type": "markdown",
   "id": "2550b67e",
   "metadata": {},
   "source": [
    "**The probability of two independent events occurring at the same time is equal to the product of all the probabilities of the individual events.**\n",
    "\n",
    "$$ P(A\\;and\\;B) = P(A) . P(B)$$\n",
    "\n",
    "eg: The likelihood of getting the ace of spades = (the probability of getting an ace) **times** (the probability of getting a spade.)"
   ]
  },
  {
   "cell_type": "markdown",
   "id": "cbd90f71",
   "metadata": {},
   "source": [
    "**Q. Why do we express probabilities numerically?**\n",
    "\n",
    "Our goal is to be able to compare the probabilities of events and determine which is the relatively more likely outcome. "
   ]
  },
  {
   "cell_type": "markdown",
   "id": "2e3da782",
   "metadata": {},
   "source": [
    "**Experimental Probabilities :** The probabilities we get after conducting experiments.\n",
    "whereas the ones we introduced earlier were theoretical or true probabilities.\n",
    "\n",
    "The experimental probabilities we get are not always equal to the theoretical ones, but are a good approximation.\n",
    "       \n",
    "$$P(A) = \\frac{Successful\\;trials}{All\\;trials}$$"
   ]
  },
  {
   "cell_type": "markdown",
   "id": "60b6ef2f",
   "metadata": {},
   "source": [
    "**Q. Why do we use experimental probabilities?**\n",
    "\n",
    "Because they are easy to compute and serve as good predictors for theoretical ones"
   ]
  },
  {
   "cell_type": "markdown",
   "id": "a87874b3",
   "metadata": {},
   "source": [
    "**Expected value E(A) :** It is used to predict future events. It is The average outcome we expect if we run an experiment many times.\n",
    "\n",
    "The expected value of an event A denoted **E(A)** is the outcome we expect to occur when we run an experiment.\n",
    "\n",
    "We can use expected values to make predictions about the future based on past data. \n",
    "\n",
    "eg: *We frequently make predictions using intervals instead of specific values due to the uncertainty the future brings.*\n",
    "Meteorologists often use these when forecasting the weather, they do not know exactly how much snow,rain or wind there's going to be, so they provide us with likely intervals That is why we often hear statements like expect between three and five feet of snow tomorrow morning or temperatures rising up to 90 degrees on Wednesday."
   ]
  },
  {
   "cell_type": "markdown",
   "id": "b859b332",
   "metadata": {},
   "source": [
    "**For Categorical Outcome :**\n",
    "\n",
    "For an event with categorical outcomes like suits, we calculate the expected value by multiplying the theoretical probability of the event P(A)  by the number of trials we carried out in (n).\n",
    "\n",
    "**E(A) = P(A) * n**"
   ]
  },
  {
   "cell_type": "markdown",
   "id": "07ee77b0",
   "metadata": {},
   "source": [
    "**Numerical outcome :**\n",
    "\n",
    "**A + B + C =  P(A) . A +  P(B) . B +  P(C) . C**\n",
    "\n",
    "We take the value for every element in the sample space and multiply it by its probability, then we add all of those up to get the expected value."
   ]
  },
  {
   "cell_type": "markdown",
   "id": "0cfe303c",
   "metadata": {},
   "source": [
    "**Q. Why do we use intervals when forecasting future events?**\n",
    "\n",
    "1. because the expected value might have a low probability of occuring.\n",
    "2. because we want to increase the likelihood of our predictions being accurate.\n",
    "3. because the expected value could not be attainable."
   ]
  },
  {
   "cell_type": "markdown",
   "id": "f23474cf",
   "metadata": {},
   "source": [
    "#### Frequency\n",
    "**What does the “frequency” of a value within the sample space represent?**\n",
    "\n",
    "The number of times the value features in a sample space."
   ]
  },
  {
   "cell_type": "markdown",
   "id": "48eb789c",
   "metadata": {},
   "source": [
    "**Probability frequency distribution**\n",
    "\n",
    "a collection of the probabilities for each possible outcome and how often they occur. It is usually presented through *Graphs or Tables*\n",
    "\n",
    "*Transforming the frequency of each outcome into a probability:* <br>Knowing the size of the sample space, we can determine the true probabilities for each outcome. We simply divide the frequency for each possible outcome by the size of the sample space."
   ]
  },
  {
   "cell_type": "markdown",
   "id": "69104f1b",
   "metadata": {},
   "source": [
    "**Note :** When making predictions, we generally want our interval to have the highest probability we can see that the individual outcomes with the highest probability are the ones with the highest bars in the graph, usually the highest bars will form around the expected value. Thus the values around it would also be the values with the highest probability.\n",
    "\n",
    "This suggests that if we want the interval with the highest probability, we should construct it around the expected value."
   ]
  },
  {
   "cell_type": "markdown",
   "id": "0b5c0657",
   "metadata": {},
   "source": [
    "**Q.  2 standard six-sided dice, why is the probability of rolling a sum of 7 equal to one sixth?**\n",
    "\n",
    "There are 6 favourable outcomes out of 36 outcomes in the sample space so the favourable over all the formula results in 6/36 or simply 1/6 "
   ]
  },
  {
   "cell_type": "markdown",
   "id": "d938dce7",
   "metadata": {},
   "source": [
    "**Compliment P(A') :**\n",
    "a compliment of an event is everything.\n",
    "\n",
    "$P(A') = 1-P(A)$\n",
    "\n",
    "Compliment of compliment is the event itself. $P(A')' = P(A)$\n",
    "<br>eg: What is the complement of NOT rolling a 3?</br>\n",
    "Ans - Rolling a 3.\n",
    "\n",
    "\n"
   ]
  },
  {
   "cell_type": "markdown",
   "id": "9ff4cfc5",
   "metadata": {},
   "source": [
    "sum of probabilitites of A & B = P(A) + P(B)\n",
    "\n",
    "if $P(A) + P(B) + P(C) = 1$ then, we are 100% sure this event will occur"
   ]
  },
  {
   "cell_type": "markdown",
   "id": "8b9dce75",
   "metadata": {},
   "source": [
    "# Combinatorics\n",
    "## Permutation\n",
    "\n",
    "Permutations, represents the number of different possible ways we can arrange **entire** set of elements. These elements can be digits, letters, objects or even people. **Here we are just arranging, not picking. Here n = p**\n",
    "\n",
    "Permutation refers to the different ways of arranging a set of objects in a sequential order.\n",
    "\n",
    "**In permutations the order in which choices are made is of utmost importance.**\n",
    "\n",
    "Formula for permutaion is **n! or p!**\n",
    "\n",
    "$$P_n = n * (n-1) * (n-2) * .........* 1 = n! \\;\\;\\;or\\;\\;\\; p!$$ "
   ]
  },
  {
   "cell_type": "markdown",
   "id": "008b9e3e",
   "metadata": {},
   "source": [
    "### Factorials\n",
    "\n",
    "$$n!\\;=\\;n\\;*\\;(n-1)!$$\n",
    "n! = Product of the natural number from 1 to n.\n",
    "\n",
    ">Negative numbers don't have factorials.\n",
    "\n",
    "> 0! = 1\n",
    "\n",
    "\n",
    "$$(n+1)! = n!*(n+1)$$\n",
    "$$eg: 7! = 6!*7$$"
   ]
  },
  {
   "cell_type": "markdown",
   "id": "dc25ecf0",
   "metadata": {},
   "source": [
    "### $(n + k)!\\;and\\;(n - k)!$\n",
    "\n",
    "$A/Q\\;\\;(n+k)!$ \n",
    "$$(n+k)! = n! * (n+1) * (n+2) * (n+3) ......... * (n+k)$$\n",
    " \n",
    "<br>$$So\\;if\\;\\; n = 5 , k = 2$$</br>\n",
    "\n",
    " \n",
    "$$7! = 5!* 6 * 7$$\n",
    "\n",
    "***\n",
    "\n",
    "$A/Q\\;\\;(n-k)!$ \n",
    "$$(n-k)! = \\frac{n!}{(n-k+1) * (n-k+2) *.......* (n)} $$\n",
    " \n",
    "<br>$$ So\\;if\\;\\; n = 5 , k = 2 $$</br>\n",
    "\n",
    " \n",
    "$$3! \\;= \\frac{5!}{(4*5)}$$\n"
   ]
  },
  {
   "cell_type": "markdown",
   "id": "d131a7a3",
   "metadata": {},
   "source": [
    "## Variations \n",
    "Variations express the total number of ways we can pick and arrange some elements of a given set.\n",
    "<br>**<br>In Variations the order in which choices are made is of utmost importance.<br>**</br>"
   ]
  },
  {
   "cell_type": "markdown",
   "id": "ed7f6180",
   "metadata": {},
   "source": [
    "n = the total number of elements, we have available\n",
    "\n",
    "r = the number of positions we need to fill\n",
    "\n",
    "\n",
    "<br>$$Variation \\; with \\; repition = n^r$$</br>\n",
    "\n",
    "The number of variations with repetition when picking r-many elements out of n elements, is equal to **n** to the power of **r**\n",
    "\n",
    "\n",
    "$$Variation \\; without \\;repition = \\frac{n!}{(n-r)!}$$ \n",
    "\n",
    "$$OR$$\n",
    "\n",
    "$$Variation\\;(^nP_r)\\;=\\;^nC_r * r!$$\n",
    "\n",
    "$$\\Longrightarrow\\;^nP_r\\; = \\frac{n!}{r!*(n-r)!}\\;*\\; r!$$\n",
    "\n",
    "$$\\Longrightarrow\\;^nP_r\\; = \\frac{n!}{(n-r)!}\\;$$\n",
    "\n",
    "<br>The number of variations without repitition when arranging **p** elements out of **n**</br>\n",
    "<br></br>\n",
    "**Q. Out of 7 We need to choose 4 of them and arrange them in what order to run, but in how many ways can we accomplish that?** \n",
    "\n",
    "In this case, we can plug in 7 for n and 4 for p into the formula. \n",
    "\n",
    "Then, $\\frac{n!}{(n-p)!} = \\frac{7!}{(7-4)!}$, which is just $\\frac{7!}{3!}$."
   ]
  },
  {
   "cell_type": "markdown",
   "id": "24d59378",
   "metadata": {},
   "source": [
    "**Q. When do we use Variations instead of Permutations?**\n",
    "\n",
    "We use Variations when we have to first pick and then arrange some (but not all) elements of the sample space. in Variation we are not arranging all elements in the sample space."
   ]
  },
  {
   "cell_type": "markdown",
   "id": "800379ba",
   "metadata": {},
   "source": [
    "## Combinations\n",
    "\n",
    "Combinations are the number of different ways we can pick certain elements of a set. \n",
    "<br>Basically selecting 4 people out of 7 people. i.e $^7C_4$ where 7 is n and 4 is p.</br>\n",
    "\n",
    "**Here Order is not important.** we are just concerned about choosing any number of things from the lot without giving any precedence to the order.\n",
    "\n",
    "### Combination =  $ \\frac{Variation}{Permutation} $\n",
    "$$Combination = \\frac{n!}{r!(n-r)!}$$ \n",
    "\n",
    "\n",
    "eg: All possible combinations chosen with letter m, n, o. When three out of three letters are to be selected, then the only combination is mno. When two out of three letters are to be selected, then the possible combinations are mn, no, om. **It doesnot consider the different repition of elements.**"
   ]
  },
  {
   "cell_type": "markdown",
   "id": "31ef4c2e",
   "metadata": {},
   "source": [
    "**eg: Selecting 3 people out of 10:**\n",
    "\n",
    "$Variation =\\frac{n!}{(n-p)!} = 720$\n",
    "\n",
    "<br>$i.e. (10*9*8 = 720)$\n",
    "\n",
    "but here we are counting every group of 3 people several times i.e Choosing Sarah, Alex and Dave is exactly the same as choosing Sarah, Dave and Alex, Dave, Sarah and Alex, Dave, Alex and Sarah, Alex, Dave and Sarah or Alex, Sarah and Dave.\n",
    "Any of the six permutations we wrote is a different variation, but not a different combination. That is what we meant when we said that combinations take into account double counting.\n",
    "\n",
    "Variations don't take into account double counting elements.\n",
    "<br>That is where combinations step in.\n",
    "\n",
    "We can say that all the different permutations of a single combination are different variations.\n",
    "\n",
    "So choosing 3 people we have $p!$ $permutation.$ i.e $3! = 6$ permutations for Alex,Dave and Sarah.\n",
    "<br> We have 6 variation for any combination\n",
    "\n",
    "$Combination = 720/6 = 120$ ways of choosing who represents the company. \n",
    "\n"
   ]
  },
  {
   "cell_type": "markdown",
   "id": "2c4709c6",
   "metadata": {},
   "source": [
    "We can say that all the different permutations of a single combination are different variations, there are six permutations, 120 combinations and 720 variations. <br>\n",
    "\n",
    "\n",
    "</br>"
   ]
  },
  {
   "cell_type": "markdown",
   "id": "59787c30",
   "metadata": {},
   "source": [
    "**Combination with repetition**\n",
    "\n",
    "$$\\frac{(n+r-1)!}{r!(n-1)}$$\n"
   ]
  },
  {
   "cell_type": "markdown",
   "id": "fdd3235f",
   "metadata": {},
   "source": [
    "### Difference between Variation and Combination: \n",
    "\n",
    "Variation is the total number of ways we can **pick & arrange some elements of a given set. It can be with (or) without Repetitions.**\n",
    "\n",
    "Combination is the number of different ways we can **pick certain element of a set.**\n",
    "Also the order in which the elements needs to be selected is also not important"
   ]
  },
  {
   "cell_type": "markdown",
   "id": "09935585",
   "metadata": {},
   "source": [
    "**Q. Imagine you are on a trip to Paris and decide to try some of their famous macaroons. The bakery you go to offers a different size “variety” packs, where you get to choose 3, 5 or 8 macaroons. The only requirement is that they all be different flavors.**\n",
    "\n",
    "**How many different 3-macaroon packs can you get, considering there are 8 distinct flavors.**\n",
    "\n",
    "\n",
    "Since it makes no difference to us what order they put the macarons in the box, we are dealing with combinations instead of variations. There are 8 distinct flavours, but we are only getting 3 macarons. Then n is 8 and p is 3, so we plug these values into the formula from this lecture to get \n",
    "$$\\frac{n!}{r!(n-r)!}= \\frac{8!}{3!*5!}$$\n"
   ]
  },
  {
   "cell_type": "markdown",
   "id": "25f99301",
   "metadata": {},
   "source": [
    "**Q. Now imagine you want to get the medium pack which contains 5 macaroons instead of 3. How many different possible packs can you make?**\n",
    "\n",
    "Just like the last question, it makes no difference to us what order they put the macaroons in the box, we are dealing with combinations. There are 8 distinct flavors, but we are only getting 5 macaroons. Then n is 8 and p is 5, so we plug these values into the formula from this lecture to get \n",
    "$$\\frac{n!}{p!(n-p)!}= \\frac{8!}{3!*5!}$$"
   ]
  },
  {
   "cell_type": "markdown",
   "id": "5f9dec66",
   "metadata": {},
   "source": [
    "**Q. Now imagine the same scenario but this time you want the large box of 8 macaroons. How many different variety packs can you get?**\n",
    "\n",
    "If we plug in 8 for both n and p, we get that there are $\\frac{n!}{p!*(n-p)!}\\;=\\; \\frac{8!}{(8!*0!)}$ different variety packs of 8 macrons. Since 0!=1, 8!/(8!0!)=8!/8! , which is just 1. Because we have only 1 way of getting 8 macrons with different flavors considering we only have 8 distinct fillings."
   ]
  },
  {
   "cell_type": "markdown",
   "id": "db17e5aa",
   "metadata": {},
   "source": [
    "### Symmetry\n",
    "\n",
    "Symmetry is used to avoid calculating factorials of large numbers. \n",
    "\n",
    "$$ When\\;\\;p> \\frac{n}{2} > (n-p)$$\n",
    "\n",
    "We had to select three of our 10 employees to represent the company at a conference.There are 120 possible selections.\n",
    "\n",
    "We would also have 120 different ways of picking seven employees. That's because picking seven out of 10 employees to take to the conference is the same as choosing three out of 10 to leave behind."
   ]
  },
  {
   "cell_type": "markdown",
   "id": "21b6296e",
   "metadata": {},
   "source": [
    "**Q.Imagine your company is trying to gain customers by running an online ad campaign. The idea is to focus on a certain demographic which frequently uses social media. Your campaign will run ads on Facebook, Messenger, Instagram, Twitter and Reddit. Your graphical designers have created 8 different versions of the banner you can use. Based on this information:**\n",
    "\n",
    "\n",
    "**Q1.Calculate how many different options you have for the entire campaign, assuming you want to use a different one for each platform.**\n",
    "\n",
    "Using different banners for each platform means we can think of each social media platform as a different position. Hence, we are going to be dealing with Variations = $8*7*6*5*4 = 6720$\n",
    "\n",
    "\n",
    "**Q2. Calculate how many different options you have for the entire campaign, assuming you can use the same banner for some or all the platforms.**\n",
    "\n",
    "$8^5 = 32768$\n",
    "\n",
    "**Q3. Calculate how many ways we can pick which of the 8 banners to use, assuming we use different ones for each platform.**\n",
    "\n",
    "We need to select 5 out of the 8 banners to use.\n",
    "$^8C_5$\n",
    "\n",
    "We use different ones for each platform, so repetition is not allowed. Hence, we use the formula for Combinations without repetition.\n",
    "\n",
    "$$\\frac{8*7*6*5!}{5!*3!} \\Longrightarrow\\;\\frac{8*7*6}{3*2} = 56$$\n",
    "\n",
    "\n",
    "**Q4. Calculate how many ways we can pick which of the 8 banners to use, assuming we can use each one multiple times.**\n",
    "\n",
    "Now, we need to select 5 out of the 8 banners to use. However, we can choose some multiple times. Therefore, we need to use Combinations with repetition\n",
    "\n",
    "$$\\frac{(n+r-1)!}{r!(n-1)} = \\frac{8*9*10*11*12}{1*2*3*4*5} = 792$$\n",
    "\n",
    "In this case, it is vital to not only know which banners we are using, but also to know how many times we are using each one, so we can assign them accordingly."
   ]
  },
  {
   "cell_type": "markdown",
   "id": "67c6c61a",
   "metadata": {},
   "source": [
    "### Sets and Events\n",
    "\n",
    "Every *event* has a *set of outcomes* that satisfy it. These are the favorable outcomes.\n",
    "\n",
    "* Sets are denoted by Uppercase $\\Longrightarrow$ \"X\"\n",
    "* Elements are denoted by Lower-case $\\Longrightarrow$ \"x\"\n",
    "<br></br>\n",
    "* **Empty set or Null set:** An empty set denoted by $\\emptyset$ \n",
    "* **Non- Empty sets** can be finite or infinite\n",
    "\n",
    "<br></br>\n",
    "* An element being part of a set is denoted by  $\"x\\; \\in \\;A\"$  where x is the element and A is the entire set.\n",
    "\n",
    "**As for all or for any $\"\\forall\"$**\n",
    "\n",
    "* **for all x in A** $\\rightarrow \"\\forall\\; x \\in A \"$\n",
    "\n",
    "**' : '** is used for such that.\n",
    "\n",
    "* **for all x in A such x is even** $\\rightarrow \"\\forall\\; x \\in A : x\\;is\\;even \"$"
   ]
  },
  {
   "cell_type": "markdown",
   "id": "8eace398",
   "metadata": {},
   "source": [
    "**Subset:** \n",
    "<br>subset is a set that is fully contained in another set. If every element of A is also an element of B, then A is a subset of B, we denote that with A subset B.\n",
    "$$A\\subset B$$\n",
    "\n",
    "**Every set contains at least two subsets itself and the null set.**\n",
    "\n",
    "$A\\subset A\\;\\; and\\;\\;  \\emptyset \\subset A$"
   ]
  },
  {
   "cell_type": "markdown",
   "id": "32301d5f",
   "metadata": {},
   "source": [
    ">**Note :** There always exist a set of outcomes that satisfy a given event. Because the null set exists, even the outcomes of an impossible event can be described with a set."
   ]
  },
  {
   "cell_type": "markdown",
   "id": "f51b986c",
   "metadata": {},
   "source": [
    "#### Types of Venn Diagram:\n",
    "\n",
    "* **If the two circles never touch :** then the two events can never happen simultaneously, essentially event A occurring guarantees that Event B is not occurring and vice versa.\n",
    "<br>eg: If we get a heart, we can't get a diamond and if we get a diamond, we can't get a heart since each card has exactly one suit.\n",
    "<br></br>\n",
    "* **If two circles are intersecting :** if these circles intersect, it means that the two events can occur at the same time.\n",
    "<br>eg:Event A is drawing a diamond and Event B is drawing a queen. The area where they intersect will be represented solely by the queen of diamonds.\n",
    "<br></br>\n",
    "* **If one circle completely overlaps another :** One event can only ever occur if the other one does as well.\n",
    "<br>eg: Event A could be drawing a red card and event B could be drawing a diamond.The circle of B is completely contained inside, so we can only ever get a diamond if we get a red card. Notice that if the card we drew is black, it cannot be a diamond. Thus, if Event A does not occur,then neither does event B.\n",
    "<br> However, because we can draw heart, it is possible to get a red card that isn't a diamond. *Therefore, event B not occurring does not guarantee event A not occurring.*\n",
    "    \n",
    "    **Note:** if Event A does not occur, then neither does event B. in short if an outcome is not part of a set, it cannot be part of any of its subsets, however, an outcome, not being part of some subset does not excluded from the entirety of the greater set</br>\n",
    "\n"
   ]
  },
  {
   "cell_type": "markdown",
   "id": "57a8bac5",
   "metadata": {},
   "source": [
    "#### INTERSECTION\n",
    "\n",
    "When we want both A and B to happen at the same time, we are talking about their intersection, GraphicLy, the intersection is exactly as the name suggests, the area where these events intersect.It consists of all the outcomes that are favorable for both Event A and Event B simultaneously, as we denoted as A, Intersect B.\n",
    "\n",
    "$$A \\cap B $$\n",
    "\n",
    "eg: With red cards and diamonds, the intersection of the two would simply be all diamonds.That is because any diamond is simultaneously red and a diamond.\n",
    "\n",
    "We would write this as A intersect B equals B. ie. $A \\cap B \\; = \\; B $\n",
    "\n",
    "\n",
    "We use intersections only when we want to denote instances where both events A and B happen simultaneously."
   ]
  },
  {
   "cell_type": "markdown",
   "id": "df241f9c",
   "metadata": {},
   "source": [
    "#### Diagram is different"
   ]
  },
  {
   "cell_type": "code",
   "execution_count": 4,
   "id": "a193e3e9",
   "metadata": {},
   "outputs": [
    {
     "data": {
      "image/png": "[encoded data removed]",
      "text/plain": [
       "<PIL.Image.Image image mode=RGBA size=400x300 at 0x22DB39D8370>"
      ]
     },
     "execution_count": 4,
     "metadata": {},
     "output_type": "execute_result"
    }
   ],
   "source": [
    "intersection = Image.open('C://Users//Mohit.Kumar//Pictures//DS//intersection.png')\n",
    "intersection.resize((400,300))"
   ]
  },
  {
   "cell_type": "markdown",
   "id": "237ccfea",
   "metadata": {},
   "source": [
    "#### UNION\n",
    "\n",
    "The union of two sets is a combination of **all** outcomes preferred for either A or B.\n",
    "\n",
    "$$A \\cup B\\;\\;or\\;\\;B \\cup A$$\n",
    "\n",
    "*Types of Union:*\n",
    "*  **If the sets A and B do not touch at all :** Then their intersection would be the empty set. $A\\cap B = \\emptyset$ Therefore, their union will be their sum $A \\cup B = A\\; + \\; B$ \n",
    "<br>Intuitively this makes sense. No element is in both sets simultaneously.So we do not need to worry about double counting.</br>\n",
    "\n",
    "\n",
    "* **If the events intersect:**  The area of the union is represented by the sum of the two assets minus their intersection, \n",
    "<br>$A \\cup B = A+B\\;\\;-\\;A\\cap B$</br>\n",
    "<br>That is because if we simply add up the area of the two sets, we would be double counting every element that is part of the intersection.</br>\n",
    "<br>eg: five people in the office have blond hair. Four people have blue eyes and only Kate has both. Therefore, there are only three non blond people with blue eyes and four blonde people with non blue eyes. Thus, the union of blond and blue eyed colleagues is the sum of people who have precisely one of the two features, as well as Kate, who has both.</br>\n",
    "\n",
    "\n",
    "* **If one event is inside another :** if B is a subset of A, well, in that case, the union would simply be the entire set A. $A \\cup B = A$"
   ]
  },
  {
   "cell_type": "code",
   "execution_count": 5,
   "id": "d368caf5",
   "metadata": {},
   "outputs": [
    {
     "data": {
      "image/png": "[encoded data removed]",
      "text/plain": [
       "<PIL.Image.Image image mode=RGBA size=400x300 at 0x22DB3A52430>"
      ]
     },
     "execution_count": 5,
     "metadata": {},
     "output_type": "execute_result"
    }
   ],
   "source": [
    "union = Image.open('C://Users//Mohit.Kumar//Pictures//DS//union.png')\n",
    "union.resize((400,300))"
   ]
  },
  {
   "cell_type": "markdown",
   "id": "dd0b2b75",
   "metadata": {},
   "source": [
    "**Q. There are 8 blond and 10 brown-eyed people in the office. If only Jason and Eve have both features, how many people represent the union of blond and brown-eyed people?**\n",
    "\n",
    "**Ans - 18-2 = 16**\n",
    "\n",
    "<br>$A \\cup B = A+B\\;\\;-\\;A\\cap B$</br>\n",
    "$A \\cup B = 16$ \n",
    "<br>$A+B = 18$</br>\n",
    "$A \\cap B = 2$"
   ]
  },
  {
   "cell_type": "markdown",
   "id": "c222c8b9",
   "metadata": {},
   "source": [
    "#### MUTUALLY EXCLUSIVE SETS \n",
    "\n",
    "Mutually exclusive sets are sets which are not allowed to have any overlapping elements. Graphically, their circles never intersect. i.e **They cannot both occur at the same time**\n",
    "\n",
    "eg: tossing a coin - head and tails cannot come at same time \n",
    "\n",
    "\n",
    "Mutually exclusive sets have the empty set as their intersection.Therefore, if the intersection of any number of sets is the empty set, then they must be mutually exclusive and vice versa.\n",
    "\n",
    "About their Union : If some sets are mutually exclusive, their union is simply the sum of all separate individual sets.\n",
    "$$A \\cup B = A+B$$\n",
    "<br></br>\n",
    "\n",
    "#### Compliments of sets\n",
    "\n",
    "All values that are part of the sample space but not part of the set.\n",
    "\n",
    "**NOTE:** **Compliments are always mutually exclusive. However, not all mutually exclusive sets are compliments.**\n",
    "<br>eg: For instance, imagine A is the set of all even numbers, and B is the set of all numbers ending in five. We know that any number ending with five is odd, so these two sets are definitely mutually exclusive. However, the complement of all even is all odd and not just the ones ending with five. Therefore, a number like 13 would be part of the complement, but not the set B.</br>\n",
    "\n"
   ]
  },
  {
   "cell_type": "markdown",
   "id": "d0a3a52c",
   "metadata": {},
   "source": [
    "**Example for mutually exclusive, but not complements:**\n",
    "\n",
    "A : Winning a Game.\n",
    "<br>B : Drawing a Game.</br>\n",
    "\n",
    "Because you can not simultaneously win and draw the same game. However, you can also lose this game, so the two are not complements.\n"
   ]
  },
  {
   "cell_type": "markdown",
   "id": "42e5f5ce",
   "metadata": {},
   "source": [
    "#### DEPENDENT & INDEPENDENT EVENTS\n",
    "* <b>Independent Events : </b> The theoretical probability remains unaffected by other events. eg: Fliping a coin or rolling a dice\n",
    "* <b>Dependent Events : </b> Probabilities of dependent events vary as conditions change. eg: Taking out a marble from a bag of 5 different marbles.\n",
    "<br></br>\n",
    "##### CONDITIONAL PROBABILITY : \n",
    "The probability of getting A, if we are given that B has already occured $P(A|B)$ .\n",
    "<br>We use it to distinguish dependent from independent events.</br>\n",
    "<br>eg: A $\\rightarrow$ drawing Queen of spades.\n",
    "    <br>B $\\rightarrow$ is drawing a spade.\n",
    "<br>Therefore, $P(A|B)$ would represent the probability of drawing the queen of spades if we know the card is a spade. We already calculated this earlier, so P(A) given B equals $\\frac{1}{13}$.\n",
    "\n",
    ">**NOTE:** If When A and B are independent, then $P(A|B) = P(A)\\;and\\;P(B|A) = P(B)$"
   ]
  },
  {
   "cell_type": "markdown",
   "id": "145f72a7",
   "metadata": {},
   "source": [
    ">If two events are **Independent** then the probability of their intersection i.e. Probability(A and B) is the product of their individual probability.  $$\\longrightarrow P(A\\cap B) = P(A)* P(B)$$ "
   ]
  },
  {
   "cell_type": "markdown",
   "id": "c147c5fe",
   "metadata": {},
   "source": [
    "eg: Queen of spades \n",
    "\n",
    "* A$\\rightarrow$ represented drawing the exact card i.e. Queen of Spade \n",
    "* B$\\rightarrow$ drawing the correct suit i.e Spade\n",
    "* C$\\rightarrow$ represented getting a Queen\n",
    "\n",
    "Therefore, P(A) given B i.e. $P(A|B)$ would represent the probability of drawing the queen of spades if we know the card is a spade is $\\frac{1}{13}$\n",
    "\n",
    "\n",
    "Event C represents getting a queen, then $P(A|C)$ expresses the likelihood of getting the queen of spades, assuming we drew a queen. Thus $P(A|C) = \\frac{1}{4}$.\n",
    "\n",
    "we call this probability the conditional probability, and we use it to distinguish dependent from independent events.\n",
    "\n",
    "\n",
    "<br>Normally, the probability of drawing the queen of spades $P(A) = \\frac{1}{52}$ however, it increases if we know it's a spade $P(A|B) = \\frac{1}{13}$ , we can say the two events are **dependent as they are not equal.**\n",
    "\n",
    "Similarly, because the probability of drawing our desired card alters, if we know it is a queen, we can say A and C are also dependent as both have queens."
   ]
  },
  {
   "cell_type": "markdown",
   "id": "d8dc8e84",
   "metadata": {},
   "source": [
    "#### Condionality probability Formula:\n",
    "$$P(A|B) = \\frac{P(A\\cap B)}{P(B)}$$  \n",
    "\n",
    "<i>here to satisfy the conditional probability, we need both events B and A to occur simultaneously.</i>\n",
    "\n",
    "$P(A|B)\\rightarrow$ Probability of A occuring given B has already occured.\n",
    "\n",
    "$P(A\\cap B)\\rightarrow$This suggests that the intersection of A and B would consist of all favorable outcomes for this probability.\n",
    "\n",
    "$P(B) \\rightarrow$ conditional probability requires that Event B occurs, so the sample space would simply be all outcomes where event B is satisfied.\n",
    "$$only\\;if\\;P(B)> 0$$ \n",
    "\n",
    "* $if P(B) = 0$ event b would never occur thus $A|B$ would not be interpretable.\n",
    "<br></br>\n",
    "* If $P(A) = P(A|B)$ then A nd B events are independent. $So\\;P(A\\cap B) = P(A)*P(B) \\;\\;[product\\;of\\;indvidual\\;probabilities]$\n",
    "#### Favourable all Formula:\n",
    "\n",
    "$$P(A) = \\frac{favourable}{All}$$"
   ]
  },
  {
   "cell_type": "markdown",
   "id": "d0bb76d4",
   "metadata": {},
   "source": [
    "**Importance of Condinality Formula**\n",
    "\n",
    "* The order in which we write the elements is crucial. So $P(A|B)\\ne P(B|A)$"
   ]
  },
  {
   "cell_type": "markdown",
   "id": "93ad32d2",
   "metadata": {},
   "source": [
    "**Q. Applying the Conditional Probability Formula, what is the probability of event A occurring, given event B has occurred if the likelihood of getting their intersection is 0.15 and the likelihood of event B is 0.6?**\n",
    "\n",
    "According to the formula, $P(A|B) = \\frac{0.15}{0.6} = 0.25.$"
   ]
  },
  {
   "cell_type": "markdown",
   "id": "451c7f97",
   "metadata": {},
   "source": [
    "### ADDITIVE LAW  \n"
   ]
  },
  {
   "cell_type": "markdown",
   "id": "58384292",
   "metadata": {},
   "source": [
    "#### For Mutual Exclusive Events\n",
    "\n",
    "Probability of Occuring A or B.\n",
    "\n",
    "$$ P(A\\;or\\;B) = P(A) + P(B) $$"
   ]
  },
  {
   "cell_type": "markdown",
   "id": "3646c580",
   "metadata": {},
   "source": [
    "#### For Non- Mutual Exclusive Events\n",
    "The additive law states something very similar, the probability of the union of two sets is equal to the sum of the individual probabilities of each event, minus the probability of their intersection.\n",
    "$$P(A \\cup B) = P(A)\\;+\\;P(B)\\;\\;-\\;P(A\\cap B)$$"
   ]
  },
  {
   "cell_type": "markdown",
   "id": "761a9bed",
   "metadata": {},
   "source": [
    "Example:\n",
    "\n",
    "**Probability of getting a \"King\" or \"Heart\" card.** \n",
    "<br></br>\n",
    "$$P(getting\\;King) + P(getting\\;Heart) - P(K\\cap Heart)$$"
   ]
  },
  {
   "cell_type": "markdown",
   "id": "59d74ff7",
   "metadata": {},
   "source": [
    "### MULTIPLICATION RULE\n",
    "\n",
    "\n"
   ]
  },
  {
   "cell_type": "markdown",
   "id": "b1a27957",
   "metadata": {},
   "source": [
    "#### For Dependent Events\n",
    "<br></br>\n",
    "The probability of both events happening equals to the product of the likelihood of A occuring and the conditional probability that B occurs, given A has already occured.\n",
    "$$P(A\\cap B) = P(A|B)*P(B)$$\n",
    "\n",
    "This we get from the conditional probability formula.\n",
    "\n",
    "eg: If event B occurs in *40* of the time **P(B) = 0.4** and event A occurs in 50 of the time B occurs\n",
    "$P(A|B) = 0.5$ then they would simultaneously occur in 20 of the time $P(A|B)* P(B) = 0.5*0.4 = 0.2$"
   ]
  },
  {
   "cell_type": "markdown",
   "id": "14296a76",
   "metadata": {},
   "source": [
    "### Baye's Law\n",
    "\n",
    "The conditional probability of getting B given A * the probability of A divided by the probability of B. This equation is known as Bayes Theorem.\n",
    "\n",
    "$$P(A|B)= \\frac{P(B|A)*P(A)}{P(B)}$$\n",
    "\n",
    "It is crucial because it allows us to find a relationship between the different conditional probabilities of two events.\n",
    "\n"
   ]
  },
  {
   "cell_type": "markdown",
   "id": "820b97af",
   "metadata": {},
   "source": []
  }
 ],
 "metadata": {
  "kernelspec": {
   "display_name": "Python 3 (ipykernel)",
   "language": "python",
   "name": "python3"
  },
  "language_info": {
   "codemirror_mode": {
    "name": "ipython",
    "version": 3
   },
   "file_extension": ".py",
   "mimetype": "text/x-python",
   "name": "python",
   "nbconvert_exporter": "python",
   "pygments_lexer": "ipython3",
   "version": "3.9.13"
  }
 },
 "nbformat": 4,
 "nbformat_minor": 5
}
