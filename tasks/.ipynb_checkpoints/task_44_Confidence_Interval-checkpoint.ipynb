{
 "cells": [
  {
   "cell_type": "markdown",
   "metadata": {},
   "source": [
    "$$sample\\; mean \\;(\\bar \\chi)\\;\\pm \\text{the margin of error}$$\n",
    "\n",
    "$$\\text{margin of error = reliability factor}\\;*\\; \\text{Standard Error}$$\n",
    " \n",
    " $$\\text{reliability factor} =\\; \\text{t-score} * \\; \\left\\lceil t_{n-1},\\frac{_\\alpha}{_2}\\right\\rceil\\;\\;or\\;\\;\\text{z-score} *  \\left\\lfloor z_\\left(\\frac{\\alpha}{2}\\right)\\right\\rfloor$$"
   ]
  },
  {
   "cell_type": "code",
   "execution_count": 5,
   "metadata": {
    "ExecuteTime": {
     "end_time": "2023-10-01T09:36:00.395366Z",
     "start_time": "2023-10-01T09:36:00.384744Z"
    },
    "id": "XgzoYlFVitRx"
   },
   "outputs": [],
   "source": [
    "from scipy import stats\n",
    "from scipy.stats import t\n",
    "import numpy as np\n",
    "import pandas as pd\n",
    "import matplotlib.pyplot as  plt"
   ]
  },
  {
   "cell_type": "markdown",
   "metadata": {},
   "source": [
    "### percent point function (ppf) : "
   ]
  },
  {
   "cell_type": "markdown",
   "metadata": {},
   "source": [
    "In statistics, `stats.t.ppf(q, df)` is a function that calculates the percent point function (PPF) of the Student's t-distribution. The PPF is also known as the inverse cumulative distribution function (CDF).\n",
    "\n",
    "\n",
    "The `stats.t.ppf(q, df)` function returns the value (often denoted as \"t\") such that the probability that a random variable following a t-distribution with df degrees of freedom is less than or equal to \"t\" is equal to the specified probability q. In other words, it finds the t-value corresponding to a specific tail probability in the t-distribution.\n",
    "\n",
    "\n",
    "For example, if you want to find the t-value such that the lower tail of the t-distribution accumulates to 0.95 (95% confidence level) with 20 degrees of freedom, you would use stats.t.ppf(0.05, 20). This will give you the critical t-value for a two-tailed t-test at a 95% confidence level with 20 degrees of freedom.\n",
    "\n",
    "\n",
    "It's commonly used in hypothesis testing and confidence interval construction when working with t-distributions."
   ]
  },
  {
   "cell_type": "markdown",
   "metadata": {
    "id": "H5qEnExoiv0E"
   },
   "source": [
    "## `Question: 1` \n",
    "A company wants to estimate the average time spent by customers on their website per session. They collect a random sample of 100 customers and find that the sample mean time spent is 4.5 minutes with a sample standard deviation of 1.2 minutes. Calculate a 99% confidence interval for the true population mean time spent on the website per session.\n"
   ]
  },
  {
   "cell_type": "code",
   "execution_count": 6,
   "metadata": {
    "ExecuteTime": {
     "end_time": "2023-10-01T09:36:01.300872Z",
     "start_time": "2023-10-01T09:36:01.294892Z"
    }
   },
   "outputs": [],
   "source": [
    "n = 100\n",
    "x = 4.5\n",
    "std = 1.2\n",
    "alpha = 0.01"
   ]
  },
  {
   "cell_type": "code",
   "execution_count": 4,
   "metadata": {
    "ExecuteTime": {
     "end_time": "2023-09-30T22:35:24.513192Z",
     "start_time": "2023-09-30T22:35:24.494644Z"
    }
   },
   "outputs": [],
   "source": [
    "df = 100 - 1"
   ]
  },
  {
   "cell_type": "code",
   "execution_count": 17,
   "metadata": {
    "ExecuteTime": {
     "end_time": "2023-09-30T22:56:42.623768Z",
     "start_time": "2023-09-30T22:56:42.609497Z"
    }
   },
   "outputs": [
    {
     "data": {
      "text/plain": [
       "2.6264054563851857"
      ]
     },
     "execution_count": 17,
     "metadata": {},
     "output_type": "execute_result"
    }
   ],
   "source": [
    "critical_value = t.ppf(1- alpha / 2,df)\n",
    "critical_value"
   ]
  },
  {
   "cell_type": "code",
   "execution_count": 18,
   "metadata": {
    "ExecuteTime": {
     "end_time": "2023-09-30T22:56:49.183206Z",
     "start_time": "2023-09-30T22:56:49.166701Z"
    }
   },
   "outputs": [
    {
     "data": {
      "text/plain": [
       "0.12"
      ]
     },
     "execution_count": 18,
     "metadata": {},
     "output_type": "execute_result"
    }
   ],
   "source": [
    "standard_error = std/np.sqrt(100)\n",
    "standard_error"
   ]
  },
  {
   "cell_type": "code",
   "execution_count": 24,
   "metadata": {
    "ExecuteTime": {
     "end_time": "2023-09-30T22:57:50.375428Z",
     "start_time": "2023-09-30T22:57:50.367289Z"
    }
   },
   "outputs": [
    {
     "name": "stdout",
     "output_type": "stream",
     "text": [
      "confidence_interval : 4.185 mins , 4.809 mins\n"
     ]
    }
   ],
   "source": [
    "print(f'confidence_interval : {x - (critical_value*standard_error):.3f} mins , {x + (critical_value_right*standard_error):.3f} mins')"
   ]
  },
  {
   "cell_type": "markdown",
   "metadata": {},
   "source": [
    "##### Therefore, a 99% confidence interval for the true population mean time spent on the website per session is (4.185, 4.809) minutes. This means that we are 99% confident that the true population mean time spent on the website per session is within this range."
   ]
  },
  {
   "cell_type": "markdown",
   "metadata": {
    "id": "H5qEnExoiv0E"
   },
   "source": [
    "## `Question 2:` \n",
    "A car manufacturer is interested in estimating the mean gas mileage of their new SUV. A sample of 25 SUVs is taken, and their mean gas mileage is found to be 28.6 miles per gallon with a standard deviation of 2.8 miles per gallon. Calculate a 95% confidence interval for the true mean gas mileage of the SUV."
   ]
  },
  {
   "cell_type": "code",
   "execution_count": 25,
   "metadata": {
    "ExecuteTime": {
     "end_time": "2023-09-30T22:59:10.717168Z",
     "start_time": "2023-09-30T22:59:10.708190Z"
    }
   },
   "outputs": [],
   "source": [
    "n = 25\n",
    "x = 28.6\n",
    "std = 2.8\n",
    "alpha = 0.05"
   ]
  },
  {
   "cell_type": "code",
   "execution_count": 26,
   "metadata": {
    "ExecuteTime": {
     "end_time": "2023-09-30T22:59:48.177750Z",
     "start_time": "2023-09-30T22:59:48.167558Z"
    }
   },
   "outputs": [],
   "source": [
    "df = n - 1 "
   ]
  },
  {
   "cell_type": "code",
   "execution_count": 27,
   "metadata": {
    "ExecuteTime": {
     "end_time": "2023-09-30T23:00:03.314260Z",
     "start_time": "2023-09-30T23:00:03.295018Z"
    }
   },
   "outputs": [
    {
     "data": {
      "text/plain": [
       "2.0638985616280205"
      ]
     },
     "execution_count": 27,
     "metadata": {},
     "output_type": "execute_result"
    }
   ],
   "source": [
    "critical_value = t.ppf(1-alpha/2,df)\n",
    "critical_value"
   ]
  },
  {
   "cell_type": "code",
   "execution_count": 28,
   "metadata": {
    "ExecuteTime": {
     "end_time": "2023-09-30T23:00:34.088192Z",
     "start_time": "2023-09-30T23:00:34.072603Z"
    }
   },
   "outputs": [
    {
     "data": {
      "text/plain": [
       "0.5599999999999999"
      ]
     },
     "execution_count": 28,
     "metadata": {},
     "output_type": "execute_result"
    }
   ],
   "source": [
    "standard_error = std/np.sqrt(25)\n",
    "standard_error"
   ]
  },
  {
   "cell_type": "code",
   "execution_count": 29,
   "metadata": {
    "ExecuteTime": {
     "end_time": "2023-09-30T23:01:01.857593Z",
     "start_time": "2023-09-30T23:01:01.836142Z"
    }
   },
   "outputs": [
    {
     "name": "stdout",
     "output_type": "stream",
     "text": [
      "confidence_interval : 27.444 miles , 30.042 miles\n"
     ]
    }
   ],
   "source": [
    "print(f'confidence_interval : {x - (critical_value*standard_error):.3f} miles , {x + (critical_value_right*standard_error):.3f} miles')"
   ]
  },
  {
   "cell_type": "markdown",
   "metadata": {},
   "source": [
    "##### Therefore, a 95% confidence interval for the true mean gas mileage of the SUV is (30.042, 27.444) miles per gallon. This means that we are 95% confident that the true mean gas mileage of the SUV is within this range."
   ]
  },
  {
   "cell_type": "markdown",
   "metadata": {
    "id": "susAVpwsi3rx"
   },
   "source": [
    "## `Question -3:` \n",
    "\n",
    "Dataset - India temperature dataset.\n",
    "\n",
    "Data link: https://drive.google.com/file/d/1whb8Rjdk9TBKOwVi8NwZD1Tc8Tdv7iEc/view?usp=share_link\n",
    "\n",
    "Kaggle Link : (Just take IND data for this question, have to apply filtering). https://www.kaggle.com/datasets/berkeleyearth/climate-change-earth-surface-temperature-data"
   ]
  },
  {
   "cell_type": "markdown",
   "metadata": {
    "id": "susAVpwsi3rx"
   },
   "source": [
    " A climate research organization wants to estimate the average temperature of a certain country. They collect temperature data for 2613 days but due to certain limitations, they only have information about the average temperature for 2508 days. The organization assumes that the population follows a normal distribution and wants to estimate the population mean temperature with a 95% confidence interval.\n",
    "\n",
    "* Standard deviation is assumed as given data standard deviation. z Procedure"
   ]
  },
  {
   "cell_type": "code",
   "execution_count": 85,
   "metadata": {
    "ExecuteTime": {
     "end_time": "2023-10-01T12:42:58.881597Z",
     "start_time": "2023-10-01T12:42:58.849290Z"
    }
   },
   "outputs": [
    {
     "data": {
      "text/html": [
       "<div>\n",
       "<style scoped>\n",
       "    .dataframe tbody tr th:only-of-type {\n",
       "        vertical-align: middle;\n",
       "    }\n",
       "\n",
       "    .dataframe tbody tr th {\n",
       "        vertical-align: top;\n",
       "    }\n",
       "\n",
       "    .dataframe thead th {\n",
       "        text-align: right;\n",
       "    }\n",
       "</style>\n",
       "<table border=\"1\" class=\"dataframe\">\n",
       "  <thead>\n",
       "    <tr style=\"text-align: right;\">\n",
       "      <th></th>\n",
       "      <th>dt</th>\n",
       "      <th>AverageTemperature</th>\n",
       "      <th>AverageTemperatureUncertainty</th>\n",
       "      <th>Country</th>\n",
       "    </tr>\n",
       "  </thead>\n",
       "  <tbody>\n",
       "    <tr>\n",
       "      <th>0</th>\n",
       "      <td>1796-01-01</td>\n",
       "      <td>17.044</td>\n",
       "      <td>2.044</td>\n",
       "      <td>India</td>\n",
       "    </tr>\n",
       "    <tr>\n",
       "      <th>1</th>\n",
       "      <td>1796-02-01</td>\n",
       "      <td>19.193</td>\n",
       "      <td>1.359</td>\n",
       "      <td>India</td>\n",
       "    </tr>\n",
       "    <tr>\n",
       "      <th>2</th>\n",
       "      <td>1796-03-01</td>\n",
       "      <td>22.319</td>\n",
       "      <td>2.125</td>\n",
       "      <td>India</td>\n",
       "    </tr>\n",
       "    <tr>\n",
       "      <th>3</th>\n",
       "      <td>1796-04-01</td>\n",
       "      <td>27.233</td>\n",
       "      <td>1.510</td>\n",
       "      <td>India</td>\n",
       "    </tr>\n",
       "    <tr>\n",
       "      <th>4</th>\n",
       "      <td>1796-05-01</td>\n",
       "      <td>30.035</td>\n",
       "      <td>1.338</td>\n",
       "      <td>India</td>\n",
       "    </tr>\n",
       "    <tr>\n",
       "      <th>...</th>\n",
       "      <td>...</td>\n",
       "      <td>...</td>\n",
       "      <td>...</td>\n",
       "      <td>...</td>\n",
       "    </tr>\n",
       "    <tr>\n",
       "      <th>2608</th>\n",
       "      <td>2013-05-01</td>\n",
       "      <td>31.014</td>\n",
       "      <td>0.205</td>\n",
       "      <td>India</td>\n",
       "    </tr>\n",
       "    <tr>\n",
       "      <th>2609</th>\n",
       "      <td>2013-06-01</td>\n",
       "      <td>28.766</td>\n",
       "      <td>0.299</td>\n",
       "      <td>India</td>\n",
       "    </tr>\n",
       "    <tr>\n",
       "      <th>2610</th>\n",
       "      <td>2013-07-01</td>\n",
       "      <td>27.012</td>\n",
       "      <td>0.197</td>\n",
       "      <td>India</td>\n",
       "    </tr>\n",
       "    <tr>\n",
       "      <th>2611</th>\n",
       "      <td>2013-08-01</td>\n",
       "      <td>26.555</td>\n",
       "      <td>0.242</td>\n",
       "      <td>India</td>\n",
       "    </tr>\n",
       "    <tr>\n",
       "      <th>2612</th>\n",
       "      <td>2013-09-01</td>\n",
       "      <td>NaN</td>\n",
       "      <td>NaN</td>\n",
       "      <td>India</td>\n",
       "    </tr>\n",
       "  </tbody>\n",
       "</table>\n",
       "<p>2613 rows × 4 columns</p>\n",
       "</div>"
      ],
      "text/plain": [
       "              dt  AverageTemperature  AverageTemperatureUncertainty Country\n",
       "0     1796-01-01              17.044                          2.044   India\n",
       "1     1796-02-01              19.193                          1.359   India\n",
       "2     1796-03-01              22.319                          2.125   India\n",
       "3     1796-04-01              27.233                          1.510   India\n",
       "4     1796-05-01              30.035                          1.338   India\n",
       "...          ...                 ...                            ...     ...\n",
       "2608  2013-05-01              31.014                          0.205   India\n",
       "2609  2013-06-01              28.766                          0.299   India\n",
       "2610  2013-07-01              27.012                          0.197   India\n",
       "2611  2013-08-01              26.555                          0.242   India\n",
       "2612  2013-09-01                 NaN                            NaN   India\n",
       "\n",
       "[2613 rows x 4 columns]"
      ]
     },
     "execution_count": 85,
     "metadata": {},
     "output_type": "execute_result"
    }
   ],
   "source": [
    "df = pd.read_csv(r\"D:\\Statistics\\tasks\\ind_temp.csv\")\n",
    "df"
   ]
  },
  {
   "cell_type": "code",
   "execution_count": 86,
   "metadata": {
    "ExecuteTime": {
     "end_time": "2023-10-01T12:42:59.114034Z",
     "start_time": "2023-10-01T12:42:59.110520Z"
    }
   },
   "outputs": [],
   "source": [
    "import matplotlib.pyplot as plt"
   ]
  },
  {
   "cell_type": "code",
   "execution_count": 87,
   "metadata": {
    "ExecuteTime": {
     "end_time": "2023-10-01T12:42:59.659126Z",
     "start_time": "2023-10-01T12:42:59.450828Z"
    }
   },
   "outputs": [
    {
     "data": {
      "text/plain": [
       "<AxesSubplot:ylabel='Density'>"
      ]
     },
     "execution_count": 87,
     "metadata": {},
     "output_type": "execute_result"
    },
    {
     "data": {
      "image/png": "[encoded data removed]",
      "text/plain": [
       "<Figure size 640x480 with 1 Axes>"
      ]
     },
     "metadata": {},
     "output_type": "display_data"
    }
   ],
   "source": [
    "df['AverageTemperature'].plot(kind='kde')"
   ]
  },
  {
   "cell_type": "code",
   "execution_count": 88,
   "metadata": {
    "ExecuteTime": {
     "end_time": "2023-10-01T12:43:00.283600Z",
     "start_time": "2023-10-01T12:43:00.271992Z"
    }
   },
   "outputs": [
    {
     "data": {
      "text/plain": [
       "23.87378947368426"
      ]
     },
     "execution_count": 88,
     "metadata": {},
     "output_type": "execute_result"
    }
   ],
   "source": [
    "pop_mean = np.mean(df['AverageTemperature'])\n",
    "pop_mean"
   ]
  },
  {
   "cell_type": "code",
   "execution_count": 89,
   "metadata": {
    "ExecuteTime": {
     "end_time": "2023-10-01T12:43:00.866555Z",
     "start_time": "2023-10-01T12:43:00.854178Z"
    }
   },
   "outputs": [
    {
     "data": {
      "text/plain": [
       "2508"
      ]
     },
     "execution_count": 89,
     "metadata": {},
     "output_type": "execute_result"
    }
   ],
   "source": [
    "n = df['AverageTemperature'].notnull().sum()\n",
    "n"
   ]
  },
  {
   "cell_type": "code",
   "execution_count": 90,
   "metadata": {
    "ExecuteTime": {
     "end_time": "2023-10-01T12:43:02.145851Z",
     "start_time": "2023-10-01T12:43:02.141317Z"
    }
   },
   "outputs": [],
   "source": [
    "alpha = 0.05"
   ]
  },
  {
   "cell_type": "code",
   "execution_count": 91,
   "metadata": {
    "ExecuteTime": {
     "end_time": "2023-10-01T12:43:02.928602Z",
     "start_time": "2023-10-01T12:43:02.910778Z"
    }
   },
   "outputs": [
    {
     "data": {
      "text/plain": [
       "4.3258112104179895"
      ]
     },
     "execution_count": 91,
     "metadata": {},
     "output_type": "execute_result"
    }
   ],
   "source": [
    "std_dev = df['AverageTemperature'].std(ddof=1)\n",
    "std_dev"
   ]
  },
  {
   "cell_type": "code",
   "execution_count": 92,
   "metadata": {
    "ExecuteTime": {
     "end_time": "2023-10-01T12:43:05.620695Z",
     "start_time": "2023-10-01T12:43:05.605014Z"
    }
   },
   "outputs": [
    {
     "data": {
      "text/plain": [
       "-1.9599639845400545"
      ]
     },
     "execution_count": 92,
     "metadata": {},
     "output_type": "execute_result"
    }
   ],
   "source": [
    "critical_value = stats.norm.ppf(alpha/2)\n",
    "critical_value"
   ]
  },
  {
   "cell_type": "code",
   "execution_count": 93,
   "metadata": {
    "ExecuteTime": {
     "end_time": "2023-10-01T12:43:14.083129Z",
     "start_time": "2023-10-01T12:43:14.064201Z"
    }
   },
   "outputs": [
    {
     "data": {
      "text/plain": [
       "0.08637812958847471"
      ]
     },
     "execution_count": 93,
     "metadata": {},
     "output_type": "execute_result"
    }
   ],
   "source": [
    "standard_error = std_dev/np.sqrt(n)\n",
    "standard_error"
   ]
  },
  {
   "cell_type": "code",
   "execution_count": 94,
   "metadata": {
    "ExecuteTime": {
     "end_time": "2023-10-01T12:43:15.315845Z",
     "start_time": "2023-10-01T12:43:15.310441Z"
    }
   },
   "outputs": [
    {
     "data": {
      "text/plain": [
       "-0.16929802304534408"
      ]
     },
     "execution_count": 94,
     "metadata": {},
     "output_type": "execute_result"
    }
   ],
   "source": [
    "critical_value * standard_error"
   ]
  },
  {
   "cell_type": "code",
   "execution_count": 95,
   "metadata": {
    "ExecuteTime": {
     "end_time": "2023-10-01T12:43:16.587247Z",
     "start_time": "2023-10-01T12:43:16.574651Z"
    }
   },
   "outputs": [
    {
     "name": "stdout",
     "output_type": "stream",
     "text": [
      "confidence_interval : 23.704, 24.043\n",
      "actual mean of data 23.87378947368426\n"
     ]
    }
   ],
   "source": [
    "print(f'confidence_interval : {pop_mean + (critical_value*standard_error):.3f}, {pop_mean - (critical_value*standard_error):.3f}')\n",
    "print('actual mean of data',pop_mean)"
   ]
  },
  {
   "cell_type": "markdown",
   "metadata": {},
   "source": [
    "##### Therefore, a 95% confidence interval for the true mean temperature of India is (23.705, 24.043) degrees Celsius. This means that we are 95% confident that the true mean temperature of India is within this range."
   ]
  },
  {
   "cell_type": "markdown",
   "metadata": {
    "id": "susAVpwsi3rx"
   },
   "source": [
    "## `Question - 4:`\n",
    "* Standard deviation is not given. Apply t Procedure"
   ]
  },
  {
   "cell_type": "code",
   "execution_count": 96,
   "metadata": {
    "ExecuteTime": {
     "end_time": "2023-10-01T12:45:06.760342Z",
     "start_time": "2023-10-01T12:45:06.742526Z"
    }
   },
   "outputs": [],
   "source": [
    "x = np.mean(df['AverageTemperature'])"
   ]
  },
  {
   "cell_type": "code",
   "execution_count": 97,
   "metadata": {
    "ExecuteTime": {
     "end_time": "2023-10-01T12:45:07.276036Z",
     "start_time": "2023-10-01T12:45:07.259340Z"
    }
   },
   "outputs": [
    {
     "data": {
      "text/plain": [
       "2508"
      ]
     },
     "execution_count": 97,
     "metadata": {},
     "output_type": "execute_result"
    }
   ],
   "source": [
    "n = df['AverageTemperature'].notnull().sum()\n",
    "n"
   ]
  },
  {
   "cell_type": "code",
   "execution_count": 98,
   "metadata": {
    "ExecuteTime": {
     "end_time": "2023-10-01T12:45:09.846743Z",
     "start_time": "2023-10-01T12:45:09.829399Z"
    }
   },
   "outputs": [
    {
     "data": {
      "text/plain": [
       "4.3258112104179895"
      ]
     },
     "execution_count": 98,
     "metadata": {},
     "output_type": "execute_result"
    }
   ],
   "source": [
    "std = df['AverageTemperature'].std(ddof=1)\n",
    "std"
   ]
  },
  {
   "cell_type": "markdown",
   "metadata": {},
   "source": [
    "- `ddof=1`: This is an optional argument that stands for \"Delta Degrees of Freedom.\" It's used to specify the degrees of freedom adjustment when calculating the standard deviation. By setting `ddof=1`, you are telling the function to use the sample standard deviation formula with Bessel's correction.\n",
    "\n",
    "\n",
    "\n",
    "- You should use `ddof=1` (Delta Degrees of Freedom equal to 1) when calculating the sample standard deviation. This correction is used to adjust the standard deviation calculation when you are working with a sample from a larger population. "
   ]
  },
  {
   "cell_type": "code",
   "execution_count": 99,
   "metadata": {
    "ExecuteTime": {
     "end_time": "2023-10-01T12:45:11.448308Z",
     "start_time": "2023-10-01T12:45:11.430140Z"
    }
   },
   "outputs": [],
   "source": [
    "alpha = 0.05"
   ]
  },
  {
   "cell_type": "code",
   "execution_count": 100,
   "metadata": {
    "ExecuteTime": {
     "end_time": "2023-10-01T12:45:12.541079Z",
     "start_time": "2023-10-01T12:45:12.527044Z"
    }
   },
   "outputs": [],
   "source": [
    "df = n - 1"
   ]
  },
  {
   "cell_type": "code",
   "execution_count": 101,
   "metadata": {
    "ExecuteTime": {
     "end_time": "2023-10-01T12:45:15.009818Z",
     "start_time": "2023-10-01T12:45:15.000793Z"
    }
   },
   "outputs": [
    {
     "data": {
      "text/plain": [
       "1.9609106927507156"
      ]
     },
     "execution_count": 101,
     "metadata": {},
     "output_type": "execute_result"
    }
   ],
   "source": [
    "t_score = t.ppf(1-alpha/2,df)\n",
    "t_score"
   ]
  },
  {
   "cell_type": "code",
   "execution_count": 102,
   "metadata": {
    "ExecuteTime": {
     "end_time": "2023-10-01T12:45:19.495453Z",
     "start_time": "2023-10-01T12:45:19.490455Z"
    }
   },
   "outputs": [
    {
     "data": {
      "text/plain": [
       "0.08637812958847471"
      ]
     },
     "execution_count": 102,
     "metadata": {},
     "output_type": "execute_result"
    }
   ],
   "source": [
    "standard_error = std/np.sqrt(n)\n",
    "standard_error"
   ]
  },
  {
   "cell_type": "code",
   "execution_count": 103,
   "metadata": {
    "ExecuteTime": {
     "end_time": "2023-10-01T12:45:22.038880Z",
     "start_time": "2023-10-01T12:45:22.019771Z"
    }
   },
   "outputs": [
    {
     "name": "stdout",
     "output_type": "stream",
     "text": [
      "confidence_interval : 23.704, 24.043\n",
      "actual mean of data 23.87378947368426\n"
     ]
    }
   ],
   "source": [
    "print(f'confidence_interval : {x - (t_score*standard_error):.3f}, {x + (t_score*standard_error):.3f}')\n",
    "print('actual mean of data',pop_mean)"
   ]
  },
  {
   "cell_type": "markdown",
   "metadata": {
    "id": "6jZBbFSoi88d"
   },
   "source": [
    "## `Question 5:` \n",
    "BMW Dataset : https://drive.google.com/file/d/18amVv1WKKHEmwyvVy0RuXp4A6xrGOelc/view?usp=share_link"
   ]
  },
  {
   "cell_type": "code",
   "execution_count": 41,
   "metadata": {
    "ExecuteTime": {
     "end_time": "2023-10-01T10:23:56.837461Z",
     "start_time": "2023-10-01T10:23:56.788623Z"
    }
   },
   "outputs": [
    {
     "data": {
      "text/html": [
       "<div>\n",
       "<style scoped>\n",
       "    .dataframe tbody tr th:only-of-type {\n",
       "        vertical-align: middle;\n",
       "    }\n",
       "\n",
       "    .dataframe tbody tr th {\n",
       "        vertical-align: top;\n",
       "    }\n",
       "\n",
       "    .dataframe thead th {\n",
       "        text-align: right;\n",
       "    }\n",
       "</style>\n",
       "<table border=\"1\" class=\"dataframe\">\n",
       "  <thead>\n",
       "    <tr style=\"text-align: right;\">\n",
       "      <th></th>\n",
       "      <th>model</th>\n",
       "      <th>year</th>\n",
       "      <th>price</th>\n",
       "      <th>transmission</th>\n",
       "      <th>mileage</th>\n",
       "      <th>fuelType</th>\n",
       "      <th>tax</th>\n",
       "      <th>mpg</th>\n",
       "      <th>engineSize</th>\n",
       "    </tr>\n",
       "  </thead>\n",
       "  <tbody>\n",
       "    <tr>\n",
       "      <th>0</th>\n",
       "      <td>5 Series</td>\n",
       "      <td>2014</td>\n",
       "      <td>11200</td>\n",
       "      <td>Automatic</td>\n",
       "      <td>67068</td>\n",
       "      <td>Diesel</td>\n",
       "      <td>125</td>\n",
       "      <td>57.6</td>\n",
       "      <td>2.0</td>\n",
       "    </tr>\n",
       "    <tr>\n",
       "      <th>1</th>\n",
       "      <td>6 Series</td>\n",
       "      <td>2018</td>\n",
       "      <td>27000</td>\n",
       "      <td>Automatic</td>\n",
       "      <td>14827</td>\n",
       "      <td>Petrol</td>\n",
       "      <td>145</td>\n",
       "      <td>42.8</td>\n",
       "      <td>2.0</td>\n",
       "    </tr>\n",
       "    <tr>\n",
       "      <th>2</th>\n",
       "      <td>5 Series</td>\n",
       "      <td>2016</td>\n",
       "      <td>16000</td>\n",
       "      <td>Automatic</td>\n",
       "      <td>62794</td>\n",
       "      <td>Diesel</td>\n",
       "      <td>160</td>\n",
       "      <td>51.4</td>\n",
       "      <td>3.0</td>\n",
       "    </tr>\n",
       "    <tr>\n",
       "      <th>3</th>\n",
       "      <td>1 Series</td>\n",
       "      <td>2017</td>\n",
       "      <td>12750</td>\n",
       "      <td>Automatic</td>\n",
       "      <td>26676</td>\n",
       "      <td>Diesel</td>\n",
       "      <td>145</td>\n",
       "      <td>72.4</td>\n",
       "      <td>1.5</td>\n",
       "    </tr>\n",
       "    <tr>\n",
       "      <th>4</th>\n",
       "      <td>7 Series</td>\n",
       "      <td>2014</td>\n",
       "      <td>14500</td>\n",
       "      <td>Automatic</td>\n",
       "      <td>39554</td>\n",
       "      <td>Diesel</td>\n",
       "      <td>160</td>\n",
       "      <td>50.4</td>\n",
       "      <td>3.0</td>\n",
       "    </tr>\n",
       "    <tr>\n",
       "      <th>...</th>\n",
       "      <td>...</td>\n",
       "      <td>...</td>\n",
       "      <td>...</td>\n",
       "      <td>...</td>\n",
       "      <td>...</td>\n",
       "      <td>...</td>\n",
       "      <td>...</td>\n",
       "      <td>...</td>\n",
       "      <td>...</td>\n",
       "    </tr>\n",
       "    <tr>\n",
       "      <th>10776</th>\n",
       "      <td>X3</td>\n",
       "      <td>2016</td>\n",
       "      <td>19000</td>\n",
       "      <td>Automatic</td>\n",
       "      <td>40818</td>\n",
       "      <td>Diesel</td>\n",
       "      <td>150</td>\n",
       "      <td>54.3</td>\n",
       "      <td>2.0</td>\n",
       "    </tr>\n",
       "    <tr>\n",
       "      <th>10777</th>\n",
       "      <td>5 Series</td>\n",
       "      <td>2016</td>\n",
       "      <td>14600</td>\n",
       "      <td>Automatic</td>\n",
       "      <td>42947</td>\n",
       "      <td>Diesel</td>\n",
       "      <td>125</td>\n",
       "      <td>60.1</td>\n",
       "      <td>2.0</td>\n",
       "    </tr>\n",
       "    <tr>\n",
       "      <th>10778</th>\n",
       "      <td>3 Series</td>\n",
       "      <td>2017</td>\n",
       "      <td>13100</td>\n",
       "      <td>Manual</td>\n",
       "      <td>25468</td>\n",
       "      <td>Petrol</td>\n",
       "      <td>200</td>\n",
       "      <td>42.8</td>\n",
       "      <td>2.0</td>\n",
       "    </tr>\n",
       "    <tr>\n",
       "      <th>10779</th>\n",
       "      <td>1 Series</td>\n",
       "      <td>2014</td>\n",
       "      <td>9930</td>\n",
       "      <td>Automatic</td>\n",
       "      <td>45000</td>\n",
       "      <td>Diesel</td>\n",
       "      <td>30</td>\n",
       "      <td>64.2</td>\n",
       "      <td>2.0</td>\n",
       "    </tr>\n",
       "    <tr>\n",
       "      <th>10780</th>\n",
       "      <td>X1</td>\n",
       "      <td>2017</td>\n",
       "      <td>15981</td>\n",
       "      <td>Automatic</td>\n",
       "      <td>59432</td>\n",
       "      <td>Diesel</td>\n",
       "      <td>125</td>\n",
       "      <td>57.6</td>\n",
       "      <td>2.0</td>\n",
       "    </tr>\n",
       "  </tbody>\n",
       "</table>\n",
       "<p>10781 rows × 9 columns</p>\n",
       "</div>"
      ],
      "text/plain": [
       "           model  year  price transmission  mileage fuelType  tax   mpg  \\\n",
       "0       5 Series  2014  11200    Automatic    67068   Diesel  125  57.6   \n",
       "1       6 Series  2018  27000    Automatic    14827   Petrol  145  42.8   \n",
       "2       5 Series  2016  16000    Automatic    62794   Diesel  160  51.4   \n",
       "3       1 Series  2017  12750    Automatic    26676   Diesel  145  72.4   \n",
       "4       7 Series  2014  14500    Automatic    39554   Diesel  160  50.4   \n",
       "...          ...   ...    ...          ...      ...      ...  ...   ...   \n",
       "10776         X3  2016  19000    Automatic    40818   Diesel  150  54.3   \n",
       "10777   5 Series  2016  14600    Automatic    42947   Diesel  125  60.1   \n",
       "10778   3 Series  2017  13100       Manual    25468   Petrol  200  42.8   \n",
       "10779   1 Series  2014   9930    Automatic    45000   Diesel   30  64.2   \n",
       "10780         X1  2017  15981    Automatic    59432   Diesel  125  57.6   \n",
       "\n",
       "       engineSize  \n",
       "0             2.0  \n",
       "1             2.0  \n",
       "2             3.0  \n",
       "3             1.5  \n",
       "4             3.0  \n",
       "...           ...  \n",
       "10776         2.0  \n",
       "10777         2.0  \n",
       "10778         2.0  \n",
       "10779         2.0  \n",
       "10780         2.0  \n",
       "\n",
       "[10781 rows x 9 columns]"
      ]
     },
     "execution_count": 41,
     "metadata": {},
     "output_type": "execute_result"
    }
   ],
   "source": [
    "df = pd.read_csv(r\"D:\\Statistics\\tasks\\bmw.csv\")\n",
    "df"
   ]
  },
  {
   "cell_type": "markdown",
   "metadata": {
    "id": "6jZBbFSoi88d"
   },
   "source": [
    "### ``Task 1:``\n",
    "The sales manager of a used car company wants to know what is the average selling price of all the used bmw cars.\n",
    "The analyst can collect only a sample of sales of 500 cars in the area. Since this estimate is going to be used by the company to strategize sales of his company, the sample mean should be a good approximation of all the account.\n",
    "What level of confidence is the sales manager going to be satisfied with? What +/- interval number is going to be acceptable?"
   ]
  },
  {
   "cell_type": "markdown",
   "metadata": {},
   "source": [
    "### we will apply z-test as sample size > 30 and popstd dev is know:"
   ]
  },
  {
   "cell_type": "markdown",
   "metadata": {},
   "source": [
    "##### let alpha = 0.5 i.e confidence = 95%"
   ]
  },
  {
   "cell_type": "code",
   "execution_count": 29,
   "metadata": {
    "ExecuteTime": {
     "end_time": "2023-10-01T10:17:53.497449Z",
     "start_time": "2023-10-01T10:17:53.490252Z"
    }
   },
   "outputs": [],
   "source": [
    "alpha = 0.05"
   ]
  },
  {
   "cell_type": "code",
   "execution_count": 30,
   "metadata": {
    "ExecuteTime": {
     "end_time": "2023-10-01T10:17:53.756020Z",
     "start_time": "2023-10-01T10:17:53.737414Z"
    }
   },
   "outputs": [],
   "source": [
    "n = 500"
   ]
  },
  {
   "cell_type": "code",
   "execution_count": 31,
   "metadata": {
    "ExecuteTime": {
     "end_time": "2023-10-01T10:17:54.052058Z",
     "start_time": "2023-10-01T10:17:54.029930Z"
    }
   },
   "outputs": [
    {
     "data": {
      "text/html": [
       "<div>\n",
       "<style scoped>\n",
       "    .dataframe tbody tr th:only-of-type {\n",
       "        vertical-align: middle;\n",
       "    }\n",
       "\n",
       "    .dataframe tbody tr th {\n",
       "        vertical-align: top;\n",
       "    }\n",
       "\n",
       "    .dataframe thead th {\n",
       "        text-align: right;\n",
       "    }\n",
       "</style>\n",
       "<table border=\"1\" class=\"dataframe\">\n",
       "  <thead>\n",
       "    <tr style=\"text-align: right;\">\n",
       "      <th></th>\n",
       "      <th>model</th>\n",
       "      <th>year</th>\n",
       "      <th>price</th>\n",
       "      <th>transmission</th>\n",
       "      <th>mileage</th>\n",
       "      <th>fuelType</th>\n",
       "      <th>tax</th>\n",
       "      <th>mpg</th>\n",
       "      <th>engineSize</th>\n",
       "    </tr>\n",
       "  </thead>\n",
       "  <tbody>\n",
       "    <tr>\n",
       "      <th>8728</th>\n",
       "      <td>1 Series</td>\n",
       "      <td>2018</td>\n",
       "      <td>15300</td>\n",
       "      <td>Manual</td>\n",
       "      <td>36469</td>\n",
       "      <td>Diesel</td>\n",
       "      <td>150</td>\n",
       "      <td>50.4</td>\n",
       "      <td>1.5</td>\n",
       "    </tr>\n",
       "    <tr>\n",
       "      <th>761</th>\n",
       "      <td>5 Series</td>\n",
       "      <td>2014</td>\n",
       "      <td>15495</td>\n",
       "      <td>Semi-Auto</td>\n",
       "      <td>51565</td>\n",
       "      <td>Diesel</td>\n",
       "      <td>160</td>\n",
       "      <td>51.4</td>\n",
       "      <td>2.0</td>\n",
       "    </tr>\n",
       "    <tr>\n",
       "      <th>7209</th>\n",
       "      <td>X3</td>\n",
       "      <td>2019</td>\n",
       "      <td>39875</td>\n",
       "      <td>Semi-Auto</td>\n",
       "      <td>8988</td>\n",
       "      <td>Diesel</td>\n",
       "      <td>150</td>\n",
       "      <td>36.7</td>\n",
       "      <td>3.0</td>\n",
       "    </tr>\n",
       "    <tr>\n",
       "      <th>6685</th>\n",
       "      <td>2 Series</td>\n",
       "      <td>2019</td>\n",
       "      <td>21730</td>\n",
       "      <td>Automatic</td>\n",
       "      <td>5054</td>\n",
       "      <td>Petrol</td>\n",
       "      <td>145</td>\n",
       "      <td>39.2</td>\n",
       "      <td>1.5</td>\n",
       "    </tr>\n",
       "    <tr>\n",
       "      <th>8548</th>\n",
       "      <td>2 Series</td>\n",
       "      <td>2018</td>\n",
       "      <td>13799</td>\n",
       "      <td>Manual</td>\n",
       "      <td>13369</td>\n",
       "      <td>Diesel</td>\n",
       "      <td>145</td>\n",
       "      <td>65.7</td>\n",
       "      <td>1.5</td>\n",
       "    </tr>\n",
       "    <tr>\n",
       "      <th>...</th>\n",
       "      <td>...</td>\n",
       "      <td>...</td>\n",
       "      <td>...</td>\n",
       "      <td>...</td>\n",
       "      <td>...</td>\n",
       "      <td>...</td>\n",
       "      <td>...</td>\n",
       "      <td>...</td>\n",
       "      <td>...</td>\n",
       "    </tr>\n",
       "    <tr>\n",
       "      <th>10391</th>\n",
       "      <td>2 Series</td>\n",
       "      <td>2015</td>\n",
       "      <td>14860</td>\n",
       "      <td>Automatic</td>\n",
       "      <td>26000</td>\n",
       "      <td>Petrol</td>\n",
       "      <td>160</td>\n",
       "      <td>47.1</td>\n",
       "      <td>2.0</td>\n",
       "    </tr>\n",
       "    <tr>\n",
       "      <th>8692</th>\n",
       "      <td>3 Series</td>\n",
       "      <td>2018</td>\n",
       "      <td>18000</td>\n",
       "      <td>Manual</td>\n",
       "      <td>45344</td>\n",
       "      <td>Diesel</td>\n",
       "      <td>145</td>\n",
       "      <td>64.2</td>\n",
       "      <td>2.0</td>\n",
       "    </tr>\n",
       "    <tr>\n",
       "      <th>6805</th>\n",
       "      <td>X2</td>\n",
       "      <td>2019</td>\n",
       "      <td>30960</td>\n",
       "      <td>Automatic</td>\n",
       "      <td>7021</td>\n",
       "      <td>Petrol</td>\n",
       "      <td>145</td>\n",
       "      <td>34.0</td>\n",
       "      <td>2.0</td>\n",
       "    </tr>\n",
       "    <tr>\n",
       "      <th>3782</th>\n",
       "      <td>1 Series</td>\n",
       "      <td>2016</td>\n",
       "      <td>11182</td>\n",
       "      <td>Manual</td>\n",
       "      <td>22499</td>\n",
       "      <td>Petrol</td>\n",
       "      <td>125</td>\n",
       "      <td>53.3</td>\n",
       "      <td>1.5</td>\n",
       "    </tr>\n",
       "    <tr>\n",
       "      <th>6300</th>\n",
       "      <td>4 Series</td>\n",
       "      <td>2019</td>\n",
       "      <td>25070</td>\n",
       "      <td>Semi-Auto</td>\n",
       "      <td>3038</td>\n",
       "      <td>Diesel</td>\n",
       "      <td>145</td>\n",
       "      <td>65.7</td>\n",
       "      <td>2.0</td>\n",
       "    </tr>\n",
       "  </tbody>\n",
       "</table>\n",
       "<p>500 rows × 9 columns</p>\n",
       "</div>"
      ],
      "text/plain": [
       "           model  year  price transmission  mileage fuelType  tax   mpg  \\\n",
       "8728    1 Series  2018  15300       Manual    36469   Diesel  150  50.4   \n",
       "761     5 Series  2014  15495    Semi-Auto    51565   Diesel  160  51.4   \n",
       "7209          X3  2019  39875    Semi-Auto     8988   Diesel  150  36.7   \n",
       "6685    2 Series  2019  21730    Automatic     5054   Petrol  145  39.2   \n",
       "8548    2 Series  2018  13799       Manual    13369   Diesel  145  65.7   \n",
       "...          ...   ...    ...          ...      ...      ...  ...   ...   \n",
       "10391   2 Series  2015  14860    Automatic    26000   Petrol  160  47.1   \n",
       "8692    3 Series  2018  18000       Manual    45344   Diesel  145  64.2   \n",
       "6805          X2  2019  30960    Automatic     7021   Petrol  145  34.0   \n",
       "3782    1 Series  2016  11182       Manual    22499   Petrol  125  53.3   \n",
       "6300    4 Series  2019  25070    Semi-Auto     3038   Diesel  145  65.7   \n",
       "\n",
       "       engineSize  \n",
       "8728          1.5  \n",
       "761           2.0  \n",
       "7209          3.0  \n",
       "6685          1.5  \n",
       "8548          1.5  \n",
       "...           ...  \n",
       "10391         2.0  \n",
       "8692          2.0  \n",
       "6805          2.0  \n",
       "3782          1.5  \n",
       "6300          2.0  \n",
       "\n",
       "[500 rows x 9 columns]"
      ]
     },
     "execution_count": 31,
     "metadata": {},
     "output_type": "execute_result"
    }
   ],
   "source": [
    "sample= df.sample(n=n,random_state=42)\n",
    "sample"
   ]
  },
  {
   "cell_type": "code",
   "execution_count": 32,
   "metadata": {
    "ExecuteTime": {
     "end_time": "2023-10-01T10:17:54.610155Z",
     "start_time": "2023-10-01T10:17:54.601958Z"
    }
   },
   "outputs": [
    {
     "data": {
      "text/plain": [
       "23011.168"
      ]
     },
     "execution_count": 32,
     "metadata": {},
     "output_type": "execute_result"
    }
   ],
   "source": [
    "x = sample['price'].mean()\n",
    "x"
   ]
  },
  {
   "cell_type": "code",
   "execution_count": 33,
   "metadata": {
    "ExecuteTime": {
     "end_time": "2023-10-01T10:17:55.030811Z",
     "start_time": "2023-10-01T10:17:55.017716Z"
    }
   },
   "outputs": [
    {
     "data": {
      "text/plain": [
       "11415.52818903565"
      ]
     },
     "execution_count": 33,
     "metadata": {},
     "output_type": "execute_result"
    }
   ],
   "source": [
    "pop_std = df['price'].std()\n",
    "pop_std"
   ]
  },
  {
   "cell_type": "code",
   "execution_count": 34,
   "metadata": {
    "ExecuteTime": {
     "end_time": "2023-10-01T10:17:59.006631Z",
     "start_time": "2023-10-01T10:17:58.989292Z"
    }
   },
   "outputs": [
    {
     "data": {
      "text/plain": [
       "499"
      ]
     },
     "execution_count": 34,
     "metadata": {},
     "output_type": "execute_result"
    }
   ],
   "source": [
    "df = n - 1\n",
    "df"
   ]
  },
  {
   "cell_type": "code",
   "execution_count": 35,
   "metadata": {
    "ExecuteTime": {
     "end_time": "2023-10-01T10:18:01.552311Z",
     "start_time": "2023-10-01T10:18:01.541789Z"
    }
   },
   "outputs": [
    {
     "data": {
      "text/plain": [
       "1.959963984540054"
      ]
     },
     "execution_count": 35,
     "metadata": {},
     "output_type": "execute_result"
    }
   ],
   "source": [
    "z_score = stats.norm.ppf(1 - alpha/2)\n",
    "z_score"
   ]
  },
  {
   "cell_type": "code",
   "execution_count": 36,
   "metadata": {
    "ExecuteTime": {
     "end_time": "2023-10-01T10:18:15.977280Z",
     "start_time": "2023-10-01T10:18:15.961288Z"
    }
   },
   "outputs": [
    {
     "data": {
      "text/plain": [
       "510.5179405949756"
      ]
     },
     "execution_count": 36,
     "metadata": {},
     "output_type": "execute_result"
    }
   ],
   "source": [
    "standard_error = pop_std/np.sqrt(n)\n",
    "standard_error"
   ]
  },
  {
   "cell_type": "code",
   "execution_count": 37,
   "metadata": {
    "ExecuteTime": {
     "end_time": "2023-10-01T10:18:20.165876Z",
     "start_time": "2023-10-01T10:18:20.150558Z"
    }
   },
   "outputs": [
    {
     "name": "stdout",
     "output_type": "stream",
     "text": [
      "Confidence interval with 95% confidence is 22010.5712 , 24011.7648\n"
     ]
    }
   ],
   "source": [
    "print(f'Confidence interval with 95% confidence is {(x - (z_score*standard_error)):.4f} , {(x + (z_score*standard_error)):.4f}')"
   ]
  },
  {
   "cell_type": "markdown",
   "metadata": {
    "id": "6jZBbFSoi88d"
   },
   "source": [
    "### ``Task 2:``\n",
    "In addition to the price of the car, the manager also wants to now know the average mileage that the car has been driven. But the manager does not have the population standard deviation for the mileage. But the mileage data is available only from the 25 cars that they have sold so far.\n",
    "How do the analyst approach this problem to calculate 95% confidence interval, with only 25 samples?"
   ]
  },
  {
   "cell_type": "markdown",
   "metadata": {},
   "source": [
    "##### let alpha = 0.5 i.e confidence = 95%"
   ]
  },
  {
   "cell_type": "code",
   "execution_count": 38,
   "metadata": {
    "ExecuteTime": {
     "end_time": "2023-10-01T10:22:45.739016Z",
     "start_time": "2023-10-01T10:22:45.736054Z"
    }
   },
   "outputs": [],
   "source": [
    "alpha = 0.05"
   ]
  },
  {
   "cell_type": "code",
   "execution_count": 50,
   "metadata": {
    "ExecuteTime": {
     "end_time": "2023-10-01T10:25:55.802249Z",
     "start_time": "2023-10-01T10:25:55.792802Z"
    }
   },
   "outputs": [
    {
     "data": {
      "text/plain": [
       "25"
      ]
     },
     "execution_count": 50,
     "metadata": {},
     "output_type": "execute_result"
    }
   ],
   "source": [
    "n = sample.shape[0]\n",
    "n"
   ]
  },
  {
   "cell_type": "code",
   "execution_count": 48,
   "metadata": {
    "ExecuteTime": {
     "end_time": "2023-10-01T10:25:47.959455Z",
     "start_time": "2023-10-01T10:25:47.943941Z"
    }
   },
   "outputs": [
    {
     "data": {
      "text/html": [
       "<div>\n",
       "<style scoped>\n",
       "    .dataframe tbody tr th:only-of-type {\n",
       "        vertical-align: middle;\n",
       "    }\n",
       "\n",
       "    .dataframe tbody tr th {\n",
       "        vertical-align: top;\n",
       "    }\n",
       "\n",
       "    .dataframe thead th {\n",
       "        text-align: right;\n",
       "    }\n",
       "</style>\n",
       "<table border=\"1\" class=\"dataframe\">\n",
       "  <thead>\n",
       "    <tr style=\"text-align: right;\">\n",
       "      <th></th>\n",
       "      <th>model</th>\n",
       "      <th>year</th>\n",
       "      <th>price</th>\n",
       "      <th>transmission</th>\n",
       "      <th>mileage</th>\n",
       "      <th>fuelType</th>\n",
       "      <th>tax</th>\n",
       "      <th>mpg</th>\n",
       "      <th>engineSize</th>\n",
       "    </tr>\n",
       "  </thead>\n",
       "  <tbody>\n",
       "    <tr>\n",
       "      <th>8728</th>\n",
       "      <td>1 Series</td>\n",
       "      <td>2018</td>\n",
       "      <td>15300</td>\n",
       "      <td>Manual</td>\n",
       "      <td>36469</td>\n",
       "      <td>Diesel</td>\n",
       "      <td>150</td>\n",
       "      <td>50.4</td>\n",
       "      <td>1.5</td>\n",
       "    </tr>\n",
       "    <tr>\n",
       "      <th>761</th>\n",
       "      <td>5 Series</td>\n",
       "      <td>2014</td>\n",
       "      <td>15495</td>\n",
       "      <td>Semi-Auto</td>\n",
       "      <td>51565</td>\n",
       "      <td>Diesel</td>\n",
       "      <td>160</td>\n",
       "      <td>51.4</td>\n",
       "      <td>2.0</td>\n",
       "    </tr>\n",
       "    <tr>\n",
       "      <th>7209</th>\n",
       "      <td>X3</td>\n",
       "      <td>2019</td>\n",
       "      <td>39875</td>\n",
       "      <td>Semi-Auto</td>\n",
       "      <td>8988</td>\n",
       "      <td>Diesel</td>\n",
       "      <td>150</td>\n",
       "      <td>36.7</td>\n",
       "      <td>3.0</td>\n",
       "    </tr>\n",
       "    <tr>\n",
       "      <th>6685</th>\n",
       "      <td>2 Series</td>\n",
       "      <td>2019</td>\n",
       "      <td>21730</td>\n",
       "      <td>Automatic</td>\n",
       "      <td>5054</td>\n",
       "      <td>Petrol</td>\n",
       "      <td>145</td>\n",
       "      <td>39.2</td>\n",
       "      <td>1.5</td>\n",
       "    </tr>\n",
       "    <tr>\n",
       "      <th>8548</th>\n",
       "      <td>2 Series</td>\n",
       "      <td>2018</td>\n",
       "      <td>13799</td>\n",
       "      <td>Manual</td>\n",
       "      <td>13369</td>\n",
       "      <td>Diesel</td>\n",
       "      <td>145</td>\n",
       "      <td>65.7</td>\n",
       "      <td>1.5</td>\n",
       "    </tr>\n",
       "    <tr>\n",
       "      <th>9385</th>\n",
       "      <td>X5</td>\n",
       "      <td>2016</td>\n",
       "      <td>24499</td>\n",
       "      <td>Automatic</td>\n",
       "      <td>57146</td>\n",
       "      <td>Diesel</td>\n",
       "      <td>160</td>\n",
       "      <td>50.4</td>\n",
       "      <td>2.0</td>\n",
       "    </tr>\n",
       "    <tr>\n",
       "      <th>6085</th>\n",
       "      <td>M3</td>\n",
       "      <td>2018</td>\n",
       "      <td>42202</td>\n",
       "      <td>Semi-Auto</td>\n",
       "      <td>10222</td>\n",
       "      <td>Petrol</td>\n",
       "      <td>145</td>\n",
       "      <td>34.0</td>\n",
       "      <td>3.0</td>\n",
       "    </tr>\n",
       "    <tr>\n",
       "      <th>1885</th>\n",
       "      <td>5 Series</td>\n",
       "      <td>2019</td>\n",
       "      <td>32400</td>\n",
       "      <td>Semi-Auto</td>\n",
       "      <td>7111</td>\n",
       "      <td>Diesel</td>\n",
       "      <td>145</td>\n",
       "      <td>55.4</td>\n",
       "      <td>2.0</td>\n",
       "    </tr>\n",
       "    <tr>\n",
       "      <th>4921</th>\n",
       "      <td>3 Series</td>\n",
       "      <td>2019</td>\n",
       "      <td>28990</td>\n",
       "      <td>Semi-Auto</td>\n",
       "      <td>7322</td>\n",
       "      <td>Diesel</td>\n",
       "      <td>145</td>\n",
       "      <td>52.3</td>\n",
       "      <td>2.0</td>\n",
       "    </tr>\n",
       "    <tr>\n",
       "      <th>1121</th>\n",
       "      <td>4 Series</td>\n",
       "      <td>2016</td>\n",
       "      <td>15790</td>\n",
       "      <td>Semi-Auto</td>\n",
       "      <td>73921</td>\n",
       "      <td>Diesel</td>\n",
       "      <td>160</td>\n",
       "      <td>51.4</td>\n",
       "      <td>3.0</td>\n",
       "    </tr>\n",
       "    <tr>\n",
       "      <th>8139</th>\n",
       "      <td>5 Series</td>\n",
       "      <td>2010</td>\n",
       "      <td>9249</td>\n",
       "      <td>Automatic</td>\n",
       "      <td>94938</td>\n",
       "      <td>Diesel</td>\n",
       "      <td>240</td>\n",
       "      <td>43.5</td>\n",
       "      <td>3.0</td>\n",
       "    </tr>\n",
       "    <tr>\n",
       "      <th>8469</th>\n",
       "      <td>4 Series</td>\n",
       "      <td>2016</td>\n",
       "      <td>15499</td>\n",
       "      <td>Manual</td>\n",
       "      <td>55802</td>\n",
       "      <td>Diesel</td>\n",
       "      <td>30</td>\n",
       "      <td>62.8</td>\n",
       "      <td>2.0</td>\n",
       "    </tr>\n",
       "    <tr>\n",
       "      <th>33</th>\n",
       "      <td>1 Series</td>\n",
       "      <td>2017</td>\n",
       "      <td>20500</td>\n",
       "      <td>Automatic</td>\n",
       "      <td>24029</td>\n",
       "      <td>Petrol</td>\n",
       "      <td>145</td>\n",
       "      <td>39.8</td>\n",
       "      <td>3.0</td>\n",
       "    </tr>\n",
       "    <tr>\n",
       "      <th>1883</th>\n",
       "      <td>1 Series</td>\n",
       "      <td>2019</td>\n",
       "      <td>31790</td>\n",
       "      <td>Semi-Auto</td>\n",
       "      <td>8211</td>\n",
       "      <td>Petrol</td>\n",
       "      <td>145</td>\n",
       "      <td>34.5</td>\n",
       "      <td>2.0</td>\n",
       "    </tr>\n",
       "    <tr>\n",
       "      <th>6041</th>\n",
       "      <td>6 Series</td>\n",
       "      <td>2018</td>\n",
       "      <td>28990</td>\n",
       "      <td>Semi-Auto</td>\n",
       "      <td>10250</td>\n",
       "      <td>Diesel</td>\n",
       "      <td>145</td>\n",
       "      <td>49.6</td>\n",
       "      <td>3.0</td>\n",
       "    </tr>\n",
       "    <tr>\n",
       "      <th>8583</th>\n",
       "      <td>1 Series</td>\n",
       "      <td>2018</td>\n",
       "      <td>12299</td>\n",
       "      <td>Manual</td>\n",
       "      <td>38164</td>\n",
       "      <td>Diesel</td>\n",
       "      <td>145</td>\n",
       "      <td>78.5</td>\n",
       "      <td>1.5</td>\n",
       "    </tr>\n",
       "    <tr>\n",
       "      <th>10297</th>\n",
       "      <td>2 Series</td>\n",
       "      <td>2017</td>\n",
       "      <td>14000</td>\n",
       "      <td>Manual</td>\n",
       "      <td>33859</td>\n",
       "      <td>Diesel</td>\n",
       "      <td>30</td>\n",
       "      <td>64.2</td>\n",
       "      <td>2.0</td>\n",
       "    </tr>\n",
       "    <tr>\n",
       "      <th>4100</th>\n",
       "      <td>i3</td>\n",
       "      <td>2017</td>\n",
       "      <td>19495</td>\n",
       "      <td>Automatic</td>\n",
       "      <td>17338</td>\n",
       "      <td>Hybrid</td>\n",
       "      <td>135</td>\n",
       "      <td>470.8</td>\n",
       "      <td>0.0</td>\n",
       "    </tr>\n",
       "    <tr>\n",
       "      <th>8935</th>\n",
       "      <td>2 Series</td>\n",
       "      <td>2016</td>\n",
       "      <td>14999</td>\n",
       "      <td>Manual</td>\n",
       "      <td>21985</td>\n",
       "      <td>Petrol</td>\n",
       "      <td>160</td>\n",
       "      <td>44.1</td>\n",
       "      <td>2.0</td>\n",
       "    </tr>\n",
       "    <tr>\n",
       "      <th>10294</th>\n",
       "      <td>X3</td>\n",
       "      <td>2017</td>\n",
       "      <td>16950</td>\n",
       "      <td>Automatic</td>\n",
       "      <td>51206</td>\n",
       "      <td>Diesel</td>\n",
       "      <td>145</td>\n",
       "      <td>54.3</td>\n",
       "      <td>2.0</td>\n",
       "    </tr>\n",
       "    <tr>\n",
       "      <th>6480</th>\n",
       "      <td>5 Series</td>\n",
       "      <td>2016</td>\n",
       "      <td>16495</td>\n",
       "      <td>Semi-Auto</td>\n",
       "      <td>40008</td>\n",
       "      <td>Diesel</td>\n",
       "      <td>30</td>\n",
       "      <td>62.8</td>\n",
       "      <td>2.0</td>\n",
       "    </tr>\n",
       "    <tr>\n",
       "      <th>8300</th>\n",
       "      <td>X1</td>\n",
       "      <td>2019</td>\n",
       "      <td>24800</td>\n",
       "      <td>Automatic</td>\n",
       "      <td>10577</td>\n",
       "      <td>Diesel</td>\n",
       "      <td>145</td>\n",
       "      <td>60.1</td>\n",
       "      <td>2.0</td>\n",
       "    </tr>\n",
       "    <tr>\n",
       "      <th>9764</th>\n",
       "      <td>3 Series</td>\n",
       "      <td>2015</td>\n",
       "      <td>14000</td>\n",
       "      <td>Automatic</td>\n",
       "      <td>75800</td>\n",
       "      <td>Diesel</td>\n",
       "      <td>145</td>\n",
       "      <td>55.4</td>\n",
       "      <td>2.0</td>\n",
       "    </tr>\n",
       "    <tr>\n",
       "      <th>5453</th>\n",
       "      <td>4 Series</td>\n",
       "      <td>2019</td>\n",
       "      <td>34995</td>\n",
       "      <td>Automatic</td>\n",
       "      <td>10</td>\n",
       "      <td>Petrol</td>\n",
       "      <td>145</td>\n",
       "      <td>45.6</td>\n",
       "      <td>2.0</td>\n",
       "    </tr>\n",
       "    <tr>\n",
       "      <th>3053</th>\n",
       "      <td>X3</td>\n",
       "      <td>2019</td>\n",
       "      <td>29980</td>\n",
       "      <td>Semi-Auto</td>\n",
       "      <td>6231</td>\n",
       "      <td>Diesel</td>\n",
       "      <td>145</td>\n",
       "      <td>54.3</td>\n",
       "      <td>2.0</td>\n",
       "    </tr>\n",
       "  </tbody>\n",
       "</table>\n",
       "</div>"
      ],
      "text/plain": [
       "           model  year  price transmission  mileage fuelType  tax    mpg  \\\n",
       "8728    1 Series  2018  15300       Manual    36469   Diesel  150   50.4   \n",
       "761     5 Series  2014  15495    Semi-Auto    51565   Diesel  160   51.4   \n",
       "7209          X3  2019  39875    Semi-Auto     8988   Diesel  150   36.7   \n",
       "6685    2 Series  2019  21730    Automatic     5054   Petrol  145   39.2   \n",
       "8548    2 Series  2018  13799       Manual    13369   Diesel  145   65.7   \n",
       "9385          X5  2016  24499    Automatic    57146   Diesel  160   50.4   \n",
       "6085          M3  2018  42202    Semi-Auto    10222   Petrol  145   34.0   \n",
       "1885    5 Series  2019  32400    Semi-Auto     7111   Diesel  145   55.4   \n",
       "4921    3 Series  2019  28990    Semi-Auto     7322   Diesel  145   52.3   \n",
       "1121    4 Series  2016  15790    Semi-Auto    73921   Diesel  160   51.4   \n",
       "8139    5 Series  2010   9249    Automatic    94938   Diesel  240   43.5   \n",
       "8469    4 Series  2016  15499       Manual    55802   Diesel   30   62.8   \n",
       "33      1 Series  2017  20500    Automatic    24029   Petrol  145   39.8   \n",
       "1883    1 Series  2019  31790    Semi-Auto     8211   Petrol  145   34.5   \n",
       "6041    6 Series  2018  28990    Semi-Auto    10250   Diesel  145   49.6   \n",
       "8583    1 Series  2018  12299       Manual    38164   Diesel  145   78.5   \n",
       "10297   2 Series  2017  14000       Manual    33859   Diesel   30   64.2   \n",
       "4100          i3  2017  19495    Automatic    17338   Hybrid  135  470.8   \n",
       "8935    2 Series  2016  14999       Manual    21985   Petrol  160   44.1   \n",
       "10294         X3  2017  16950    Automatic    51206   Diesel  145   54.3   \n",
       "6480    5 Series  2016  16495    Semi-Auto    40008   Diesel   30   62.8   \n",
       "8300          X1  2019  24800    Automatic    10577   Diesel  145   60.1   \n",
       "9764    3 Series  2015  14000    Automatic    75800   Diesel  145   55.4   \n",
       "5453    4 Series  2019  34995    Automatic       10   Petrol  145   45.6   \n",
       "3053          X3  2019  29980    Semi-Auto     6231   Diesel  145   54.3   \n",
       "\n",
       "       engineSize  \n",
       "8728          1.5  \n",
       "761           2.0  \n",
       "7209          3.0  \n",
       "6685          1.5  \n",
       "8548          1.5  \n",
       "9385          2.0  \n",
       "6085          3.0  \n",
       "1885          2.0  \n",
       "4921          2.0  \n",
       "1121          3.0  \n",
       "8139          3.0  \n",
       "8469          2.0  \n",
       "33            3.0  \n",
       "1883          2.0  \n",
       "6041          3.0  \n",
       "8583          1.5  \n",
       "10297         2.0  \n",
       "4100          0.0  \n",
       "8935          2.0  \n",
       "10294         2.0  \n",
       "6480          2.0  \n",
       "8300          2.0  \n",
       "9764          2.0  \n",
       "5453          2.0  \n",
       "3053          2.0  "
      ]
     },
     "execution_count": 48,
     "metadata": {},
     "output_type": "execute_result"
    }
   ],
   "source": [
    "sample = df[df['mileage'].notnull()].sample(n=25,random_state=42)\n",
    "sample"
   ]
  },
  {
   "cell_type": "code",
   "execution_count": 51,
   "metadata": {
    "ExecuteTime": {
     "end_time": "2023-10-01T10:26:02.880998Z",
     "start_time": "2023-10-01T10:26:02.873998Z"
    }
   },
   "outputs": [],
   "source": [
    "df = n-1"
   ]
  },
  {
   "cell_type": "code",
   "execution_count": 54,
   "metadata": {
    "ExecuteTime": {
     "end_time": "2023-10-01T10:26:52.306331Z",
     "start_time": "2023-10-01T10:26:52.297843Z"
    }
   },
   "outputs": [
    {
     "data": {
      "text/plain": [
       "30383.0"
      ]
     },
     "execution_count": 54,
     "metadata": {},
     "output_type": "execute_result"
    }
   ],
   "source": [
    "x = sample['mileage'].mean()\n",
    "x"
   ]
  },
  {
   "cell_type": "code",
   "execution_count": 55,
   "metadata": {
    "ExecuteTime": {
     "end_time": "2023-10-01T10:27:11.181827Z",
     "start_time": "2023-10-01T10:27:11.166774Z"
    }
   },
   "outputs": [
    {
     "data": {
      "text/plain": [
       "26233.994385466096"
      ]
     },
     "execution_count": 55,
     "metadata": {},
     "output_type": "execute_result"
    }
   ],
   "source": [
    "std = sample['mileage'].std()\n",
    "std"
   ]
  },
  {
   "cell_type": "code",
   "execution_count": 56,
   "metadata": {
    "ExecuteTime": {
     "end_time": "2023-10-01T10:27:46.606445Z",
     "start_time": "2023-10-01T10:27:46.586293Z"
    }
   },
   "outputs": [
    {
     "data": {
      "text/plain": [
       "2.0638985616280205"
      ]
     },
     "execution_count": 56,
     "metadata": {},
     "output_type": "execute_result"
    }
   ],
   "source": [
    "t_score = t.ppf(1 - alpha/2,df)\n",
    "t_score"
   ]
  },
  {
   "cell_type": "code",
   "execution_count": 58,
   "metadata": {
    "ExecuteTime": {
     "end_time": "2023-10-01T10:28:11.092583Z",
     "start_time": "2023-10-01T10:28:11.076539Z"
    }
   },
   "outputs": [
    {
     "data": {
      "text/plain": [
       "5246.798877093219"
      ]
     },
     "execution_count": 58,
     "metadata": {},
     "output_type": "execute_result"
    }
   ],
   "source": [
    "standard_error = std/np.sqrt(n)\n",
    "standard_error"
   ]
  },
  {
   "cell_type": "code",
   "execution_count": 59,
   "metadata": {
    "ExecuteTime": {
     "end_time": "2023-10-01T10:28:36.661947Z",
     "start_time": "2023-10-01T10:28:36.646265Z"
    }
   },
   "outputs": [
    {
     "name": "stdout",
     "output_type": "stream",
     "text": [
      "Confidence interval with 95% confidence is 19554.1393 , 41211.8607\n"
     ]
    }
   ],
   "source": [
    "print(f'Confidence interval with 95% confidence is {(x - (t_score*standard_error)):.4f} , {(x + (t_score*standard_error)):.4f}')"
   ]
  },
  {
   "cell_type": "markdown",
   "metadata": {
    "id": "6jZBbFSoi88d"
   },
   "source": [
    "### ``Task 3:``\n",
    "The manager is not happy with both the intervals (intervals from task 1 and 2) as the interval for the confidence is very high. The manager now asks the analyst to estimate the average price of the car (similar to task 1) but within a bound of 750 from the mean with 95% condidence level. How many sample does the analyst have to collect to arrive at this confidence interval level?"
   ]
  },
  {
   "cell_type": "code",
   "execution_count": 63,
   "metadata": {
    "ExecuteTime": {
     "end_time": "2023-10-01T10:53:26.763771Z",
     "start_time": "2023-10-01T10:53:26.705493Z"
    }
   },
   "outputs": [
    {
     "data": {
      "text/html": [
       "<div>\n",
       "<style scoped>\n",
       "    .dataframe tbody tr th:only-of-type {\n",
       "        vertical-align: middle;\n",
       "    }\n",
       "\n",
       "    .dataframe tbody tr th {\n",
       "        vertical-align: top;\n",
       "    }\n",
       "\n",
       "    .dataframe thead th {\n",
       "        text-align: right;\n",
       "    }\n",
       "</style>\n",
       "<table border=\"1\" class=\"dataframe\">\n",
       "  <thead>\n",
       "    <tr style=\"text-align: right;\">\n",
       "      <th></th>\n",
       "      <th>model</th>\n",
       "      <th>year</th>\n",
       "      <th>price</th>\n",
       "      <th>transmission</th>\n",
       "      <th>mileage</th>\n",
       "      <th>fuelType</th>\n",
       "      <th>tax</th>\n",
       "      <th>mpg</th>\n",
       "      <th>engineSize</th>\n",
       "    </tr>\n",
       "  </thead>\n",
       "  <tbody>\n",
       "    <tr>\n",
       "      <th>0</th>\n",
       "      <td>5 Series</td>\n",
       "      <td>2014</td>\n",
       "      <td>11200</td>\n",
       "      <td>Automatic</td>\n",
       "      <td>67068</td>\n",
       "      <td>Diesel</td>\n",
       "      <td>125</td>\n",
       "      <td>57.6</td>\n",
       "      <td>2.0</td>\n",
       "    </tr>\n",
       "    <tr>\n",
       "      <th>1</th>\n",
       "      <td>6 Series</td>\n",
       "      <td>2018</td>\n",
       "      <td>27000</td>\n",
       "      <td>Automatic</td>\n",
       "      <td>14827</td>\n",
       "      <td>Petrol</td>\n",
       "      <td>145</td>\n",
       "      <td>42.8</td>\n",
       "      <td>2.0</td>\n",
       "    </tr>\n",
       "    <tr>\n",
       "      <th>2</th>\n",
       "      <td>5 Series</td>\n",
       "      <td>2016</td>\n",
       "      <td>16000</td>\n",
       "      <td>Automatic</td>\n",
       "      <td>62794</td>\n",
       "      <td>Diesel</td>\n",
       "      <td>160</td>\n",
       "      <td>51.4</td>\n",
       "      <td>3.0</td>\n",
       "    </tr>\n",
       "    <tr>\n",
       "      <th>3</th>\n",
       "      <td>1 Series</td>\n",
       "      <td>2017</td>\n",
       "      <td>12750</td>\n",
       "      <td>Automatic</td>\n",
       "      <td>26676</td>\n",
       "      <td>Diesel</td>\n",
       "      <td>145</td>\n",
       "      <td>72.4</td>\n",
       "      <td>1.5</td>\n",
       "    </tr>\n",
       "    <tr>\n",
       "      <th>4</th>\n",
       "      <td>7 Series</td>\n",
       "      <td>2014</td>\n",
       "      <td>14500</td>\n",
       "      <td>Automatic</td>\n",
       "      <td>39554</td>\n",
       "      <td>Diesel</td>\n",
       "      <td>160</td>\n",
       "      <td>50.4</td>\n",
       "      <td>3.0</td>\n",
       "    </tr>\n",
       "    <tr>\n",
       "      <th>...</th>\n",
       "      <td>...</td>\n",
       "      <td>...</td>\n",
       "      <td>...</td>\n",
       "      <td>...</td>\n",
       "      <td>...</td>\n",
       "      <td>...</td>\n",
       "      <td>...</td>\n",
       "      <td>...</td>\n",
       "      <td>...</td>\n",
       "    </tr>\n",
       "    <tr>\n",
       "      <th>10776</th>\n",
       "      <td>X3</td>\n",
       "      <td>2016</td>\n",
       "      <td>19000</td>\n",
       "      <td>Automatic</td>\n",
       "      <td>40818</td>\n",
       "      <td>Diesel</td>\n",
       "      <td>150</td>\n",
       "      <td>54.3</td>\n",
       "      <td>2.0</td>\n",
       "    </tr>\n",
       "    <tr>\n",
       "      <th>10777</th>\n",
       "      <td>5 Series</td>\n",
       "      <td>2016</td>\n",
       "      <td>14600</td>\n",
       "      <td>Automatic</td>\n",
       "      <td>42947</td>\n",
       "      <td>Diesel</td>\n",
       "      <td>125</td>\n",
       "      <td>60.1</td>\n",
       "      <td>2.0</td>\n",
       "    </tr>\n",
       "    <tr>\n",
       "      <th>10778</th>\n",
       "      <td>3 Series</td>\n",
       "      <td>2017</td>\n",
       "      <td>13100</td>\n",
       "      <td>Manual</td>\n",
       "      <td>25468</td>\n",
       "      <td>Petrol</td>\n",
       "      <td>200</td>\n",
       "      <td>42.8</td>\n",
       "      <td>2.0</td>\n",
       "    </tr>\n",
       "    <tr>\n",
       "      <th>10779</th>\n",
       "      <td>1 Series</td>\n",
       "      <td>2014</td>\n",
       "      <td>9930</td>\n",
       "      <td>Automatic</td>\n",
       "      <td>45000</td>\n",
       "      <td>Diesel</td>\n",
       "      <td>30</td>\n",
       "      <td>64.2</td>\n",
       "      <td>2.0</td>\n",
       "    </tr>\n",
       "    <tr>\n",
       "      <th>10780</th>\n",
       "      <td>X1</td>\n",
       "      <td>2017</td>\n",
       "      <td>15981</td>\n",
       "      <td>Automatic</td>\n",
       "      <td>59432</td>\n",
       "      <td>Diesel</td>\n",
       "      <td>125</td>\n",
       "      <td>57.6</td>\n",
       "      <td>2.0</td>\n",
       "    </tr>\n",
       "  </tbody>\n",
       "</table>\n",
       "<p>10781 rows × 9 columns</p>\n",
       "</div>"
      ],
      "text/plain": [
       "           model  year  price transmission  mileage fuelType  tax   mpg  \\\n",
       "0       5 Series  2014  11200    Automatic    67068   Diesel  125  57.6   \n",
       "1       6 Series  2018  27000    Automatic    14827   Petrol  145  42.8   \n",
       "2       5 Series  2016  16000    Automatic    62794   Diesel  160  51.4   \n",
       "3       1 Series  2017  12750    Automatic    26676   Diesel  145  72.4   \n",
       "4       7 Series  2014  14500    Automatic    39554   Diesel  160  50.4   \n",
       "...          ...   ...    ...          ...      ...      ...  ...   ...   \n",
       "10776         X3  2016  19000    Automatic    40818   Diesel  150  54.3   \n",
       "10777   5 Series  2016  14600    Automatic    42947   Diesel  125  60.1   \n",
       "10778   3 Series  2017  13100       Manual    25468   Petrol  200  42.8   \n",
       "10779   1 Series  2014   9930    Automatic    45000   Diesel   30  64.2   \n",
       "10780         X1  2017  15981    Automatic    59432   Diesel  125  57.6   \n",
       "\n",
       "       engineSize  \n",
       "0             2.0  \n",
       "1             2.0  \n",
       "2             3.0  \n",
       "3             1.5  \n",
       "4             3.0  \n",
       "...           ...  \n",
       "10776         2.0  \n",
       "10777         2.0  \n",
       "10778         2.0  \n",
       "10779         2.0  \n",
       "10780         2.0  \n",
       "\n",
       "[10781 rows x 9 columns]"
      ]
     },
     "execution_count": 63,
     "metadata": {},
     "output_type": "execute_result"
    }
   ],
   "source": [
    "df = pd.read_csv(r\"D:\\Statistics\\tasks\\bmw.csv\")\n",
    "df"
   ]
  },
  {
   "cell_type": "code",
   "execution_count": 70,
   "metadata": {
    "ExecuteTime": {
     "end_time": "2023-10-01T10:55:17.183382Z",
     "start_time": "2023-10-01T10:55:16.939762Z"
    }
   },
   "outputs": [],
   "source": [
    "samples_mean = []\n",
    "stds = []\n",
    "\n",
    "for i in range(500):\n",
    "    sample = df['price'].sample(n=50)\n",
    "    samples_mean.append(sample.mean())\n",
    "    stds.append(sample.std())"
   ]
  },
  {
   "cell_type": "code",
   "execution_count": 71,
   "metadata": {
    "ExecuteTime": {
     "end_time": "2023-10-01T10:55:17.338388Z",
     "start_time": "2023-10-01T10:55:17.330293Z"
    }
   },
   "outputs": [
    {
     "data": {
      "text/plain": [
       "11310.535673789027"
      ]
     },
     "execution_count": 71,
     "metadata": {},
     "output_type": "execute_result"
    }
   ],
   "source": [
    "sample_std = np.mean(stds)\n",
    "sample_std"
   ]
  },
  {
   "cell_type": "code",
   "execution_count": 72,
   "metadata": {
    "ExecuteTime": {
     "end_time": "2023-10-01T10:55:17.779230Z",
     "start_time": "2023-10-01T10:55:17.761484Z"
    }
   },
   "outputs": [
    {
     "data": {
      "text/plain": [
       "22791.866839999995"
      ]
     },
     "execution_count": 72,
     "metadata": {},
     "output_type": "execute_result"
    }
   ],
   "source": [
    "sample_mean = np.mean(samples_mean)\n",
    "sample_mean"
   ]
  },
  {
   "cell_type": "code",
   "execution_count": 73,
   "metadata": {
    "ExecuteTime": {
     "end_time": "2023-10-01T10:58:43.943690Z",
     "start_time": "2023-10-01T10:58:43.934629Z"
    }
   },
   "outputs": [],
   "source": [
    "alpha = 0.05"
   ]
  },
  {
   "cell_type": "markdown",
   "metadata": {},
   "source": [
    "$$n = \\frac{{(Z \\cdot \\sigma)^2}}{{E^2}}$$\n",
    "\n",
    "Where:\n",
    "- $n$ = required sample size\n",
    "- $Z$ = Z-score corresponding to the desired level of confidence (e.g., for a 95% confidence level, $Z$ might be 1.96, which corresponds to the 97.5th percentile of the standard normal distribution)\n",
    "- $\\sigma$ = population standard deviation (if known)\n",
    "- $E$ = desired margin of error (the maximum acceptable difference between the sample estimate and the true population parameter)"
   ]
  },
  {
   "cell_type": "code",
   "execution_count": 74,
   "metadata": {
    "ExecuteTime": {
     "end_time": "2023-10-01T10:58:46.241771Z",
     "start_time": "2023-10-01T10:58:46.223112Z"
    }
   },
   "outputs": [
    {
     "data": {
      "text/plain": [
       "1.959963984540054"
      ]
     },
     "execution_count": 74,
     "metadata": {},
     "output_type": "execute_result"
    }
   ],
   "source": [
    "z = stats.norm.ppf(1- alpha/2)\n",
    "z"
   ]
  },
  {
   "cell_type": "code",
   "execution_count": 75,
   "metadata": {
    "ExecuteTime": {
     "end_time": "2023-10-01T11:00:12.476764Z",
     "start_time": "2023-10-01T11:00:12.466246Z"
    }
   },
   "outputs": [
    {
     "data": {
      "text/plain": [
       "750"
      ]
     },
     "execution_count": 75,
     "metadata": {},
     "output_type": "execute_result"
    }
   ],
   "source": [
    "# margin of error according to question\n",
    "E = 750\n",
    "E"
   ]
  },
  {
   "cell_type": "code",
   "execution_count": 76,
   "metadata": {
    "ExecuteTime": {
     "end_time": "2023-10-01T11:00:35.244686Z",
     "start_time": "2023-10-01T11:00:35.235691Z"
    }
   },
   "outputs": [
    {
     "data": {
      "text/plain": [
       "873.655072864681"
      ]
     },
     "execution_count": 76,
     "metadata": {},
     "output_type": "execute_result"
    }
   ],
   "source": [
    "n = (z*sample_std)**2/(E**2)\n",
    "n"
   ]
  },
  {
   "cell_type": "markdown",
   "metadata": {},
   "source": [
    "##### so we need 873.65 samples to collect to arrive at 95% with margin of error = 750 confidence interval level"
   ]
  },
  {
   "cell_type": "markdown",
   "metadata": {
    "id": "6jZBbFSoi88d"
   },
   "source": [
    "* Task 4:\n",
    "Conversely, after the analyst started collecting the data, after a week he was only able to collect for 420 samples, though he needs 540 samples for Bound of 1,000, if he has to do the analysis now, what is the best interval he can acheive for 95% confidence levels?"
   ]
  },
  {
   "cell_type": "markdown",
   "metadata": {},
   "source": [
    "#### so we need to calculate the bound for 420 samples, we have z and $\\sqrt n$. we need sample std dev"
   ]
  },
  {
   "cell_type": "markdown",
   "metadata": {},
   "source": [
    "$$E = \\frac{(Z \\cdot \\sigma)}{\\sqrt n}$$\n",
    "\n",
    "$$\\text{E = desired margin of error (the maximum acceptable difference between the sample estimate and the true population parameter)}$$"
   ]
  },
  {
   "cell_type": "code",
   "execution_count": 80,
   "metadata": {
    "ExecuteTime": {
     "end_time": "2023-10-01T11:09:32.998811Z",
     "start_time": "2023-10-01T11:09:32.991337Z"
    }
   },
   "outputs": [],
   "source": [
    "n = 420"
   ]
  },
  {
   "cell_type": "code",
   "execution_count": 78,
   "metadata": {
    "ExecuteTime": {
     "end_time": "2023-10-01T11:07:04.136625Z",
     "start_time": "2023-10-01T11:07:04.131624Z"
    }
   },
   "outputs": [],
   "source": [
    "alpha = 0.05"
   ]
  },
  {
   "cell_type": "code",
   "execution_count": 79,
   "metadata": {
    "ExecuteTime": {
     "end_time": "2023-10-01T11:07:04.401387Z",
     "start_time": "2023-10-01T11:07:04.395713Z"
    }
   },
   "outputs": [
    {
     "data": {
      "text/plain": [
       "1.959963984540054"
      ]
     },
     "execution_count": 79,
     "metadata": {},
     "output_type": "execute_result"
    }
   ],
   "source": [
    "z = stats.norm.ppf(1- alpha/2)\n",
    "z"
   ]
  },
  {
   "cell_type": "code",
   "execution_count": 81,
   "metadata": {
    "ExecuteTime": {
     "end_time": "2023-10-01T11:10:08.862558Z",
     "start_time": "2023-10-01T11:10:08.852044Z"
    },
    "id": "77c2kBzBi3Fc"
   },
   "outputs": [
    {
     "data": {
      "text/plain": [
       "11648.805509325048"
      ]
     },
     "execution_count": 81,
     "metadata": {},
     "output_type": "execute_result"
    }
   ],
   "source": [
    "std_dev = np.std(df['price'].sample(n=420))\n",
    "std_dev"
   ]
  },
  {
   "cell_type": "code",
   "execution_count": 83,
   "metadata": {
    "ExecuteTime": {
     "end_time": "2023-10-01T11:10:39.718871Z",
     "start_time": "2023-10-01T11:10:39.713600Z"
    }
   },
   "outputs": [
    {
     "data": {
      "text/plain": [
       "1114.0504030249808"
      ]
     },
     "execution_count": 83,
     "metadata": {},
     "output_type": "execute_result"
    }
   ],
   "source": [
    "E = z * std_dev/np.sqrt(n)\n",
    "E"
   ]
  },
  {
   "cell_type": "markdown",
   "metadata": {},
   "source": [
    "##### The analyst will be able to construct the sample means within 1175 of the population mean with 420 samples."
   ]
  }
 ],
 "metadata": {
  "colab": {
   "provenance": []
  },
  "kernelspec": {
   "display_name": "Python 3 (ipykernel)",
   "language": "python",
   "name": "python3"
  },
  "language_info": {
   "codemirror_mode": {
    "name": "ipython",
    "version": 3
   },
   "file_extension": ".py",
   "mimetype": "text/x-python",
   "name": "python",
   "nbconvert_exporter": "python",
   "pygments_lexer": "ipython3",
   "version": "3.9.13"
  }
 },
 "nbformat": 4,
 "nbformat_minor": 1
}
