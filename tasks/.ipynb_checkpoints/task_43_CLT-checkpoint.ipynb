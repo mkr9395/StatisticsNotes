{
 "cells": [
  {
   "cell_type": "markdown",
   "metadata": {},
   "source": [
    "# Binomial and Bernoulli :"
   ]
  },
  {
   "cell_type": "code",
   "execution_count": 105,
   "metadata": {
    "ExecuteTime": {
     "end_time": "2023-10-01T16:34:43.014084Z",
     "start_time": "2023-10-01T16:34:42.093813Z"
    },
    "id": "DPv5xek6h83n"
   },
   "outputs": [],
   "source": [
    "import scipy.stats as stats\n",
    "import numpy as np\n",
    "import pandas as pd\n",
    "import matplotlib.pyplot as plt"
   ]
  },
  {
   "cell_type": "markdown",
   "metadata": {},
   "source": [
    "## `Question 1:` pmf"
   ]
  },
  {
   "cell_type": "markdown",
   "metadata": {
    "id": "iGYPlZi3iATZ"
   },
   "source": [
    "1. A company claims that their email marketing campaign has a 15% click-through rate. If you randomly select 100 people to receive the email, what is the probability that exactly 20 will click through to the website?"
   ]
  },
  {
   "cell_type": "code",
   "execution_count": 1,
   "metadata": {
    "ExecuteTime": {
     "end_time": "2023-10-01T13:36:33.944630Z",
     "start_time": "2023-10-01T13:36:33.913547Z"
    }
   },
   "outputs": [],
   "source": [
    "n = 100  # Number of trials (people)\n",
    "p = 0.15  # Probability of success (click-through rate)\n",
    "x = 20  # Number of successes we want to find"
   ]
  },
  {
   "cell_type": "code",
   "execution_count": 5,
   "metadata": {
    "ExecuteTime": {
     "end_time": "2023-10-01T13:38:05.086998Z",
     "start_time": "2023-10-01T13:38:05.067031Z"
    }
   },
   "outputs": [
    {
     "data": {
      "text/plain": [
       "0.040224490661417686"
      ]
     },
     "execution_count": 5,
     "metadata": {},
     "output_type": "execute_result"
    }
   ],
   "source": [
    "probability = stats.binom.pmf(x,n,p)\n",
    "probability"
   ]
  },
  {
   "cell_type": "code",
   "execution_count": 8,
   "metadata": {
    "ExecuteTime": {
     "end_time": "2023-10-01T13:38:40.026749Z",
     "start_time": "2023-10-01T13:38:40.016859Z"
    }
   },
   "outputs": [
    {
     "name": "stdout",
     "output_type": "stream",
     "text": [
      "The probability of exactly 20 people clicking through is approximately 4.0224%\n"
     ]
    }
   ],
   "source": [
    "print(f\"The probability of exactly 20 people clicking through is approximately {(probability*100):.4f}%\")"
   ]
  },
  {
   "cell_type": "markdown",
   "metadata": {},
   "source": [
    "## `Question 2:` cdf less than a number"
   ]
  },
  {
   "cell_type": "markdown",
   "metadata": {
    "id": "iGYPlZi3iATZ"
   },
   "source": [
    "2. A researcher is investigating whether a new medication improves patient outcomes. The medication has a success rate of 75%. If the researcher enrolls 50 patients in the study, what is the probability that fewer than 35 will have a positive outcome?"
   ]
  },
  {
   "cell_type": "markdown",
   "metadata": {},
   "source": [
    "### NOTE :  since we need less than 35 patients we will need cdf till 34."
   ]
  },
  {
   "cell_type": "code",
   "execution_count": 18,
   "metadata": {
    "ExecuteTime": {
     "end_time": "2023-10-01T13:55:09.963890Z",
     "start_time": "2023-10-01T13:55:09.949493Z"
    }
   },
   "outputs": [],
   "source": [
    "n = 50\n",
    "p = 0.75\n",
    "k = 34"
   ]
  },
  {
   "cell_type": "code",
   "execution_count": 19,
   "metadata": {
    "ExecuteTime": {
     "end_time": "2023-10-01T13:55:10.197031Z",
     "start_time": "2023-10-01T13:55:10.185239Z"
    }
   },
   "outputs": [
    {
     "data": {
      "text/plain": [
       "0.16308327146260387"
      ]
     },
     "execution_count": 19,
     "metadata": {},
     "output_type": "execute_result"
    }
   ],
   "source": [
    "probability = stats.binom.cdf(k,n,p)\n",
    "probability"
   ]
  },
  {
   "cell_type": "code",
   "execution_count": 16,
   "metadata": {
    "ExecuteTime": {
     "end_time": "2023-10-01T13:52:32.729133Z",
     "start_time": "2023-10-01T13:52:32.718124Z"
    }
   },
   "outputs": [
    {
     "name": "stdout",
     "output_type": "stream",
     "text": [
      "The probability of fewer than 35 will have a positive outcome 6.4776%\n"
     ]
    }
   ],
   "source": [
    "print(f\"The probability of fewer than 35 will have a positive outcome {probability*100:.4f}%\")"
   ]
  },
  {
   "cell_type": "markdown",
   "metadata": {},
   "source": [
    "## `Question 3:` cdf between a range"
   ]
  },
  {
   "cell_type": "markdown",
   "metadata": {
    "id": "iGYPlZi3iATZ"
   },
   "source": [
    "3. A website offers a premium subscription service with a 20% sign-up rate. If you randomly select 500 visitors to the website, what is the probability that between 90 and 110 will sign up for the premium service?"
   ]
  },
  {
   "cell_type": "code",
   "execution_count": 22,
   "metadata": {
    "ExecuteTime": {
     "end_time": "2023-10-01T14:02:06.575654Z",
     "start_time": "2023-10-01T14:02:06.562953Z"
    }
   },
   "outputs": [],
   "source": [
    "n = 500\n",
    "p = 0.20\n",
    "k1 = 110\n",
    "k2 = 90"
   ]
  },
  {
   "cell_type": "code",
   "execution_count": 27,
   "metadata": {
    "ExecuteTime": {
     "end_time": "2023-10-01T14:03:47.431726Z",
     "start_time": "2023-10-01T14:03:47.419863Z"
    }
   },
   "outputs": [
    {
     "data": {
      "text/plain": [
       "0.879024863762046"
      ]
     },
     "execution_count": 27,
     "metadata": {},
     "output_type": "execute_result"
    }
   ],
   "source": [
    "probability_110 = stats.binom.cdf(k1,n,p) \n",
    "probability_110"
   ]
  },
  {
   "cell_type": "markdown",
   "metadata": {},
   "source": [
    "### NOTE : as we want 90's probability too. so we will do k2-1. as k2 -1 will calculate probbaility till 89."
   ]
  },
  {
   "cell_type": "code",
   "execution_count": 30,
   "metadata": {
    "ExecuteTime": {
     "end_time": "2023-10-01T14:06:18.023509Z",
     "start_time": "2023-10-01T14:06:18.004982Z"
    }
   },
   "outputs": [
    {
     "data": {
      "text/plain": [
       "0.11927670297688872"
      ]
     },
     "execution_count": 30,
     "metadata": {},
     "output_type": "execute_result"
    }
   ],
   "source": [
    "probability_90 = stats.binom.cdf(k2-1,n,p) \n",
    "probability_90"
   ]
  },
  {
   "cell_type": "code",
   "execution_count": 31,
   "metadata": {
    "ExecuteTime": {
     "end_time": "2023-10-01T14:06:18.768514Z",
     "start_time": "2023-10-01T14:06:18.761983Z"
    }
   },
   "outputs": [
    {
     "name": "stdout",
     "output_type": "stream",
     "text": [
      "The probability of getting between 90 and 110 will sign up for the premium service 75.9748%\n"
     ]
    }
   ],
   "source": [
    "print(f\"The probability of getting between 90 and 110 will sign up for the premium service {(probability_110 - probability_90)*100:.4f}%\")"
   ]
  },
  {
   "cell_type": "markdown",
   "metadata": {},
   "source": [
    "## `Question 4:`  cdf for greater than"
   ]
  },
  {
   "cell_type": "markdown",
   "metadata": {
    "id": "iGYPlZi3iATZ"
   },
   "source": [
    "4. A school district is investigating the effectiveness of a new reading program. The program has a success rate of 70%. If the district enrolls 200 students in the program, what is the probability that more than 140 will show significant improvement in reading skills?"
   ]
  },
  {
   "cell_type": "code",
   "execution_count": 33,
   "metadata": {
    "ExecuteTime": {
     "end_time": "2023-10-01T14:09:02.084207Z",
     "start_time": "2023-10-01T14:09:02.080209Z"
    }
   },
   "outputs": [],
   "source": [
    "n = 200\n",
    "p = 0.70\n",
    "k = 140"
   ]
  },
  {
   "cell_type": "code",
   "execution_count": 36,
   "metadata": {
    "ExecuteTime": {
     "end_time": "2023-10-01T14:12:11.379089Z",
     "start_time": "2023-10-01T14:12:11.359284Z"
    }
   },
   "outputs": [
    {
     "data": {
      "text/plain": [
       "0.5266525406340704"
      ]
     },
     "execution_count": 36,
     "metadata": {},
     "output_type": "execute_result"
    }
   ],
   "source": [
    "probability = stats.binom.cdf(k,n,p)\n",
    "probability"
   ]
  },
  {
   "cell_type": "markdown",
   "metadata": {},
   "source": [
    "### NOTE : for greater than 140 we will do 1-cdf "
   ]
  },
  {
   "cell_type": "code",
   "execution_count": 38,
   "metadata": {
    "ExecuteTime": {
     "end_time": "2023-10-01T14:12:29.691503Z",
     "start_time": "2023-10-01T14:12:29.684079Z"
    }
   },
   "outputs": [
    {
     "name": "stdout",
     "output_type": "stream",
     "text": [
      "The probability that more than 140 will show significant improvement in reading skills 47.3347%\n"
     ]
    }
   ],
   "source": [
    "print(f\"The probability that more than 140 will show significant improvement in reading skills {(1-probability)*100:.4f}%\")"
   ]
  },
  {
   "cell_type": "markdown",
   "metadata": {},
   "source": [
    "## `Question 5:` cdf for less than"
   ]
  },
  {
   "cell_type": "markdown",
   "metadata": {
    "id": "iGYPlZi3iATZ"
   },
   "source": [
    "5. A factory produces electronic components with a defect rate of 5%. If a shipment of 200 components is sent out, what is the probability that fewer than 10 will be defective?"
   ]
  },
  {
   "cell_type": "code",
   "execution_count": 39,
   "metadata": {
    "ExecuteTime": {
     "end_time": "2023-10-01T14:13:27.518805Z",
     "start_time": "2023-10-01T14:13:27.505105Z"
    }
   },
   "outputs": [],
   "source": [
    "n = 200\n",
    "p = 0.05\n",
    "k = 10"
   ]
  },
  {
   "cell_type": "code",
   "execution_count": 40,
   "metadata": {
    "ExecuteTime": {
     "end_time": "2023-10-01T14:13:49.695629Z",
     "start_time": "2023-10-01T14:13:49.687936Z"
    }
   },
   "outputs": [
    {
     "data": {
      "text/plain": [
       "0.45470980868081556"
      ]
     },
     "execution_count": 40,
     "metadata": {},
     "output_type": "execute_result"
    }
   ],
   "source": [
    "probability = stats.binom.cdf(k-1,n,p)\n",
    "probability"
   ]
  },
  {
   "cell_type": "code",
   "execution_count": 42,
   "metadata": {
    "ExecuteTime": {
     "end_time": "2023-10-01T14:17:54.892385Z",
     "start_time": "2023-10-01T14:17:54.874919Z"
    }
   },
   "outputs": [
    {
     "name": "stdout",
     "output_type": "stream",
     "text": [
      "The probability that fewer than 10 will be defective 45.4710%\n"
     ]
    }
   ],
   "source": [
    "print(f\"The probability that fewer than 10 will be defective {(probability)*100:.4f}%\")"
   ]
  },
  {
   "cell_type": "markdown",
   "metadata": {},
   "source": [
    "## `Question 6:` bernoulli"
   ]
  },
  {
   "cell_type": "markdown",
   "metadata": {
    "id": "iGYPlZi3iATZ"
   },
   "source": [
    "6. A survey shows that 70% of people prefer chocolate ice cream over vanilla ice cream. If you randomly survey one person, what is the probability that they prefer vanilla ice cream?"
   ]
  },
  {
   "cell_type": "code",
   "execution_count": 46,
   "metadata": {
    "ExecuteTime": {
     "end_time": "2023-10-01T14:22:27.035773Z",
     "start_time": "2023-10-01T14:22:27.028723Z"
    }
   },
   "outputs": [
    {
     "data": {
      "text/plain": [
       "0.3"
      ]
     },
     "execution_count": 46,
     "metadata": {},
     "output_type": "execute_result"
    }
   ],
   "source": [
    "p = 0.30\n",
    "n = 100\n",
    "k = 1\n",
    "\n",
    "stats.bernoulli.pmf(1,0.30)"
   ]
  },
  {
   "cell_type": "markdown",
   "metadata": {},
   "source": [
    "This is a Bernoulli trial with p = 0.7. The probability of the person preferring vanilla ice cream is 1 - p = 0.3."
   ]
  },
  {
   "cell_type": "markdown",
   "metadata": {},
   "source": [
    "## `Question 7:` At least"
   ]
  },
  {
   "cell_type": "markdown",
   "metadata": {
    "id": "iGYPlZi3iATZ"
   },
   "source": [
    "7. A software company releases a new product with a bug rate of 2%. If 10,000 copies of the product are sold, what is the probability that at least 250 will have a bug?"
   ]
  },
  {
   "cell_type": "code",
   "execution_count": 47,
   "metadata": {
    "ExecuteTime": {
     "end_time": "2023-10-01T14:24:24.589442Z",
     "start_time": "2023-10-01T14:24:24.585039Z"
    }
   },
   "outputs": [],
   "source": [
    "p = 0.02\n",
    "n =10000\n",
    "k = 250"
   ]
  },
  {
   "cell_type": "code",
   "execution_count": 49,
   "metadata": {
    "ExecuteTime": {
     "end_time": "2023-10-01T14:25:07.459234Z",
     "start_time": "2023-10-01T14:25:07.439170Z"
    }
   },
   "outputs": [
    {
     "data": {
      "text/plain": [
       "0.9996832816627225"
      ]
     },
     "execution_count": 49,
     "metadata": {},
     "output_type": "execute_result"
    }
   ],
   "source": [
    "probability = stats.binom.cdf(k-1,n,p)\n",
    "probability"
   ]
  },
  {
   "cell_type": "code",
   "execution_count": 54,
   "metadata": {
    "ExecuteTime": {
     "end_time": "2023-10-01T14:27:54.360964Z",
     "start_time": "2023-10-01T14:27:54.354868Z"
    }
   },
   "outputs": [
    {
     "name": "stdout",
     "output_type": "stream",
     "text": [
      "The probability that at least 250 will have a bug 0.0317%\n"
     ]
    }
   ],
   "source": [
    "print(f\"The probability that at least 250 will have a bug {(1- probability)*100:.4f}%\")"
   ]
  },
  {
   "cell_type": "markdown",
   "metadata": {
    "id": "iGYPlZi3iATZ"
   },
   "source": [
    "## Central Limit Theorem:"
   ]
  },
  {
   "cell_type": "markdown",
   "metadata": {},
   "source": [
    "## `Question 8:`"
   ]
  },
  {
   "cell_type": "markdown",
   "metadata": {
    "id": "iGYPlZi3iATZ"
   },
   "source": [
    "8. According to data from the National Center for Health Statistics (NCHS), the average height for adult men aged 20 years and over in the United States is approximately 69.2 inches with a standard deviation of approximately 2.9 inches. If you randomly select a sample of 50 adult men aged 20 years and over, what is the probability that the sample mean height is greater than 70 inches?"
   ]
  },
  {
   "cell_type": "code",
   "execution_count": 86,
   "metadata": {
    "ExecuteTime": {
     "end_time": "2023-10-01T16:18:08.831103Z",
     "start_time": "2023-10-01T16:18:08.815687Z"
    }
   },
   "outputs": [],
   "source": [
    "n = 50\n",
    "pop_std = 2.9\n",
    "pop_mean =  69.2\n",
    "sample_mean = 70"
   ]
  },
  {
   "cell_type": "code",
   "execution_count": 87,
   "metadata": {
    "ExecuteTime": {
     "end_time": "2023-10-01T16:18:09.063204Z",
     "start_time": "2023-10-01T16:18:09.056193Z"
    }
   },
   "outputs": [
    {
     "data": {
      "text/plain": [
       "1.950639396376676"
      ]
     },
     "execution_count": 87,
     "metadata": {},
     "output_type": "execute_result"
    }
   ],
   "source": [
    "z = (sample_mean - pop_mean)/(pop_std/np.sqrt(n))\n",
    "z"
   ]
  },
  {
   "cell_type": "code",
   "execution_count": 88,
   "metadata": {
    "ExecuteTime": {
     "end_time": "2023-10-01T16:18:09.281352Z",
     "start_time": "2023-10-01T16:18:09.270844Z"
    }
   },
   "outputs": [
    {
     "data": {
      "text/plain": [
       "0.9744500213698976"
      ]
     },
     "execution_count": 88,
     "metadata": {},
     "output_type": "execute_result"
    }
   ],
   "source": [
    "prob = stats.norm.cdf(z) # till 70\n",
    "prob"
   ]
  },
  {
   "cell_type": "code",
   "execution_count": 89,
   "metadata": {
    "ExecuteTime": {
     "end_time": "2023-10-01T16:18:09.501230Z",
     "start_time": "2023-10-01T16:18:09.496224Z"
    }
   },
   "outputs": [
    {
     "name": "stdout",
     "output_type": "stream",
     "text": [
      "The probability that the sample mean height is greater than 70 inches 2.555%\n"
     ]
    }
   ],
   "source": [
    "print(f\"The probability that the sample mean height is greater than 70 inches {(1- prob)*100:.3f}%\")"
   ]
  },
  {
   "cell_type": "markdown",
   "metadata": {},
   "source": [
    "## `Question 9:`"
   ]
  },
  {
   "cell_type": "markdown",
   "metadata": {
    "id": "iGYPlZi3iATZ"
   },
   "source": [
    "9. A company claims that the average salary of its employees is 75,000 with a standard deviation of 10,000. If you randomly select 100 employees, what is the probability that the sample mean salary is less than 72,500?"
   ]
  },
  {
   "cell_type": "code",
   "execution_count": 91,
   "metadata": {
    "ExecuteTime": {
     "end_time": "2023-10-01T16:19:53.202419Z",
     "start_time": "2023-10-01T16:19:53.186923Z"
    }
   },
   "outputs": [],
   "source": [
    "n = 100\n",
    "pop_std = 10000\n",
    "pop_mean =  75000\n",
    "sample_mean = 72500"
   ]
  },
  {
   "cell_type": "code",
   "execution_count": 92,
   "metadata": {
    "ExecuteTime": {
     "end_time": "2023-10-01T16:19:53.419221Z",
     "start_time": "2023-10-01T16:19:53.406385Z"
    }
   },
   "outputs": [
    {
     "data": {
      "text/plain": [
       "-2.5"
      ]
     },
     "execution_count": 92,
     "metadata": {},
     "output_type": "execute_result"
    }
   ],
   "source": [
    "z = (sample_mean - pop_mean)/(pop_std/np.sqrt(n))\n",
    "z"
   ]
  },
  {
   "cell_type": "code",
   "execution_count": 93,
   "metadata": {
    "ExecuteTime": {
     "end_time": "2023-10-01T16:19:53.636597Z",
     "start_time": "2023-10-01T16:19:53.630086Z"
    }
   },
   "outputs": [
    {
     "data": {
      "text/plain": [
       "0.006209665325776132"
      ]
     },
     "execution_count": 93,
     "metadata": {},
     "output_type": "execute_result"
    }
   ],
   "source": [
    "prob = stats.norm.cdf(z) # till 72500\n",
    "prob"
   ]
  },
  {
   "cell_type": "code",
   "execution_count": 95,
   "metadata": {
    "ExecuteTime": {
     "end_time": "2023-10-01T16:21:34.889338Z",
     "start_time": "2023-10-01T16:21:34.874261Z"
    }
   },
   "outputs": [
    {
     "name": "stdout",
     "output_type": "stream",
     "text": [
      "The probability that the sample mean salary is less than 72,500 0.6210%\n"
     ]
    }
   ],
   "source": [
    "print(f\"The probability that the sample mean salary is less than 72,500 {(prob)*100:.4f}%\")"
   ]
  },
  {
   "cell_type": "markdown",
   "metadata": {},
   "source": [
    "## `Question 10:`"
   ]
  },
  {
   "cell_type": "markdown",
   "metadata": {
    "id": "iGYPlZi3iATZ"
   },
   "source": [
    "10. A restaurant claims that the average wait time for a table is 15 minutes with a standard deviation of 3 minutes. If you randomly survey 50 customers, what is the probability that the sample mean wait time is greater than 16 minutes?\n",
    "Bernoulli Distribution:"
   ]
  },
  {
   "cell_type": "code",
   "execution_count": 96,
   "metadata": {
    "ExecuteTime": {
     "end_time": "2023-10-01T16:28:28.676284Z",
     "start_time": "2023-10-01T16:28:28.665753Z"
    }
   },
   "outputs": [],
   "source": [
    "pop_mean = 15\n",
    "pop_std = 3\n",
    "n = 50\n",
    "sample_mean = 16"
   ]
  },
  {
   "cell_type": "code",
   "execution_count": 98,
   "metadata": {
    "ExecuteTime": {
     "end_time": "2023-10-01T16:29:00.924419Z",
     "start_time": "2023-10-01T16:29:00.916066Z"
    }
   },
   "outputs": [
    {
     "data": {
      "text/plain": [
       "2.3570226039551585"
      ]
     },
     "execution_count": 98,
     "metadata": {},
     "output_type": "execute_result"
    }
   ],
   "source": [
    "z = (sample_mean - pop_mean)/(pop_std/np.sqrt(n))\n",
    "z"
   ]
  },
  {
   "cell_type": "code",
   "execution_count": 99,
   "metadata": {
    "ExecuteTime": {
     "end_time": "2023-10-01T16:30:16.938123Z",
     "start_time": "2023-10-01T16:30:16.930943Z"
    }
   },
   "outputs": [
    {
     "data": {
      "text/plain": [
       "0.9907889372729505"
      ]
     },
     "execution_count": 99,
     "metadata": {},
     "output_type": "execute_result"
    }
   ],
   "source": [
    "prob = stats.norm.cdf(z)\n",
    "prob"
   ]
  },
  {
   "cell_type": "code",
   "execution_count": 100,
   "metadata": {
    "ExecuteTime": {
     "end_time": "2023-10-01T16:31:12.605474Z",
     "start_time": "2023-10-01T16:31:12.602158Z"
    }
   },
   "outputs": [
    {
     "name": "stdout",
     "output_type": "stream",
     "text": [
      "The probability that the sample mean wait time is greater than 16 minutes 0.9211%\n"
     ]
    }
   ],
   "source": [
    "print(f\"The probability that the sample mean wait time is greater than 16 minutes {(1-prob)*100:.4f}%\")"
   ]
  },
  {
   "cell_type": "markdown",
   "metadata": {
    "id": "oF5E7XY8iKMA"
   },
   "source": [
    "### `Q-11`: <span class=\"mark\">DataSet Link:</span> https://www.kaggle.com/datasets/ruchi798/data-science-job-salaries\n",
    "\n",
    "* 11.1 - What is the average and standard deviation for the salary in our data set? Show the distribution of the salary (Histogram and kde both).\n",
    "* 11.2 - Now verify the dataset mean and std from using central limit theorem using following sample and sample size:\n",
    "\n",
    "    * i. 200 samples of size 30\n",
    "\n",
    "    * ii. 100 samples of size 50\n",
    "\n",
    "* 11.3 - <span class=\"mark\">Plot samples means distribution and show horizontal line for both mean value: Dataset mean value and means of sample mean.</span>  "
   ]
  },
  {
   "cell_type": "code",
   "execution_count": 107,
   "metadata": {
    "ExecuteTime": {
     "end_time": "2023-10-01T16:35:46.162682Z",
     "start_time": "2023-10-01T16:35:46.136777Z"
    }
   },
   "outputs": [
    {
     "data": {
      "text/html": [
       "<div>\n",
       "<style scoped>\n",
       "    .dataframe tbody tr th:only-of-type {\n",
       "        vertical-align: middle;\n",
       "    }\n",
       "\n",
       "    .dataframe tbody tr th {\n",
       "        vertical-align: top;\n",
       "    }\n",
       "\n",
       "    .dataframe thead th {\n",
       "        text-align: right;\n",
       "    }\n",
       "</style>\n",
       "<table border=\"1\" class=\"dataframe\">\n",
       "  <thead>\n",
       "    <tr style=\"text-align: right;\">\n",
       "      <th></th>\n",
       "      <th>Unnamed: 0</th>\n",
       "      <th>work_year</th>\n",
       "      <th>experience_level</th>\n",
       "      <th>employment_type</th>\n",
       "      <th>job_title</th>\n",
       "      <th>salary</th>\n",
       "      <th>salary_currency</th>\n",
       "      <th>salary_in_usd</th>\n",
       "      <th>employee_residence</th>\n",
       "      <th>remote_ratio</th>\n",
       "      <th>company_location</th>\n",
       "      <th>company_size</th>\n",
       "    </tr>\n",
       "  </thead>\n",
       "  <tbody>\n",
       "    <tr>\n",
       "      <th>0</th>\n",
       "      <td>0</td>\n",
       "      <td>2020</td>\n",
       "      <td>MI</td>\n",
       "      <td>FT</td>\n",
       "      <td>Data Scientist</td>\n",
       "      <td>70000</td>\n",
       "      <td>EUR</td>\n",
       "      <td>79833</td>\n",
       "      <td>DE</td>\n",
       "      <td>0</td>\n",
       "      <td>DE</td>\n",
       "      <td>L</td>\n",
       "    </tr>\n",
       "    <tr>\n",
       "      <th>1</th>\n",
       "      <td>1</td>\n",
       "      <td>2020</td>\n",
       "      <td>SE</td>\n",
       "      <td>FT</td>\n",
       "      <td>Machine Learning Scientist</td>\n",
       "      <td>260000</td>\n",
       "      <td>USD</td>\n",
       "      <td>260000</td>\n",
       "      <td>JP</td>\n",
       "      <td>0</td>\n",
       "      <td>JP</td>\n",
       "      <td>S</td>\n",
       "    </tr>\n",
       "    <tr>\n",
       "      <th>2</th>\n",
       "      <td>2</td>\n",
       "      <td>2020</td>\n",
       "      <td>SE</td>\n",
       "      <td>FT</td>\n",
       "      <td>Big Data Engineer</td>\n",
       "      <td>85000</td>\n",
       "      <td>GBP</td>\n",
       "      <td>109024</td>\n",
       "      <td>GB</td>\n",
       "      <td>50</td>\n",
       "      <td>GB</td>\n",
       "      <td>M</td>\n",
       "    </tr>\n",
       "    <tr>\n",
       "      <th>3</th>\n",
       "      <td>3</td>\n",
       "      <td>2020</td>\n",
       "      <td>MI</td>\n",
       "      <td>FT</td>\n",
       "      <td>Product Data Analyst</td>\n",
       "      <td>20000</td>\n",
       "      <td>USD</td>\n",
       "      <td>20000</td>\n",
       "      <td>HN</td>\n",
       "      <td>0</td>\n",
       "      <td>HN</td>\n",
       "      <td>S</td>\n",
       "    </tr>\n",
       "    <tr>\n",
       "      <th>4</th>\n",
       "      <td>4</td>\n",
       "      <td>2020</td>\n",
       "      <td>SE</td>\n",
       "      <td>FT</td>\n",
       "      <td>Machine Learning Engineer</td>\n",
       "      <td>150000</td>\n",
       "      <td>USD</td>\n",
       "      <td>150000</td>\n",
       "      <td>US</td>\n",
       "      <td>50</td>\n",
       "      <td>US</td>\n",
       "      <td>L</td>\n",
       "    </tr>\n",
       "    <tr>\n",
       "      <th>...</th>\n",
       "      <td>...</td>\n",
       "      <td>...</td>\n",
       "      <td>...</td>\n",
       "      <td>...</td>\n",
       "      <td>...</td>\n",
       "      <td>...</td>\n",
       "      <td>...</td>\n",
       "      <td>...</td>\n",
       "      <td>...</td>\n",
       "      <td>...</td>\n",
       "      <td>...</td>\n",
       "      <td>...</td>\n",
       "    </tr>\n",
       "    <tr>\n",
       "      <th>602</th>\n",
       "      <td>602</td>\n",
       "      <td>2022</td>\n",
       "      <td>SE</td>\n",
       "      <td>FT</td>\n",
       "      <td>Data Engineer</td>\n",
       "      <td>154000</td>\n",
       "      <td>USD</td>\n",
       "      <td>154000</td>\n",
       "      <td>US</td>\n",
       "      <td>100</td>\n",
       "      <td>US</td>\n",
       "      <td>M</td>\n",
       "    </tr>\n",
       "    <tr>\n",
       "      <th>603</th>\n",
       "      <td>603</td>\n",
       "      <td>2022</td>\n",
       "      <td>SE</td>\n",
       "      <td>FT</td>\n",
       "      <td>Data Engineer</td>\n",
       "      <td>126000</td>\n",
       "      <td>USD</td>\n",
       "      <td>126000</td>\n",
       "      <td>US</td>\n",
       "      <td>100</td>\n",
       "      <td>US</td>\n",
       "      <td>M</td>\n",
       "    </tr>\n",
       "    <tr>\n",
       "      <th>604</th>\n",
       "      <td>604</td>\n",
       "      <td>2022</td>\n",
       "      <td>SE</td>\n",
       "      <td>FT</td>\n",
       "      <td>Data Analyst</td>\n",
       "      <td>129000</td>\n",
       "      <td>USD</td>\n",
       "      <td>129000</td>\n",
       "      <td>US</td>\n",
       "      <td>0</td>\n",
       "      <td>US</td>\n",
       "      <td>M</td>\n",
       "    </tr>\n",
       "    <tr>\n",
       "      <th>605</th>\n",
       "      <td>605</td>\n",
       "      <td>2022</td>\n",
       "      <td>SE</td>\n",
       "      <td>FT</td>\n",
       "      <td>Data Analyst</td>\n",
       "      <td>150000</td>\n",
       "      <td>USD</td>\n",
       "      <td>150000</td>\n",
       "      <td>US</td>\n",
       "      <td>100</td>\n",
       "      <td>US</td>\n",
       "      <td>M</td>\n",
       "    </tr>\n",
       "    <tr>\n",
       "      <th>606</th>\n",
       "      <td>606</td>\n",
       "      <td>2022</td>\n",
       "      <td>MI</td>\n",
       "      <td>FT</td>\n",
       "      <td>AI Scientist</td>\n",
       "      <td>200000</td>\n",
       "      <td>USD</td>\n",
       "      <td>200000</td>\n",
       "      <td>IN</td>\n",
       "      <td>100</td>\n",
       "      <td>US</td>\n",
       "      <td>L</td>\n",
       "    </tr>\n",
       "  </tbody>\n",
       "</table>\n",
       "<p>607 rows × 12 columns</p>\n",
       "</div>"
      ],
      "text/plain": [
       "     Unnamed: 0  work_year experience_level employment_type  \\\n",
       "0             0       2020               MI              FT   \n",
       "1             1       2020               SE              FT   \n",
       "2             2       2020               SE              FT   \n",
       "3             3       2020               MI              FT   \n",
       "4             4       2020               SE              FT   \n",
       "..          ...        ...              ...             ...   \n",
       "602         602       2022               SE              FT   \n",
       "603         603       2022               SE              FT   \n",
       "604         604       2022               SE              FT   \n",
       "605         605       2022               SE              FT   \n",
       "606         606       2022               MI              FT   \n",
       "\n",
       "                      job_title  salary salary_currency  salary_in_usd  \\\n",
       "0                Data Scientist   70000             EUR          79833   \n",
       "1    Machine Learning Scientist  260000             USD         260000   \n",
       "2             Big Data Engineer   85000             GBP         109024   \n",
       "3          Product Data Analyst   20000             USD          20000   \n",
       "4     Machine Learning Engineer  150000             USD         150000   \n",
       "..                          ...     ...             ...            ...   \n",
       "602               Data Engineer  154000             USD         154000   \n",
       "603               Data Engineer  126000             USD         126000   \n",
       "604                Data Analyst  129000             USD         129000   \n",
       "605                Data Analyst  150000             USD         150000   \n",
       "606                AI Scientist  200000             USD         200000   \n",
       "\n",
       "    employee_residence  remote_ratio company_location company_size  \n",
       "0                   DE             0               DE            L  \n",
       "1                   JP             0               JP            S  \n",
       "2                   GB            50               GB            M  \n",
       "3                   HN             0               HN            S  \n",
       "4                   US            50               US            L  \n",
       "..                 ...           ...              ...          ...  \n",
       "602                 US           100               US            M  \n",
       "603                 US           100               US            M  \n",
       "604                 US             0               US            M  \n",
       "605                 US           100               US            M  \n",
       "606                 IN           100               US            L  \n",
       "\n",
       "[607 rows x 12 columns]"
      ]
     },
     "execution_count": 107,
     "metadata": {},
     "output_type": "execute_result"
    }
   ],
   "source": [
    "df = pd.read_csv(r\"D:\\Statistics\\tasks\\ds_salaries.csv\")\n",
    "df"
   ]
  },
  {
   "cell_type": "code",
   "execution_count": 108,
   "metadata": {
    "ExecuteTime": {
     "end_time": "2023-10-01T16:35:53.639676Z",
     "start_time": "2023-10-01T16:35:53.632940Z"
    }
   },
   "outputs": [
    {
     "data": {
      "text/plain": [
       "0       79833\n",
       "1      260000\n",
       "2      109024\n",
       "3       20000\n",
       "4      150000\n",
       "        ...  \n",
       "602    154000\n",
       "603    126000\n",
       "604    129000\n",
       "605    150000\n",
       "606    200000\n",
       "Name: salary_in_usd, Length: 607, dtype: int64"
      ]
     },
     "execution_count": 108,
     "metadata": {},
     "output_type": "execute_result"
    }
   ],
   "source": [
    "df = df['salary_in_usd']\n",
    "df"
   ]
  },
  {
   "cell_type": "code",
   "execution_count": 109,
   "metadata": {
    "ExecuteTime": {
     "end_time": "2023-10-01T16:35:54.217654Z",
     "start_time": "2023-10-01T16:35:54.197561Z"
    }
   },
   "outputs": [
    {
     "data": {
      "text/plain": [
       "112297.86985172982"
      ]
     },
     "execution_count": 109,
     "metadata": {},
     "output_type": "execute_result"
    }
   ],
   "source": [
    "pop_mean = df.mean()\n",
    "pop_mean"
   ]
  },
  {
   "cell_type": "code",
   "execution_count": 110,
   "metadata": {
    "ExecuteTime": {
     "end_time": "2023-10-01T16:35:54.999547Z",
     "start_time": "2023-10-01T16:35:54.992024Z"
    }
   },
   "outputs": [
    {
     "data": {
      "text/plain": [
       "70957.2594113957"
      ]
     },
     "execution_count": 110,
     "metadata": {},
     "output_type": "execute_result"
    }
   ],
   "source": [
    "pop_std = df.std()\n",
    "pop_std"
   ]
  },
  {
   "cell_type": "code",
   "execution_count": 111,
   "metadata": {
    "ExecuteTime": {
     "end_time": "2023-10-01T16:35:55.878307Z",
     "start_time": "2023-10-01T16:35:55.782792Z"
    }
   },
   "outputs": [
    {
     "data": {
      "text/plain": [
       "<AxesSubplot:ylabel='Frequency'>"
      ]
     },
     "execution_count": 111,
     "metadata": {},
     "output_type": "execute_result"
    },
    {
     "data": {
      "image/png": "[encoded data removed]",
      "text/plain": [
       "<Figure size 640x480 with 1 Axes>"
      ]
     },
     "metadata": {},
     "output_type": "display_data"
    }
   ],
   "source": [
    "df.plot(kind='hist')"
   ]
  },
  {
   "cell_type": "code",
   "execution_count": 112,
   "metadata": {
    "ExecuteTime": {
     "end_time": "2023-10-01T16:36:27.277938Z",
     "start_time": "2023-10-01T16:36:27.152844Z"
    }
   },
   "outputs": [
    {
     "data": {
      "text/plain": [
       "<AxesSubplot:ylabel='Density'>"
      ]
     },
     "execution_count": 112,
     "metadata": {},
     "output_type": "execute_result"
    },
    {
     "data": {
      "image/png": "[encoded data removed]",
      "text/plain": [
       "<Figure size 640x480 with 1 Axes>"
      ]
     },
     "metadata": {},
     "output_type": "display_data"
    }
   ],
   "source": [
    "df.plot(kind='kde')"
   ]
  },
  {
   "cell_type": "markdown",
   "metadata": {},
   "source": [
    "- 11.2 - Now verify the dataset mean and std from using central limit theorem using following sample and sample size:\n",
    "\n",
    "    - i. 200 samples of size 30\n",
    "\n",
    "    - ii. 100 samples of size 50"
   ]
  },
  {
   "cell_type": "code",
   "execution_count": 113,
   "metadata": {
    "ExecuteTime": {
     "end_time": "2023-10-01T16:38:29.127127Z",
     "start_time": "2023-10-01T16:38:29.110352Z"
    }
   },
   "outputs": [
    {
     "data": {
      "text/plain": [
       "(112297.86985172982, 70957.2594113957)"
      ]
     },
     "execution_count": 113,
     "metadata": {},
     "output_type": "execute_result"
    }
   ],
   "source": [
    "pop_mean, pop_std"
   ]
  },
  {
   "cell_type": "markdown",
   "metadata": {},
   "source": [
    "#### 200 samples of size 30"
   ]
  },
  {
   "cell_type": "code",
   "execution_count": 115,
   "metadata": {
    "ExecuteTime": {
     "end_time": "2023-10-01T16:42:09.044937Z",
     "start_time": "2023-10-01T16:42:09.007090Z"
    }
   },
   "outputs": [],
   "source": [
    "sample_means = []\n",
    "sample_stds = []\n",
    "\n",
    "\n",
    "for i in range(200):\n",
    "    sample = df.sample(30)\n",
    "    sample_means.append(sample.mean())\n",
    "    sample_stds.append(sample.std(ddof=1))"
   ]
  },
  {
   "cell_type": "code",
   "execution_count": 116,
   "metadata": {
    "ExecuteTime": {
     "end_time": "2023-10-01T16:43:27.310399Z",
     "start_time": "2023-10-01T16:43:27.300937Z"
    }
   },
   "outputs": [
    {
     "data": {
      "text/plain": [
       "(110869.43416666667, 69893.56081425158)"
      ]
     },
     "execution_count": 116,
     "metadata": {},
     "output_type": "execute_result"
    }
   ],
   "source": [
    "mean_sample_means = np.mean(sample_means)\n",
    "mean_sample_std = np.mean(sample_stds)\n",
    "\n",
    "mean_sample_means, mean_sample_std"
   ]
  },
  {
   "cell_type": "markdown",
   "metadata": {},
   "source": [
    "#### 100 samples of size 50"
   ]
  },
  {
   "cell_type": "code",
   "execution_count": 117,
   "metadata": {
    "ExecuteTime": {
     "end_time": "2023-10-01T16:44:21.658629Z",
     "start_time": "2023-10-01T16:44:21.625761Z"
    }
   },
   "outputs": [],
   "source": [
    "sample_means = []\n",
    "sample_stds = []\n",
    "\n",
    "\n",
    "for i in range(100):\n",
    "    sample = df.sample(50)\n",
    "    sample_means.append(sample.mean())\n",
    "    sample_stds.append(sample.std(ddof=1))"
   ]
  },
  {
   "cell_type": "code",
   "execution_count": 118,
   "metadata": {
    "ExecuteTime": {
     "end_time": "2023-10-01T16:44:22.095542Z",
     "start_time": "2023-10-01T16:44:22.080033Z"
    }
   },
   "outputs": [
    {
     "data": {
      "text/plain": [
       "(112353.3426, 70183.61353721321)"
      ]
     },
     "execution_count": 118,
     "metadata": {},
     "output_type": "execute_result"
    }
   ],
   "source": [
    "mean_sample_means = np.mean(sample_means)\n",
    "mean_sample_std = np.mean(sample_stds)\n",
    "\n",
    "mean_sample_means, mean_sample_std"
   ]
  },
  {
   "cell_type": "code",
   "execution_count": null,
   "metadata": {},
   "outputs": [],
   "source": []
  }
 ],
 "metadata": {
  "colab": {
   "provenance": []
  },
  "kernelspec": {
   "display_name": "Python 3 (ipykernel)",
   "language": "python",
   "name": "python3"
  },
  "language_info": {
   "codemirror_mode": {
    "name": "ipython",
    "version": 3
   },
   "file_extension": ".py",
   "mimetype": "text/x-python",
   "name": "python",
   "nbconvert_exporter": "python",
   "pygments_lexer": "ipython3",
   "version": "3.9.13"
  }
 },
 "nbformat": 4,
 "nbformat_minor": 1
}
