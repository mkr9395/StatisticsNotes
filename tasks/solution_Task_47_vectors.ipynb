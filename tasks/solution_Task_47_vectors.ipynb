{
  "nbformat": 4,
  "nbformat_minor": 0,
  "metadata": {
    "colab": {
      "provenance": []
    },
    "kernelspec": {
      "name": "python3",
      "display_name": "Python 3"
    },
    "language_info": {
      "name": "python"
    }
  },
  "cells": [
    {
      "cell_type": "markdown",
      "source": [
        "### Q1. Given the vectors A = [1, 2, 3] and B = [4, 5, 6], calculate the element-wise product of the two vectors."
      ],
      "metadata": {
        "id": "p0XowH4lIsCY"
      }
    },
    {
      "cell_type": "code",
      "source": [
        "# Solution\n",
        "import numpy as np\n",
        "\n",
        "A = np.array([1, 2, 3])\n",
        "B = np.array([4, 5, 6])\n",
        "\n",
        "element_wise_product = A * B\n",
        "\n",
        "print(element_wise_product)\n"
      ],
      "metadata": {
        "colab": {
          "base_uri": "https://localhost:8080/"
        },
        "id": "50YRdB1sIuKd",
        "outputId": "52a3cdb9-bb8b-4042-9080-569316766307"
      },
      "execution_count": null,
      "outputs": [
        {
          "output_type": "stream",
          "name": "stdout",
          "text": [
            "[ 4 10 18]\n"
          ]
        }
      ]
    },
    {
      "cell_type": "markdown",
      "source": [
        "### Q2. Find the magnitude of the vector C = [2, -3, 1].\n"
      ],
      "metadata": {
        "id": "scgddy7XIy_c"
      }
    },
    {
      "cell_type": "code",
      "source": [
        "# Solution\n",
        "\n",
        "import numpy as np\n",
        "\n",
        "C = np.array([2, -3, 1])\n",
        "\n",
        "magnitude = np.linalg.norm(C)\n",
        "\n",
        "print(magnitude)\n",
        "\n",
        "# Method 2\n",
        "\n",
        "print(np.sqrt(np.sum(C**2)))"
      ],
      "metadata": {
        "colab": {
          "base_uri": "https://localhost:8080/"
        },
        "id": "IewpphaFIvOO",
        "outputId": "7cf54dba-2d34-489b-e307-ca261d020a71"
      },
      "execution_count": null,
      "outputs": [
        {
          "output_type": "stream",
          "name": "stdout",
          "text": [
            "3.7416573867739413\n"
          ]
        },
        {
          "output_type": "execute_result",
          "data": {
            "text/plain": [
              "3.7416573867739413"
            ]
          },
          "metadata": {},
          "execution_count": 5
        }
      ]
    },
    {
      "cell_type": "markdown",
      "source": [
        "### Q3. Given the vectors D = [1, 2, 3] and E = [4, 5, 6], calculate the cosine of the angle between them."
      ],
      "metadata": {
        "id": "W1PVZvdlJYeu"
      }
    },
    {
      "cell_type": "code",
      "source": [
        "# Solution\n",
        "import numpy as np\n",
        "\n",
        "D = np.array([1, 2, 3])\n",
        "E = np.array([4, 5, 6])\n",
        "\n",
        "cosine_angle = np.dot(D, E) / (np.linalg.norm(D) * np.linalg.norm(E))\n",
        "\n",
        "print(cosine_angle)\n"
      ],
      "metadata": {
        "id": "e7ff5bA2JDzg"
      },
      "execution_count": null,
      "outputs": []
    },
    {
      "cell_type": "markdown",
      "source": [
        "### Q4. Given the vectors F = [1, 2, 3] and G = [4, 5, 6], calculate the cross product of the two vectors."
      ],
      "metadata": {
        "id": "bIdfhN23KCCU"
      }
    },
    {
      "cell_type": "code",
      "source": [
        "# Solution\n",
        "import numpy as np\n",
        "\n",
        "F = np.array([1, 2, 3])\n",
        "G = np.array([4, 5, 6])\n",
        "\n",
        "cross_product = np.cross(F, G)\n",
        "\n",
        "print(cross_product)\n",
        "\n",
        "# Method 2\n",
        "print(F@G)"
      ],
      "metadata": {
        "id": "212IG1_mKDwr"
      },
      "execution_count": null,
      "outputs": []
    },
    {
      "cell_type": "markdown",
      "source": [
        "### Q5. Given the vector H = [2, 4, 6], shift the vector +1 unit in each dimension"
      ],
      "metadata": {
        "id": "Z27X68kgKFB7"
      }
    },
    {
      "cell_type": "code",
      "source": [
        "# Solution\n",
        "import numpy as np\n",
        "\n",
        "H = np.array([2, 4, 6])\n",
        "\n",
        "shifted_vector = H + 1\n",
        "\n",
        "print(shifted_vector)\n"
      ],
      "metadata": {
        "id": "aNOXUVsqKhp6"
      },
      "execution_count": null,
      "outputs": []
    },
    {
      "cell_type": "markdown",
      "source": [
        "### Q6. Given the vectors I = [1, 2, 3] and J = [4, 5, 6], calculate the projection of vector I onto vector J."
      ],
      "metadata": {
        "id": "f7uNPhjWKqZC"
      }
    },
    {
      "cell_type": "code",
      "source": [
        "# Solution\n",
        "import numpy as np\n",
        "\n",
        "I = np.array([1, 2, 3])\n",
        "J = np.array([4, 5, 6])\n",
        "\n",
        "projection_I_onto_J = (np.dot(I, J) / np.dot(J, J)) * J\n",
        "\n",
        "print(projection_I_onto_J)\n"
      ],
      "metadata": {
        "id": "IjcjYblCKr46"
      },
      "execution_count": null,
      "outputs": []
    },
    {
      "cell_type": "markdown",
      "source": [
        "### Q7. Consider the 2D - position vector a = (1, 3). If b is the point (5, 4), find the vector `ab` and the vector sum `a + ab`. Provide a sketch plot.\n",
        "\n",
        "Note: Search for quiver, to plot an arrow."
      ],
      "metadata": {
        "id": "Lf0lmetXN8xF"
      }
    },
    {
      "cell_type": "code",
      "source": [
        "# Solution\n",
        "import numpy as np\n",
        "import matplotlib.pyplot as plt\n",
        "\n",
        "a = np.array([1, 3])\n",
        "b = np.array([5, 4])\n",
        "\n",
        "# Calculate vector ab\n",
        "ab = b - a\n",
        "print(\"Vector ab:\", ab)\n",
        "\n",
        "# Calculate vector sum a + ab\n",
        "a_plus_ab = a + ab\n",
        "print(\"Vector sum a + ab:\", a_plus_ab)\n",
        "\n",
        "# Plot the vectors a, b, and ab\n",
        "origin = np.array([0, 0])\n",
        "\n",
        "plt.quiver(*origin, a[0], a[1], angles='xy', scale_units='xy', scale=1, color='r', label='a')\n",
        "plt.scatter(b[0], b[1], color='b', label='b')\n",
        "plt.quiver(*a, ab[0], ab[1], angles='xy', scale_units='xy', scale=1, color='g', label='ab')\n",
        "plt.quiver(*origin, a_plus_ab[0], a_plus_ab[1], angles='xy', scale_units='xy', scale=1, color='m', label='a+ab')\n",
        "\n",
        "plt.xlim(-1, 7)\n",
        "plt.ylim(-1, 7)\n",
        "plt.xlabel('x')\n",
        "plt.ylabel('y')\n",
        "plt.legend()\n",
        "plt.grid()\n",
        "plt.show()\n"
      ],
      "metadata": {
        "colab": {
          "base_uri": "https://localhost:8080/",
          "height": 492
        },
        "id": "KEhXZff_Oekn",
        "outputId": "997881b4-a1ab-485e-f7b5-a4ced9512029"
      },
      "execution_count": null,
      "outputs": [
        {
          "output_type": "stream",
          "name": "stdout",
          "text": [
            "Vector ab: [4 1]\n",
            "Vector sum a + ab: [5 4]\n"
          ]
        },
        {
          "output_type": "display_data",
          "data": {
            "text/plain": [
              "<Figure size 640x480 with 1 Axes>"
            ],
            "image/png": "[encoded data removed]"
          },
          "metadata": {}
        }
      ]
    },
    {
      "cell_type": "markdown",
      "source": [
        "### Q8. Given two 2D vectors `u` and `v` where `u = [-1, 4]` and `v = [3, -2]`, find the dot product `u . v`, the angle between `u` and `v`, and the projection of `u` onto `v`."
      ],
      "metadata": {
        "id": "gwYzLGPgO3kX"
      }
    },
    {
      "cell_type": "code",
      "source": [
        "# Solution\n",
        "import numpy as np\n",
        "\n",
        "u = np.array([-1, 4])\n",
        "v = np.array([3, -2])\n",
        "\n",
        "# Dot product of u and v\n",
        "dot_uv = np.dot(u, v)\n",
        "print(\"Dot product of u and v:\", dot_uv)\n",
        "\n",
        "# Angle between u and v in radians\n",
        "cos_theta = dot_uv / (np.linalg.norm(u) * np.linalg.norm(v))\n",
        "theta = np.arccos(cos_theta)\n",
        "print(\"Angle between u and v in radians:\", theta)\n",
        "\n",
        "# Projection of u onto v\n",
        "proj_u_onto_v = (np.dot(u, v) / np.dot(v, v)) * v\n",
        "print(\"Projection of u onto v:\", proj_u_onto_v)\n",
        "\n"
      ],
      "metadata": {
        "colab": {
          "base_uri": "https://localhost:8080/"
        },
        "id": "BMMqUeSWO5Mo",
        "outputId": "180602b2-9efe-4baf-a25e-1011183ebc47"
      },
      "execution_count": null,
      "outputs": [
        {
          "output_type": "stream",
          "name": "stdout",
          "text": [
            "Dot product of u and v: -11\n",
            "Angle between u and v in radians: 2.4037775934693286\n",
            "Projection of u onto v: [-2.53846154  1.69230769]\n"
          ]
        }
      ]
    },
    {
      "cell_type": "markdown",
      "source": [
        "### Q9. Given a hyperplane defined by the equation 3x - 2y + z = 1, find two different points that lie on this hyperplane."
      ],
      "metadata": {
        "id": "OyMaym-0AW4x"
      }
    },
    {
      "cell_type": "code",
      "source": [
        "# Solution\n",
        "import numpy as np\n",
        "\n",
        "# Hyperplane equation: 3x - 2y + z = 1\n",
        "\n",
        "# Let x = 0, y = 0\n",
        "z = 1\n",
        "p1 = np.array([0, 0, z])\n",
        "print(\"Point 1:\", p1)\n",
        "\n",
        "# Let x = 2, y = 5\n",
        "x = 2\n",
        "y = 5\n",
        "z = 3*x - 2*y + 1\n",
        "p2 = np.array([x, y, z])\n",
        "print(p2)\n"
      ],
      "metadata": {
        "colab": {
          "base_uri": "https://localhost:8080/"
        },
        "id": "vrqkQwByPGzk",
        "outputId": "ac574dd6-000d-4537-e507-3f20a23a3a0e"
      },
      "execution_count": null,
      "outputs": [
        {
          "output_type": "stream",
          "name": "stdout",
          "text": [
            "Point 1: [0 0 1]\n",
            "[ 2  5 -3]\n"
          ]
        }
      ]
    },
    {
      "cell_type": "markdown",
      "source": [
        "### Q10. Find a nearest point from a given array of points to a point P1.\n",
        "P1 - (3,9,3)\n",
        "\n",
        "Array of points :\n",
        "```\n",
        "[[1, 8, 5],\n",
        "[8, 8, 2],\n",
        "[7, 9, 1],\n",
        "[5, 6, 3],\n",
        "[9, 1, 2],\n",
        "[6, 5, 9],\n",
        "[5, 8, 6],\n",
        "[3, 4, 8],\n",
        "[6, 8, 4],\n",
        "[7, 2, 7]]\n",
        "```"
      ],
      "metadata": {
        "id": "_kN3NbbQCBQn"
      }
    },
    {
      "cell_type": "code",
      "source": [
        "# Solution\n",
        "\n",
        "import numpy as np\n",
        "import matplotlib.pyplot as plt\n",
        "from mpl_toolkits.mplot3d import Axes3D\n",
        "\n",
        "# Generate array of 10 random 3-D points\n",
        "points = np.array([[1, 8, 5],\n",
        "       [8, 8, 2],\n",
        "       [7, 9, 1],\n",
        "       [5, 6, 3],\n",
        "       [9, 1, 2],\n",
        "       [6, 5, 9],\n",
        "       [5, 8, 6],\n",
        "       [3, 4, 8],\n",
        "       [6, 8, 4],\n",
        "       [7, 2, 7]])\n",
        "\n",
        "# Define target point\n",
        "target = np.array([3, 9, 3])\n",
        "\n",
        "# Calculate distances between target point and each point in the array\n",
        "distances = np.linalg.norm(points - target, axis=1)\n",
        "\n",
        "# Find index of point with shortest distance\n",
        "index_min_distance = np.argmin(distances)\n",
        "\n",
        "# Retrieve point with shortest distance\n",
        "point_min_distance = points[index_min_distance]\n",
        "\n",
        "print(\"Nearest point:\", point_min_distance)\n",
        "\n",
        "\n",
        "# Uncomment below to see plot\n",
        "# # Create figure and axis for 3-D scatter plot\n",
        "# fig = plt.figure()\n",
        "# ax = fig.add_subplot(111, projection='3d')\n",
        "\n",
        "# # Plot all points as blue\n",
        "# ax.scatter(points[:, 0], points[:, 1], points[:, 2], color='blue')\n",
        "\n",
        "# # Plot target point as red\n",
        "# ax.scatter(target[0], target[1], target[2], color='red')\n",
        "\n",
        "# # Plot nearest point as green\n",
        "# ax.scatter(point_min_distance[0], point_min_distance[1], point_min_distance[2], color='yellow')\n",
        "\n",
        "# # Set labels and title\n",
        "# ax.set_xlabel('X')\n",
        "# ax.set_ylabel('Y')\n",
        "# ax.set_zlabel('Z')\n",
        "# ax.set_title('3-D Scatter Plot')\n",
        "\n",
        "# # Show plot\n",
        "# plt.show()\n"
      ],
      "metadata": {
        "colab": {
          "base_uri": "https://localhost:8080/"
        },
        "id": "zeUVU6B6Bk77",
        "outputId": "632486ad-91e6-4234-a003-3091a5227bd6"
      },
      "execution_count": null,
      "outputs": [
        {
          "output_type": "stream",
          "name": "stdout",
          "text": [
            "Nearest point: [1 8 5]\n"
          ]
        }
      ]
    },
    {
      "cell_type": "code",
      "source": [],
      "metadata": {
        "id": "YD-LR-qsDWhW"
      },
      "execution_count": null,
      "outputs": []
    },
    {
      "cell_type": "markdown",
      "source": [
        "### Thank You!!"
      ],
      "metadata": {
        "id": "qxGNE0oFPZsv"
      }
    }
  ]
}