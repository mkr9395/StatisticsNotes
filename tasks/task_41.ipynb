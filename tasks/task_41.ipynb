{
  "nbformat": 4,
  "nbformat_minor": 0,
  "metadata": {
    "colab": {
      "provenance": []
    },
    "kernelspec": {
      "name": "python3",
      "display_name": "Python 3"
    },
    "language_info": {
      "name": "python"
    }
  },
  "cells": [
    {
      "cell_type": "code",
      "execution_count": null,
      "metadata": {
        "id": "vno_Kx2V_9uN"
      },
      "outputs": [],
      "source": []
    },
    {
      "cell_type": "markdown",
      "source": [
        "### `Q.1`. Given a normal distribution with mean as 50 and deviation as 10, answer below questions\n",
        "\n",
        "(X ~ N(5O, 10) ): \n",
        "\n",
        "    a. what are the values of the mean and standard deviation? \n",
        "    \n",
        "    b. What value of x has a z-score of 1.4? \n",
        "\n",
        "    c. What is the Z-score that corresponds to x = 30? \n",
        "\n",
        "    d. What is the difference between positive and negative z values?"
      ],
      "metadata": {
        "id": "upeo0JmIAB_k"
      }
    },
    {
      "cell_type": "code",
      "source": [],
      "metadata": {
        "id": "Zqcyi1aNANWy"
      },
      "execution_count": null,
      "outputs": []
    },
    {
      "cell_type": "markdown",
      "source": [
        "### `Q.2:`The average test score in a certain statistics class was 74 with a standard deviation of 8. There are 2000 students in this class. Use the emperical rule to answer the following questions: \n",
        "    (a) What percentage of students scored less than 58? \n",
        "    (b) What is the probability that a student score between 66 and 82 on the exam? \n",
        "    (c) How many students scored at most 90? \n",
        "    (d) What percentage of students scored at least 66? \n",
        "    (e) How many students scored more than 98 on the test?\n"
      ],
      "metadata": {
        "id": "No3ix_hzAD9v"
      }
    },
    {
      "cell_type": "code",
      "source": [],
      "metadata": {
        "id": "cMrLZsubACgB"
      },
      "execution_count": null,
      "outputs": []
    },
    {
      "cell_type": "markdown",
      "source": [
        "### `Q-3:` Normally distributed IQ scores have a mean of 100 and a standard deviation of 15. Use the standard z-table to answer the following questions:\n",
        "\n",
        "What is the probability of randomly selecting someone with an IQ score that is \n",
        "\n",
        "    (a) less than 80? \n",
        "    (b) greater than 136? \n",
        "    (c) between 95 and 110?\n",
        "    (d) What IQ score corresponds to the 90th percentile? \n",
        "    (e) The middle 30% of IQs fall between what two values?"
      ],
      "metadata": {
        "id": "KhrxtlLPAOm3"
      }
    },
    {
      "cell_type": "code",
      "source": [],
      "metadata": {
        "id": "wkLLeIcuAXX_"
      },
      "execution_count": null,
      "outputs": []
    },
    {
      "cell_type": "markdown",
      "source": [
        "###`Q-4`: Wine data\n",
        "```\n",
        "# Load dataset\n",
        "import pandas as pd\n",
        "from sklearn.datasets import load_wine\n",
        "\n",
        "# load the wine dataset\n",
        "data = load_wine()\n",
        "df = pd.DataFrame(data.data, columns=data.feature_names)\n",
        "df[\"target\"] = data.target\n",
        "\n",
        "```\n",
        "Consider this \"wine\" dataset which can be loaded using above code. It has 13 numerical features and a target column with 3 class: 0, 1, 2. \n",
        "\n",
        "\n",
        "* **Which feature is the best predictor of the wine class in the wine dataset?** (Using pdf plot)\n",
        "\n",
        "* **Which two combination of features from below listed features are best for wine classification?** (2D pdf plot)\n",
        "    * Proline\n",
        "    * Flavanoids\n",
        "    * Color intensity\n",
        "    * OD280/OD315 of diluted wines\n",
        "    * Alcohol"
      ],
      "metadata": {
        "id": "8G5Mv0CwAYCH"
      }
    },
    {
      "cell_type": "code",
      "source": [
        "# code here"
      ],
      "metadata": {
        "id": "FyPSAr8yAozm"
      },
      "execution_count": null,
      "outputs": []
    }
  ]
}