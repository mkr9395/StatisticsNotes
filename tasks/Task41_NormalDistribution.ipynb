{
 "cells": [
  {
   "cell_type": "code",
   "execution_count": 15,
   "metadata": {
    "ExecuteTime": {
     "end_time": "2023-10-02T13:55:28.213252Z",
     "start_time": "2023-10-02T13:55:22.005888Z"
    },
    "id": "vno_Kx2V_9uN"
   },
   "outputs": [],
   "source": [
    "import numpy as np\n",
    "from scipy import stats"
   ]
  },
  {
   "cell_type": "markdown",
   "metadata": {
    "id": "upeo0JmIAB_k"
   },
   "source": [
    "## `Q.1`. Given a normal distribution with mean as 50 and deviation as 10, answer below questions\n",
    "\n",
    "(X ~ N(5O, 10) ): "
   ]
  },
  {
   "cell_type": "markdown",
   "metadata": {
    "id": "upeo0JmIAB_k"
   },
   "source": [
    "### a. what are the values of the mean and standard deviation? "
   ]
  },
  {
   "cell_type": "code",
   "execution_count": 1,
   "metadata": {
    "ExecuteTime": {
     "end_time": "2023-10-02T12:02:28.610130Z",
     "start_time": "2023-10-02T12:02:28.589329Z"
    }
   },
   "outputs": [],
   "source": [
    "mean = 50\n",
    "std = 10"
   ]
  },
  {
   "cell_type": "markdown",
   "metadata": {
    "id": "upeo0JmIAB_k"
   },
   "source": [
    "### b. What value of x has a z-score of 1.4? "
   ]
  },
  {
   "cell_type": "code",
   "execution_count": 2,
   "metadata": {
    "ExecuteTime": {
     "end_time": "2023-10-02T12:03:40.635880Z",
     "start_time": "2023-10-02T12:03:40.627159Z"
    }
   },
   "outputs": [],
   "source": [
    "z = 1.4"
   ]
  },
  {
   "cell_type": "code",
   "execution_count": 3,
   "metadata": {
    "ExecuteTime": {
     "end_time": "2023-10-02T12:04:00.210921Z",
     "start_time": "2023-10-02T12:04:00.192668Z"
    }
   },
   "outputs": [
    {
     "data": {
      "text/plain": [
       "64.0"
      ]
     },
     "execution_count": 3,
     "metadata": {},
     "output_type": "execute_result"
    }
   ],
   "source": [
    "# z = (x-mean)/std\n",
    "x = (z*std) + mean\n",
    "x"
   ]
  },
  {
   "cell_type": "markdown",
   "metadata": {
    "id": "upeo0JmIAB_k"
   },
   "source": [
    "### c. What is the Z-score that corresponds to x = 30? "
   ]
  },
  {
   "cell_type": "code",
   "execution_count": 4,
   "metadata": {
    "ExecuteTime": {
     "end_time": "2023-10-02T12:04:20.914815Z",
     "start_time": "2023-10-02T12:04:20.905846Z"
    }
   },
   "outputs": [],
   "source": [
    "x = 30"
   ]
  },
  {
   "cell_type": "code",
   "execution_count": 5,
   "metadata": {
    "ExecuteTime": {
     "end_time": "2023-10-02T12:04:28.552483Z",
     "start_time": "2023-10-02T12:04:28.546464Z"
    }
   },
   "outputs": [
    {
     "data": {
      "text/plain": [
       "-2.0"
      ]
     },
     "execution_count": 5,
     "metadata": {},
     "output_type": "execute_result"
    }
   ],
   "source": [
    "z = (x - mean)/std\n",
    "z"
   ]
  },
  {
   "cell_type": "markdown",
   "metadata": {
    "id": "upeo0JmIAB_k"
   },
   "source": [
    "### d. What is the difference between positive and negative z values?"
   ]
  },
  {
   "cell_type": "markdown",
   "metadata": {
    "id": "Zqcyi1aNANWy"
   },
   "source": [
    "The sign of the z-score indicates whether the raw score (x) is above or below the mean of the distribution.\n",
    "\n",
    "\n",
    "- A positive z-score indicates that the raw score is above the mean, while \n",
    "\n",
    "\n",
    "- a negative z-score indicates that the raw score is below the mean. \n",
    "\n",
    "\n",
    "\n",
    "- The absolute value of the z-score represents the number of standard deviations away from the mean."
   ]
  },
  {
   "cell_type": "markdown",
   "metadata": {
    "id": "No3ix_hzAD9v"
   },
   "source": [
    "## `Q.2:`The average test score in a certain statistics class was 74 with a standard deviation of 8. There are 2000 students in this class. Use the emperical rule to answer the following questions: "
   ]
  },
  {
   "cell_type": "markdown",
   "metadata": {
    "id": "No3ix_hzAD9v"
   },
   "source": [
    "### (a) What percentage of students scored less than 58? "
   ]
  },
  {
   "cell_type": "code",
   "execution_count": 120,
   "metadata": {
    "ExecuteTime": {
     "end_time": "2023-10-02T19:23:33.434109Z",
     "start_time": "2023-10-02T19:23:33.420152Z"
    }
   },
   "outputs": [],
   "source": [
    "n = 2000\n"
   ]
  },
  {
   "cell_type": "code",
   "execution_count": 121,
   "metadata": {
    "ExecuteTime": {
     "end_time": "2023-10-02T19:23:33.755083Z",
     "start_time": "2023-10-02T19:23:33.743858Z"
    }
   },
   "outputs": [],
   "source": [
    "std = 8\n",
    "mean = 74"
   ]
  },
  {
   "cell_type": "code",
   "execution_count": 10,
   "metadata": {
    "ExecuteTime": {
     "end_time": "2023-10-02T13:27:11.389846Z",
     "start_time": "2023-10-02T13:27:11.373887Z"
    }
   },
   "outputs": [
    {
     "name": "stdout",
     "output_type": "stream",
     "text": [
      "first std dev = [66, 82]\n",
      "second std dev = [58, 90]\n",
      "third std dev = [50, 98]\n"
     ]
    }
   ],
   "source": [
    "print(f'first std dev = [{mean - std}, {mean + std}]')\n",
    "print(f'second std dev = [{mean - 2*std}, {mean + 2*std}]')\n",
    "print(f'third std dev = [{mean - 3*std}, {mean + 3*std}]')"
   ]
  },
  {
   "cell_type": "code",
   "execution_count": 14,
   "metadata": {
    "ExecuteTime": {
     "end_time": "2023-10-02T13:52:02.647136Z",
     "start_time": "2023-10-02T13:52:02.629617Z"
    }
   },
   "outputs": [
    {
     "data": {
      "text/plain": [
       "2.5"
      ]
     },
     "execution_count": 14,
     "metadata": {},
     "output_type": "execute_result"
    }
   ],
   "source": [
    "# less than 58 is \n",
    "\n",
    "(100 - 95)/2"
   ]
  },
  {
   "cell_type": "markdown",
   "metadata": {
    "id": "No3ix_hzAD9v"
   },
   "source": [
    "### (b) What is the probability that a student score between 66 and 82 on the exam? "
   ]
  },
  {
   "cell_type": "code",
   "execution_count": 17,
   "metadata": {
    "ExecuteTime": {
     "end_time": "2023-10-02T14:40:34.966640Z",
     "start_time": "2023-10-02T14:40:34.959560Z"
    }
   },
   "outputs": [
    {
     "data": {
      "text/plain": [
       "(-1.0, 1.0)"
      ]
     },
     "execution_count": 17,
     "metadata": {},
     "output_type": "execute_result"
    }
   ],
   "source": [
    "z1 = (66 - mean)/std\n",
    "z2 = (82 - mean)/std\n",
    "z1,z2"
   ]
  },
  {
   "cell_type": "code",
   "execution_count": 19,
   "metadata": {
    "ExecuteTime": {
     "end_time": "2023-10-02T14:40:43.751669Z",
     "start_time": "2023-10-02T14:40:43.736452Z"
    }
   },
   "outputs": [
    {
     "data": {
      "text/plain": [
       "0.6826894921370859"
      ]
     },
     "execution_count": 19,
     "metadata": {},
     "output_type": "execute_result"
    }
   ],
   "source": [
    "stats.norm.cdf(z2)-stats.norm.cdf(z1)"
   ]
  },
  {
   "cell_type": "markdown",
   "metadata": {},
   "source": [
    "#### There is 68% probability that a student score between 66 and 82 on the exam"
   ]
  },
  {
   "cell_type": "markdown",
   "metadata": {
    "id": "No3ix_hzAD9v"
   },
   "source": [
    "### (c) <span class=\"girk\">How many students scored at most 90?</span> "
   ]
  },
  {
   "cell_type": "code",
   "execution_count": 108,
   "metadata": {
    "ExecuteTime": {
     "end_time": "2023-10-02T19:18:42.024089Z",
     "start_time": "2023-10-02T19:18:42.011612Z"
    }
   },
   "outputs": [
    {
     "data": {
      "text/plain": [
       "2.0"
      ]
     },
     "execution_count": 108,
     "metadata": {},
     "output_type": "execute_result"
    }
   ],
   "source": [
    "z = (90-mean)/std\n",
    "z"
   ]
  },
  {
   "cell_type": "markdown",
   "metadata": {},
   "source": [
    "#### 90 is in 2nd std dev ie. 95%:"
   ]
  },
  {
   "cell_type": "code",
   "execution_count": 113,
   "metadata": {
    "ExecuteTime": {
     "end_time": "2023-10-02T19:20:07.455091Z",
     "start_time": "2023-10-02T19:20:07.440340Z"
    }
   },
   "outputs": [
    {
     "name": "stdout",
     "output_type": "stream",
     "text": [
      "percentage of students getting at most 90 is 97.725 which is 1954.0\n"
     ]
    }
   ],
   "source": [
    "print(f'percentage of students getting at most 90 is {stats.norm.cdf(z)*100:.3f} which is {np.round(stats.norm.cdf(z)*n)}')"
   ]
  },
  {
   "cell_type": "markdown",
   "metadata": {
    "id": "No3ix_hzAD9v"
   },
   "source": [
    "### (d) What percentage of students scored at least 66? "
   ]
  },
  {
   "cell_type": "code",
   "execution_count": 133,
   "metadata": {
    "ExecuteTime": {
     "end_time": "2023-10-02T19:33:32.032904Z",
     "start_time": "2023-10-02T19:33:32.012763Z"
    }
   },
   "outputs": [
    {
     "data": {
      "text/plain": [
       "-1.0"
      ]
     },
     "execution_count": 133,
     "metadata": {},
     "output_type": "execute_result"
    }
   ],
   "source": [
    "z = (66-mean)/std\n",
    "z"
   ]
  },
  {
   "cell_type": "code",
   "execution_count": 134,
   "metadata": {
    "ExecuteTime": {
     "end_time": "2023-10-02T19:33:32.345289Z",
     "start_time": "2023-10-02T19:33:32.331766Z"
    }
   },
   "outputs": [
    {
     "name": "stdout",
     "output_type": "stream",
     "text": [
      "percentage of students getting scored at least 66 is 84.134 which is 1683.0\n"
     ]
    }
   ],
   "source": [
    "print(f'percentage of students getting scored at least 66 is {(1-stats.norm.cdf(z))*100:.3f} which is {np.round((1-stats.norm.cdf(z))*n)}')"
   ]
  },
  {
   "cell_type": "markdown",
   "metadata": {
    "id": "No3ix_hzAD9v"
   },
   "source": [
    "### (e) How many students scored more than 98 on the test?"
   ]
  },
  {
   "cell_type": "code",
   "execution_count": 135,
   "metadata": {
    "ExecuteTime": {
     "end_time": "2023-10-02T19:36:32.629430Z",
     "start_time": "2023-10-02T19:36:32.619600Z"
    }
   },
   "outputs": [
    {
     "data": {
      "text/plain": [
       "3.0"
      ]
     },
     "execution_count": 135,
     "metadata": {},
     "output_type": "execute_result"
    }
   ],
   "source": [
    "z = (98-mean)/std\n",
    "z"
   ]
  },
  {
   "cell_type": "code",
   "execution_count": 137,
   "metadata": {
    "ExecuteTime": {
     "end_time": "2023-10-02T19:36:54.958999Z",
     "start_time": "2023-10-02T19:36:54.946244Z"
    }
   },
   "outputs": [
    {
     "name": "stdout",
     "output_type": "stream",
     "text": [
      "percentage of students getting scored more than 98 is 0.135 which is 3.0\n"
     ]
    }
   ],
   "source": [
    "print(f'percentage of students getting scored more than 98 is {(1-stats.norm.cdf(z))*100:.3f} which is {np.round((1-stats.norm.cdf(z))*n)}')"
   ]
  },
  {
   "cell_type": "markdown",
   "metadata": {
    "id": "KhrxtlLPAOm3"
   },
   "source": [
    "## `Q-3:` Normally distributed IQ scores have a mean of 100 and a standard deviation of 15. Use the standard z-table to answer the following questions:\n",
    "\n",
    "What is the probability of randomly selecting someone with an IQ score that is "
   ]
  },
  {
   "cell_type": "markdown",
   "metadata": {
    "id": "KhrxtlLPAOm3"
   },
   "source": [
    "###    (a) less than 80? "
   ]
  },
  {
   "cell_type": "code",
   "execution_count": 79,
   "metadata": {
    "ExecuteTime": {
     "end_time": "2023-10-02T18:25:20.169479Z",
     "start_time": "2023-10-02T18:25:20.151459Z"
    },
    "id": "wkLLeIcuAXX_"
   },
   "outputs": [],
   "source": [
    "mean = 100\n",
    "std_dev = 15"
   ]
  },
  {
   "cell_type": "code",
   "execution_count": 53,
   "metadata": {
    "ExecuteTime": {
     "end_time": "2023-10-02T18:05:18.138421Z",
     "start_time": "2023-10-02T18:05:18.130866Z"
    }
   },
   "outputs": [
    {
     "data": {
      "text/plain": [
       "-1.3333333333333333"
      ]
     },
     "execution_count": 53,
     "metadata": {},
     "output_type": "execute_result"
    }
   ],
   "source": [
    "z = (80-mean)/std_dev\n",
    "z"
   ]
  },
  {
   "cell_type": "code",
   "execution_count": 54,
   "metadata": {
    "ExecuteTime": {
     "end_time": "2023-10-02T18:05:18.688587Z",
     "start_time": "2023-10-02T18:05:18.681457Z"
    }
   },
   "outputs": [
    {
     "name": "stdout",
     "output_type": "stream",
     "text": [
      "the probability of a randomly selected person having an IQ score less than 80 is approximately 9.12%\n"
     ]
    }
   ],
   "source": [
    "print(f'the probability of a randomly selected person having an IQ score less than 80 is approximately {stats.norm.cdf(z)*100:.2f}%')"
   ]
  },
  {
   "cell_type": "markdown",
   "metadata": {
    "id": "KhrxtlLPAOm3"
   },
   "source": [
    "### (b) greater than 136? "
   ]
  },
  {
   "cell_type": "code",
   "execution_count": 55,
   "metadata": {
    "ExecuteTime": {
     "end_time": "2023-10-02T18:07:37.682450Z",
     "start_time": "2023-10-02T18:07:37.673467Z"
    }
   },
   "outputs": [
    {
     "data": {
      "text/plain": [
       "2.4"
      ]
     },
     "execution_count": 55,
     "metadata": {},
     "output_type": "execute_result"
    }
   ],
   "source": [
    "z = (136-mean)/std_dev\n",
    "z"
   ]
  },
  {
   "cell_type": "code",
   "execution_count": 57,
   "metadata": {
    "ExecuteTime": {
     "end_time": "2023-10-02T18:09:10.147086Z",
     "start_time": "2023-10-02T18:09:10.136148Z"
    }
   },
   "outputs": [
    {
     "name": "stdout",
     "output_type": "stream",
     "text": [
      "the probability of a randomly selected person having an IQ score greater than 136 is approximately 0.82%\n"
     ]
    }
   ],
   "source": [
    "print(f'the probability of a randomly selected person having an IQ score greater than 136 is approximately {(1-stats.norm.cdf(z))*100:.2f}%')"
   ]
  },
  {
   "cell_type": "markdown",
   "metadata": {
    "id": "KhrxtlLPAOm3"
   },
   "source": [
    "###    (c) between 95 and 110?"
   ]
  },
  {
   "cell_type": "code",
   "execution_count": 62,
   "metadata": {
    "ExecuteTime": {
     "end_time": "2023-10-02T18:11:42.315971Z",
     "start_time": "2023-10-02T18:11:42.305018Z"
    }
   },
   "outputs": [
    {
     "data": {
      "text/plain": [
       "0.6666666666666666"
      ]
     },
     "execution_count": 62,
     "metadata": {},
     "output_type": "execute_result"
    }
   ],
   "source": [
    "z1 = (110-mean)/std_dev\n",
    "z1"
   ]
  },
  {
   "cell_type": "code",
   "execution_count": 63,
   "metadata": {
    "ExecuteTime": {
     "end_time": "2023-10-02T18:11:42.640554Z",
     "start_time": "2023-10-02T18:11:42.631439Z"
    }
   },
   "outputs": [
    {
     "data": {
      "text/plain": [
       "-0.3333333333333333"
      ]
     },
     "execution_count": 63,
     "metadata": {},
     "output_type": "execute_result"
    }
   ],
   "source": [
    "z2 = (95-mean)/std_dev\n",
    "z2"
   ]
  },
  {
   "cell_type": "code",
   "execution_count": 67,
   "metadata": {
    "ExecuteTime": {
     "end_time": "2023-10-02T18:12:34.401797Z",
     "start_time": "2023-10-02T18:12:34.393125Z"
    }
   },
   "outputs": [
    {
     "name": "stdout",
     "output_type": "stream",
     "text": [
      "the probability of a randomly selected person having an IQ score between 95 and 110 is approximately 37.81%\n"
     ]
    }
   ],
   "source": [
    "print(f'the probability of a randomly selected person having an IQ score between 95 and 110 is approximately {((stats.norm.cdf(z1))*100 -(stats.norm.cdf(z2))*100) :.2f}%')"
   ]
  },
  {
   "cell_type": "markdown",
   "metadata": {
    "id": "KhrxtlLPAOm3"
   },
   "source": [
    "###    (d) What IQ score corresponds to the 90th percentile? "
   ]
  },
  {
   "cell_type": "code",
   "execution_count": 87,
   "metadata": {
    "ExecuteTime": {
     "end_time": "2023-10-02T18:32:35.500267Z",
     "start_time": "2023-10-02T18:32:35.484729Z"
    }
   },
   "outputs": [],
   "source": [
    "mean = 100\n",
    "std = 15"
   ]
  },
  {
   "cell_type": "code",
   "execution_count": 88,
   "metadata": {
    "ExecuteTime": {
     "end_time": "2023-10-02T18:32:45.290730Z",
     "start_time": "2023-10-02T18:32:45.272476Z"
    }
   },
   "outputs": [],
   "source": [
    "percentile = 0.90"
   ]
  },
  {
   "cell_type": "markdown",
   "metadata": {},
   "source": [
    "##### using `norm.ppf(percentile)` to calculate z_score of a percentile."
   ]
  },
  {
   "cell_type": "code",
   "execution_count": 89,
   "metadata": {
    "ExecuteTime": {
     "end_time": "2023-10-02T18:33:30.976030Z",
     "start_time": "2023-10-02T18:33:30.957653Z"
    }
   },
   "outputs": [
    {
     "data": {
      "text/plain": [
       "1.2815515655446004"
      ]
     },
     "execution_count": 89,
     "metadata": {},
     "output_type": "execute_result"
    }
   ],
   "source": [
    "z_score = stats.norm.ppf(percentile)\n",
    "z_score"
   ]
  },
  {
   "cell_type": "code",
   "execution_count": 90,
   "metadata": {
    "ExecuteTime": {
     "end_time": "2023-10-02T18:35:59.475248Z",
     "start_time": "2023-10-02T18:35:59.459325Z"
    }
   },
   "outputs": [
    {
     "data": {
      "text/plain": [
       "119.22327348316901"
      ]
     },
     "execution_count": 90,
     "metadata": {},
     "output_type": "execute_result"
    }
   ],
   "source": [
    "mean + (z_score * std_dev)"
   ]
  },
  {
   "cell_type": "markdown",
   "metadata": {},
   "source": [
    "##### The IQ score corresponds to the 90th percentile is 119.22"
   ]
  },
  {
   "cell_type": "markdown",
   "metadata": {
    "id": "KhrxtlLPAOm3"
   },
   "source": [
    "###    (e) The middle 30% of IQs fall between what two values?"
   ]
  },
  {
   "cell_type": "code",
   "execution_count": 92,
   "metadata": {
    "ExecuteTime": {
     "end_time": "2023-10-02T18:58:23.332887Z",
     "start_time": "2023-10-02T18:58:23.309836Z"
    }
   },
   "outputs": [
    {
     "name": "stdout",
     "output_type": "stream",
     "text": [
      "The middle 30% of IQs fall between 94.22 and 115.55\n"
     ]
    }
   ],
   "source": [
    "import scipy.stats as stats\n",
    "\n",
    "# Define the mean and standard deviation\n",
    "mean = 100\n",
    "std_dev = 15\n",
    "\n",
    "# Define the lower and upper percentiles\n",
    "lower_percentile = 0.35\n",
    "upper_percentile = 0.85\n",
    "\n",
    "# Calculate the z-scores for the lower and upper percentiles\n",
    "z1 = stats.norm.ppf(lower_percentile)\n",
    "z2 = stats.norm.ppf(upper_percentile)\n",
    "\n",
    "# Calculate the corresponding IQ scores\n",
    "iq_score1 = mean + z1 * std_dev\n",
    "iq_score2 = mean + z2 * std_dev\n",
    "\n",
    "print(f\"The middle 30% of IQs fall between {iq_score1:.2f} and {iq_score2:.2f}\")\n"
   ]
  },
  {
   "cell_type": "code",
   "execution_count": 94,
   "metadata": {
    "ExecuteTime": {
     "end_time": "2023-10-02T19:03:25.335041Z",
     "start_time": "2023-10-02T19:03:25.330037Z"
    }
   },
   "outputs": [],
   "source": [
    "percentage = 30"
   ]
  },
  {
   "cell_type": "code",
   "execution_count": 95,
   "metadata": {
    "ExecuteTime": {
     "end_time": "2023-10-02T19:03:25.661896Z",
     "start_time": "2023-10-02T19:03:25.647727Z"
    }
   },
   "outputs": [
    {
     "data": {
      "text/plain": [
       "1.2815515655446004"
      ]
     },
     "execution_count": 95,
     "metadata": {},
     "output_type": "execute_result"
    }
   ],
   "source": [
    "z_score = stats.norm.ppf(percentile)\n",
    "z_score"
   ]
  },
  {
   "cell_type": "code",
   "execution_count": null,
   "metadata": {},
   "outputs": [],
   "source": []
  },
  {
   "cell_type": "code",
   "execution_count": null,
   "metadata": {},
   "outputs": [],
   "source": []
  },
  {
   "cell_type": "code",
   "execution_count": null,
   "metadata": {},
   "outputs": [],
   "source": []
  },
  {
   "cell_type": "code",
   "execution_count": null,
   "metadata": {},
   "outputs": [],
   "source": []
  },
  {
   "cell_type": "code",
   "execution_count": null,
   "metadata": {},
   "outputs": [],
   "source": []
  },
  {
   "cell_type": "code",
   "execution_count": null,
   "metadata": {},
   "outputs": [],
   "source": []
  },
  {
   "cell_type": "markdown",
   "metadata": {
    "id": "8G5Mv0CwAYCH"
   },
   "source": [
    "## `Q-4`: Wine data\n",
    "```\n",
    "# Load dataset\n",
    "import pandas as pd\n",
    "from sklearn.datasets import load_wine\n",
    "\n",
    "# load the wine dataset\n",
    "data = load_wine()\n",
    "df = pd.DataFrame(data.data, columns=data.feature_names)\n",
    "df[\"target\"] = data.target\n",
    "\n",
    "```\n",
    "Consider this \"wine\" dataset which can be loaded using above code. It has 13 numerical features and a target column with 3 class: 0, 1, 2. \n",
    "\n",
    "\n",
    "* **Which feature is the best predictor of the wine class in the wine dataset?** (Using pdf plot)\n",
    "\n",
    "* **Which two combination of features from below listed features are best for wine classification?** (2D pdf plot)\n",
    "    * Proline\n",
    "    * Flavanoids\n",
    "    * Color intensity\n",
    "    * OD280/OD315 of diluted wines\n",
    "    * Alcohol"
   ]
  },
  {
   "cell_type": "code",
   "execution_count": null,
   "metadata": {
    "id": "FyPSAr8yAozm"
   },
   "outputs": [],
   "source": [
    "# code here"
   ]
  }
 ],
 "metadata": {
  "colab": {
   "provenance": []
  },
  "kernelspec": {
   "display_name": "Python 3 (ipykernel)",
   "language": "python",
   "name": "python3"
  },
  "language_info": {
   "codemirror_mode": {
    "name": "ipython",
    "version": 3
   },
   "file_extension": ".py",
   "mimetype": "text/x-python",
   "name": "python",
   "nbconvert_exporter": "python",
   "pygments_lexer": "ipython3",
   "version": "3.9.13"
  }
 },
 "nbformat": 4,
 "nbformat_minor": 1
}
