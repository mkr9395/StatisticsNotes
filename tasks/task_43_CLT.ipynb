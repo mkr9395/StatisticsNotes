{
  "nbformat": 4,
  "nbformat_minor": 0,
  "metadata": {
    "colab": {
      "provenance": []
    },
    "kernelspec": {
      "name": "python3",
      "display_name": "Python 3"
    },
    "language_info": {
      "name": "python"
    }
  },
  "cells": [
    {
      "cell_type": "code",
      "execution_count": null,
      "metadata": {
        "id": "DPv5xek6h83n"
      },
      "outputs": [],
      "source": []
    },
    {
      "cell_type": "markdown",
      "source": [
        "\n",
        "1. A company claims that their email marketing campaign has a 15% click-through rate. If you randomly select 100 people to receive the email, what is the probability that exactly 20 will click through to the website?\n",
        "2. A researcher is investigating whether a new medication improves patient outcomes. The medication has a success rate of 75%. If the researcher enrolls 50 patients in the study, what is the probability that fewer than 35 will have a positive outcome?\n",
        "\n",
        "3. A website offers a premium subscription service with a 20% sign-up rate. If you randomly select 500 visitors to the website, what is the probability that between 90 and 110 will sign up for the premium service?\n",
        "\n",
        "4. A school district is investigating the effectiveness of a new reading program. The program has a success rate of 70%. If the district enrolls 200 students in the program, what is the probability that more than 140 will show significant improvement in reading skills?\n",
        "\n",
        "\n",
        "5. A factory produces electronic components with a defect rate of 5%. If a shipment of 200 components is sent out, what is the probability that fewer than 10 will be defective?\n",
        "\n",
        "6. A survey shows that 70% of people prefer chocolate ice cream over vanilla ice cream. If you randomly survey one person, what is the probability that they prefer vanilla ice cream?\n",
        "\n",
        "\n",
        "7. A software company releases a new product with a bug rate of 2%. If 10,000 copies of the product are sold, what is the probability that at least 250 will have a bug?\n",
        "\n",
        "8. According to data from the National Center for Health Statistics (NCHS), the average height for adult men aged 20 years and over in the United States is approximately 69.2 inches with a standard deviation of approximately 2.9 inches. If you randomly select a sample of 50 adult men aged 20 years and over, what is the probability that the sample mean height is greater than 70 inches?\n",
        "\n",
        "\n",
        "Central Limit Theorem:\n",
        "9. A company claims that the average salary of its employees is 75,000 with a standard deviation of 10,000. If you randomly select 100 employees, what is the probability that the sample mean salary is less than 72,500?\n",
        "\n",
        "10. A restaurant claims that the average wait time for a table is 15 minutes with a standard deviation of 3 minutes. If you randomly survey 50 customers, what is the probability that the sample mean wait time is greater than 16 minutes?\n",
        "Bernoulli Distribution:\n"
      ],
      "metadata": {
        "id": "iGYPlZi3iATZ"
      }
    },
    {
      "cell_type": "code",
      "source": [],
      "metadata": {
        "id": "oF5E7XY8iKMA"
      },
      "execution_count": null,
      "outputs": []
    }
  ]
}